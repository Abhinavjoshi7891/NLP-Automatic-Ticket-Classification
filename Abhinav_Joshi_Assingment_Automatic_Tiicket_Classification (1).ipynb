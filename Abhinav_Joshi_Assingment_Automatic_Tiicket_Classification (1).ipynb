{
 "cells": [
  {
   "cell_type": "markdown",
   "metadata": {},
   "source": [
    "### Pipelines that needs to be performed:\n",
    "- You need to perform the following eight major tasks to complete the assignment:\n",
    "\n",
    "1. Data loading\n",
    "\n",
    "2. Text preprocessing\n",
    "\n",
    "3. Exploratory data analysis (EDA)\n",
    "\n",
    "4. Feature extraction\n",
    "\n",
    "5. Topic modelling\n",
    "\n",
    "6. Model building using supervised learning\n",
    "\n",
    "7. Model training and evaluation\n",
    "\n",
    "8. Model inference"
   ]
  },
  {
   "cell_type": "markdown",
   "metadata": {},
   "source": [
    "### Problem Statement\n",
    "- You need to build a model that is able to classify customer complaints based on the products/services. By doing so, you can segregate these tickets into their relevant categories and, therefore, help in the quick resolution of the issue.\n",
    "\n",
    "- You will be doing topic modelling on the .json data provided by the company. Since this data is not labelled, you need to apply NMF to analyse patterns and classify tickets into the following five clusters based on their products/services:\n",
    "\n",
    "- Credit card / Prepaid card\n",
    "\n",
    "- Bank account services\n",
    "\n",
    "- Theft/Dispute reporting\n",
    "\n",
    "- Mortgages/loans\n",
    "\n",
    "- Others\n",
    "\n",
    "- With the help of topic modelling, you will be able to map each ticket onto its respective department/category. You can then use this data to train any supervised model such as logistic regression, decision tree or random forest. Using this trained model, you can classify any new customer complaint support ticket into its relevant department."
   ]
  },
  {
   "cell_type": "markdown",
   "metadata": {},
   "source": [
    "## 1. Data Loading"
   ]
  },
  {
   "cell_type": "code",
   "execution_count": 1,
   "metadata": {},
   "outputs": [
    {
     "name": "stderr",
     "output_type": "stream",
     "text": [
      "[nltk_data] Downloading package wordnet to\n",
      "[nltk_data]     /Users/abhinavjoshi/nltk_data...\n",
      "[nltk_data]   Package wordnet is already up-to-date!\n",
      "[nltk_data] Downloading package stopwords to\n",
      "[nltk_data]     /Users/abhinavjoshi/nltk_data...\n",
      "[nltk_data]   Package stopwords is already up-to-date!\n",
      "[nltk_data] Downloading package punkt to\n",
      "[nltk_data]     /Users/abhinavjoshi/nltk_data...\n",
      "[nltk_data]   Package punkt is already up-to-date!\n"
     ]
    },
    {
     "data": {
      "text/plain": [
       "True"
      ]
     },
     "execution_count": 1,
     "metadata": {},
     "output_type": "execute_result"
    }
   ],
   "source": [
    "## importing librraries\n",
    "import json\n",
    "import numpy as np\n",
    "import pandas as pd\n",
    "import re, nltk, spacy, string\n",
    "import en_core_web_sm\n",
    "nlp = en_core_web_sm.load()\n",
    "import seaborn as sns\n",
    "import matplotlib.pyplot as plt\n",
    "%matplotlib inline\n",
    "\n",
    "from plotly.offline import plot\n",
    "import plotly.graph_objects as go\n",
    "import plotly.express as px\n",
    "\n",
    "from sklearn import decomposition\n",
    "from sklearn.feature_extraction.text import CountVectorizer, TfidfVectorizer\n",
    "from pprint import pprint\n",
    "\n",
    "from nltk.stem import WordNetLemmatizer\n",
    "from nltk.corpus import stopwords\n",
    "from nltk.tokenize import word_tokenize\n",
    "\n",
    "nltk.download('wordnet')\n",
    "nltk.download('stopwords')\n",
    "nltk.download('punkt')"
   ]
  },
  {
   "cell_type": "markdown",
   "metadata": {},
   "source": [
    "## Loading the JSON file\n",
    "- The data set is in the .json format"
   ]
  },
  {
   "cell_type": "code",
   "execution_count": 2,
   "metadata": {},
   "outputs": [],
   "source": [
    "## opening the JSON file\n",
    "f = open('/Users/abhinavjoshi/Downloads/complaints-2021-05-14_08_16.json')"
   ]
  },
  {
   "cell_type": "code",
   "execution_count": 4,
   "metadata": {},
   "outputs": [
    {
     "data": {
      "text/html": [
       "<div>\n",
       "<style scoped>\n",
       "    .dataframe tbody tr th:only-of-type {\n",
       "        vertical-align: middle;\n",
       "    }\n",
       "\n",
       "    .dataframe tbody tr th {\n",
       "        vertical-align: top;\n",
       "    }\n",
       "\n",
       "    .dataframe thead th {\n",
       "        text-align: right;\n",
       "    }\n",
       "</style>\n",
       "<table border=\"1\" class=\"dataframe\">\n",
       "  <thead>\n",
       "    <tr style=\"text-align: right;\">\n",
       "      <th></th>\n",
       "      <th>_index</th>\n",
       "      <th>_type</th>\n",
       "      <th>_id</th>\n",
       "      <th>_score</th>\n",
       "      <th>_source.tags</th>\n",
       "      <th>_source.zip_code</th>\n",
       "      <th>_source.complaint_id</th>\n",
       "      <th>_source.issue</th>\n",
       "      <th>_source.date_received</th>\n",
       "      <th>_source.state</th>\n",
       "      <th>...</th>\n",
       "      <th>_source.company_response</th>\n",
       "      <th>_source.company</th>\n",
       "      <th>_source.submitted_via</th>\n",
       "      <th>_source.date_sent_to_company</th>\n",
       "      <th>_source.company_public_response</th>\n",
       "      <th>_source.sub_product</th>\n",
       "      <th>_source.timely</th>\n",
       "      <th>_source.complaint_what_happened</th>\n",
       "      <th>_source.sub_issue</th>\n",
       "      <th>_source.consumer_consent_provided</th>\n",
       "    </tr>\n",
       "  </thead>\n",
       "  <tbody>\n",
       "    <tr>\n",
       "      <th>0</th>\n",
       "      <td>complaint-public-v2</td>\n",
       "      <td>complaint</td>\n",
       "      <td>3211475</td>\n",
       "      <td>0.0</td>\n",
       "      <td>None</td>\n",
       "      <td>90301</td>\n",
       "      <td>3211475</td>\n",
       "      <td>Attempts to collect debt not owed</td>\n",
       "      <td>2019-04-13T12:00:00-05:00</td>\n",
       "      <td>CA</td>\n",
       "      <td>...</td>\n",
       "      <td>Closed with explanation</td>\n",
       "      <td>JPMORGAN CHASE &amp; CO.</td>\n",
       "      <td>Web</td>\n",
       "      <td>2019-04-13T12:00:00-05:00</td>\n",
       "      <td>None</td>\n",
       "      <td>Credit card debt</td>\n",
       "      <td>Yes</td>\n",
       "      <td></td>\n",
       "      <td>Debt is not yours</td>\n",
       "      <td>Consent not provided</td>\n",
       "    </tr>\n",
       "    <tr>\n",
       "      <th>1</th>\n",
       "      <td>complaint-public-v2</td>\n",
       "      <td>complaint</td>\n",
       "      <td>3229299</td>\n",
       "      <td>0.0</td>\n",
       "      <td>Servicemember</td>\n",
       "      <td>319XX</td>\n",
       "      <td>3229299</td>\n",
       "      <td>Written notification about debt</td>\n",
       "      <td>2019-05-01T12:00:00-05:00</td>\n",
       "      <td>GA</td>\n",
       "      <td>...</td>\n",
       "      <td>Closed with explanation</td>\n",
       "      <td>JPMORGAN CHASE &amp; CO.</td>\n",
       "      <td>Web</td>\n",
       "      <td>2019-05-01T12:00:00-05:00</td>\n",
       "      <td>None</td>\n",
       "      <td>Credit card debt</td>\n",
       "      <td>Yes</td>\n",
       "      <td>Good morning my name is XXXX XXXX and I apprec...</td>\n",
       "      <td>Didn't receive enough information to verify debt</td>\n",
       "      <td>Consent provided</td>\n",
       "    </tr>\n",
       "    <tr>\n",
       "      <th>2</th>\n",
       "      <td>complaint-public-v2</td>\n",
       "      <td>complaint</td>\n",
       "      <td>3199379</td>\n",
       "      <td>0.0</td>\n",
       "      <td>None</td>\n",
       "      <td>77069</td>\n",
       "      <td>3199379</td>\n",
       "      <td>Other features, terms, or problems</td>\n",
       "      <td>2019-04-02T12:00:00-05:00</td>\n",
       "      <td>TX</td>\n",
       "      <td>...</td>\n",
       "      <td>Closed with explanation</td>\n",
       "      <td>JPMORGAN CHASE &amp; CO.</td>\n",
       "      <td>Web</td>\n",
       "      <td>2019-04-02T12:00:00-05:00</td>\n",
       "      <td>None</td>\n",
       "      <td>General-purpose credit card or charge card</td>\n",
       "      <td>Yes</td>\n",
       "      <td>I upgraded my XXXX XXXX card in XX/XX/2018 and...</td>\n",
       "      <td>Problem with rewards from credit card</td>\n",
       "      <td>Consent provided</td>\n",
       "    </tr>\n",
       "    <tr>\n",
       "      <th>3</th>\n",
       "      <td>complaint-public-v2</td>\n",
       "      <td>complaint</td>\n",
       "      <td>2673060</td>\n",
       "      <td>0.0</td>\n",
       "      <td>None</td>\n",
       "      <td>48066</td>\n",
       "      <td>2673060</td>\n",
       "      <td>Trouble during payment process</td>\n",
       "      <td>2017-09-13T12:00:00-05:00</td>\n",
       "      <td>MI</td>\n",
       "      <td>...</td>\n",
       "      <td>Closed with explanation</td>\n",
       "      <td>JPMORGAN CHASE &amp; CO.</td>\n",
       "      <td>Web</td>\n",
       "      <td>2017-09-14T12:00:00-05:00</td>\n",
       "      <td>None</td>\n",
       "      <td>Conventional home mortgage</td>\n",
       "      <td>Yes</td>\n",
       "      <td></td>\n",
       "      <td>None</td>\n",
       "      <td>Consent not provided</td>\n",
       "    </tr>\n",
       "    <tr>\n",
       "      <th>4</th>\n",
       "      <td>complaint-public-v2</td>\n",
       "      <td>complaint</td>\n",
       "      <td>3203545</td>\n",
       "      <td>0.0</td>\n",
       "      <td>None</td>\n",
       "      <td>10473</td>\n",
       "      <td>3203545</td>\n",
       "      <td>Fees or interest</td>\n",
       "      <td>2019-04-05T12:00:00-05:00</td>\n",
       "      <td>NY</td>\n",
       "      <td>...</td>\n",
       "      <td>Closed with explanation</td>\n",
       "      <td>JPMORGAN CHASE &amp; CO.</td>\n",
       "      <td>Referral</td>\n",
       "      <td>2019-04-05T12:00:00-05:00</td>\n",
       "      <td>None</td>\n",
       "      <td>General-purpose credit card or charge card</td>\n",
       "      <td>Yes</td>\n",
       "      <td></td>\n",
       "      <td>Charged too much interest</td>\n",
       "      <td>N/A</td>\n",
       "    </tr>\n",
       "  </tbody>\n",
       "</table>\n",
       "<p>5 rows × 22 columns</p>\n",
       "</div>"
      ],
      "text/plain": [
       "                _index      _type      _id  _score   _source.tags  \\\n",
       "0  complaint-public-v2  complaint  3211475     0.0           None   \n",
       "1  complaint-public-v2  complaint  3229299     0.0  Servicemember   \n",
       "2  complaint-public-v2  complaint  3199379     0.0           None   \n",
       "3  complaint-public-v2  complaint  2673060     0.0           None   \n",
       "4  complaint-public-v2  complaint  3203545     0.0           None   \n",
       "\n",
       "  _source.zip_code _source.complaint_id                       _source.issue  \\\n",
       "0            90301              3211475   Attempts to collect debt not owed   \n",
       "1            319XX              3229299     Written notification about debt   \n",
       "2            77069              3199379  Other features, terms, or problems   \n",
       "3            48066              2673060      Trouble during payment process   \n",
       "4            10473              3203545                    Fees or interest   \n",
       "\n",
       "       _source.date_received _source.state  ... _source.company_response  \\\n",
       "0  2019-04-13T12:00:00-05:00            CA  ...  Closed with explanation   \n",
       "1  2019-05-01T12:00:00-05:00            GA  ...  Closed with explanation   \n",
       "2  2019-04-02T12:00:00-05:00            TX  ...  Closed with explanation   \n",
       "3  2017-09-13T12:00:00-05:00            MI  ...  Closed with explanation   \n",
       "4  2019-04-05T12:00:00-05:00            NY  ...  Closed with explanation   \n",
       "\n",
       "        _source.company _source.submitted_via _source.date_sent_to_company  \\\n",
       "0  JPMORGAN CHASE & CO.                   Web    2019-04-13T12:00:00-05:00   \n",
       "1  JPMORGAN CHASE & CO.                   Web    2019-05-01T12:00:00-05:00   \n",
       "2  JPMORGAN CHASE & CO.                   Web    2019-04-02T12:00:00-05:00   \n",
       "3  JPMORGAN CHASE & CO.                   Web    2017-09-14T12:00:00-05:00   \n",
       "4  JPMORGAN CHASE & CO.              Referral    2019-04-05T12:00:00-05:00   \n",
       "\n",
       "  _source.company_public_response                         _source.sub_product  \\\n",
       "0                            None                            Credit card debt   \n",
       "1                            None                            Credit card debt   \n",
       "2                            None  General-purpose credit card or charge card   \n",
       "3                            None                  Conventional home mortgage   \n",
       "4                            None  General-purpose credit card or charge card   \n",
       "\n",
       "  _source.timely                    _source.complaint_what_happened  \\\n",
       "0            Yes                                                      \n",
       "1            Yes  Good morning my name is XXXX XXXX and I apprec...   \n",
       "2            Yes  I upgraded my XXXX XXXX card in XX/XX/2018 and...   \n",
       "3            Yes                                                      \n",
       "4            Yes                                                      \n",
       "\n",
       "                                  _source.sub_issue  \\\n",
       "0                                 Debt is not yours   \n",
       "1  Didn't receive enough information to verify debt   \n",
       "2             Problem with rewards from credit card   \n",
       "3                                              None   \n",
       "4                         Charged too much interest   \n",
       "\n",
       "  _source.consumer_consent_provided  \n",
       "0              Consent not provided  \n",
       "1                  Consent provided  \n",
       "2                  Consent provided  \n",
       "3              Consent not provided  \n",
       "4                               N/A  \n",
       "\n",
       "[5 rows x 22 columns]"
      ]
     },
     "execution_count": 4,
     "metadata": {},
     "output_type": "execute_result"
    }
   ],
   "source": [
    "## converting the file to dataframe\n",
    "data = json.load(f)\n",
    "df = pd.json_normalize(data)\n",
    "df.head()"
   ]
  },
  {
   "cell_type": "code",
   "execution_count": 5,
   "metadata": {},
   "outputs": [
    {
     "data": {
      "text/plain": [
       "(78313, 22)"
      ]
     },
     "execution_count": 5,
     "metadata": {},
     "output_type": "execute_result"
    }
   ],
   "source": [
    "## checking shape\n",
    "df.shape"
   ]
  },
  {
   "cell_type": "markdown",
   "metadata": {},
   "source": [
    "- The data set contains 78,313 customer complaints with 22 features."
   ]
  },
  {
   "cell_type": "code",
   "execution_count": 6,
   "metadata": {},
   "outputs": [
    {
     "data": {
      "text/plain": [
       "Index(['_index', '_type', '_id', '_score', '_source.tags', '_source.zip_code',\n",
       "       '_source.complaint_id', '_source.issue', '_source.date_received',\n",
       "       '_source.state', '_source.consumer_disputed', '_source.product',\n",
       "       '_source.company_response', '_source.company', '_source.submitted_via',\n",
       "       '_source.date_sent_to_company', '_source.company_public_response',\n",
       "       '_source.sub_product', '_source.timely',\n",
       "       '_source.complaint_what_happened', '_source.sub_issue',\n",
       "       '_source.consumer_consent_provided'],\n",
       "      dtype='object')"
      ]
     },
     "execution_count": 6,
     "metadata": {},
     "output_type": "execute_result"
    }
   ],
   "source": [
    "## let's check the feature names\n",
    "df.columns"
   ]
  },
  {
   "cell_type": "code",
   "execution_count": 7,
   "metadata": {},
   "outputs": [],
   "source": [
    "## renaming the features\n",
    "df.rename(columns ={'_index': 'index', '_type': 'type', '_id': 'id', '_score': 'score', '_source.tags': 'source_tags', \n",
    "                    '_source.zip_code': 'source_zip_code', '_source.complaint_id': 'source_complaint_id',\n",
    "                    '_source.complaint_id': 'source_complaint_id', '_source.issue': 'source_issue',\n",
    "                    '_source.date_received': 'source_date_received', '_source.state': 'source_state',\n",
    "                    '_source.consumer_disputed': 'source_consumer_disputed', '_source.product': 'source_product',\n",
    "                    '_source.company_response': 'source_company_response', '_source.company': 'source_company',\n",
    "                    '_source.submitted_via': 'source_submitted_via', '_source.date_sent_to_company': 'source_date_sent_to_company',\n",
    "                    '_source.company_public_response': 'source_company_public_response', '_source.sub_product': 'source_sub_product',\n",
    "                    '_source.timely': 'source_timely', '_source.complaint_what_happened': 'source_complaint_what_happened',\n",
    "                    '_source.sub_issue': 'source_sub_issue', '_source.consumer_consent_provided': 'source_consumer_consent_provided'}, inplace = True)"
   ]
  },
  {
   "cell_type": "code",
   "execution_count": 8,
   "metadata": {},
   "outputs": [
    {
     "data": {
      "text/plain": [
       "Index(['index', 'type', 'id', 'score', 'source_tags', 'source_zip_code',\n",
       "       'source_complaint_id', 'source_issue', 'source_date_received',\n",
       "       'source_state', 'source_consumer_disputed', 'source_product',\n",
       "       'source_company_response', 'source_company', 'source_submitted_via',\n",
       "       'source_date_sent_to_company', 'source_company_public_response',\n",
       "       'source_sub_product', 'source_timely', 'source_complaint_what_happened',\n",
       "       'source_sub_issue', 'source_consumer_consent_provided'],\n",
       "      dtype='object')"
      ]
     },
     "execution_count": 8,
     "metadata": {},
     "output_type": "execute_result"
    }
   ],
   "source": [
    "## let's check the feature names again\n",
    "df.columns"
   ]
  },
  {
   "cell_type": "code",
   "execution_count": 9,
   "metadata": {},
   "outputs": [
    {
     "data": {
      "text/plain": [
       "<bound method DataFrame.value_counts of                      index       type       id  score    source_tags  \\\n",
       "0      complaint-public-v2  complaint  3211475    0.0           None   \n",
       "1      complaint-public-v2  complaint  3229299    0.0  Servicemember   \n",
       "2      complaint-public-v2  complaint  3199379    0.0           None   \n",
       "3      complaint-public-v2  complaint  2673060    0.0           None   \n",
       "4      complaint-public-v2  complaint  3203545    0.0           None   \n",
       "...                    ...        ...      ...    ...            ...   \n",
       "78308  complaint-public-v2  complaint  3105617    0.0           None   \n",
       "78309  complaint-public-v2  complaint  3091984    0.0           None   \n",
       "78310  complaint-public-v2  complaint  3133355    0.0           None   \n",
       "78311  complaint-public-v2  complaint  3110963    0.0           None   \n",
       "78312  complaint-public-v2  complaint  2001189    0.0           None   \n",
       "\n",
       "      source_zip_code source_complaint_id  \\\n",
       "0               90301             3211475   \n",
       "1               319XX             3229299   \n",
       "2               77069             3199379   \n",
       "3               48066             2673060   \n",
       "4               10473             3203545   \n",
       "...               ...                 ...   \n",
       "78308           08857             3105617   \n",
       "78309           934XX             3091984   \n",
       "78310           923XX             3133355   \n",
       "78311            None             3110963   \n",
       "78312            None             2001189   \n",
       "\n",
       "                                            source_issue  \\\n",
       "0                      Attempts to collect debt not owed   \n",
       "1                        Written notification about debt   \n",
       "2                     Other features, terms, or problems   \n",
       "3                         Trouble during payment process   \n",
       "4                                       Fees or interest   \n",
       "...                                                  ...   \n",
       "78308                                 Closing an account   \n",
       "78309                 Other features, terms, or problems   \n",
       "78310  Problem with a lender or other company chargin...   \n",
       "78311                 Other features, terms, or problems   \n",
       "78312                       Payment to acct not credited   \n",
       "\n",
       "            source_date_received source_state  ...  \\\n",
       "0      2019-04-13T12:00:00-05:00           CA  ...   \n",
       "1      2019-05-01T12:00:00-05:00           GA  ...   \n",
       "2      2019-04-02T12:00:00-05:00           TX  ...   \n",
       "3      2017-09-13T12:00:00-05:00           MI  ...   \n",
       "4      2019-04-05T12:00:00-05:00           NY  ...   \n",
       "...                          ...          ...  ...   \n",
       "78308  2018-12-20T12:00:00-05:00           NJ  ...   \n",
       "78309  2018-12-05T12:00:00-05:00           CA  ...   \n",
       "78310  2019-01-25T12:00:00-05:00           CA  ...   \n",
       "78311  2018-12-27T12:00:00-05:00           PA  ...   \n",
       "78312  2016-07-06T12:00:00-05:00           MI  ...   \n",
       "\n",
       "           source_company_response        source_company source_submitted_via  \\\n",
       "0          Closed with explanation  JPMORGAN CHASE & CO.                  Web   \n",
       "1          Closed with explanation  JPMORGAN CHASE & CO.                  Web   \n",
       "2          Closed with explanation  JPMORGAN CHASE & CO.                  Web   \n",
       "3          Closed with explanation  JPMORGAN CHASE & CO.                  Web   \n",
       "4          Closed with explanation  JPMORGAN CHASE & CO.             Referral   \n",
       "...                            ...                   ...                  ...   \n",
       "78308      Closed with explanation  JPMORGAN CHASE & CO.                  Web   \n",
       "78309  Closed with monetary relief  JPMORGAN CHASE & CO.                  Web   \n",
       "78310      Closed with explanation  JPMORGAN CHASE & CO.                  Web   \n",
       "78311  Closed with monetary relief  JPMORGAN CHASE & CO.                  Web   \n",
       "78312      Closed with explanation  JPMORGAN CHASE & CO.                  Web   \n",
       "\n",
       "      source_date_sent_to_company source_company_public_response  \\\n",
       "0       2019-04-13T12:00:00-05:00                           None   \n",
       "1       2019-05-01T12:00:00-05:00                           None   \n",
       "2       2019-04-02T12:00:00-05:00                           None   \n",
       "3       2017-09-14T12:00:00-05:00                           None   \n",
       "4       2019-04-05T12:00:00-05:00                           None   \n",
       "...                           ...                            ...   \n",
       "78308   2018-12-21T12:00:00-05:00                           None   \n",
       "78309   2018-12-05T12:00:00-05:00                           None   \n",
       "78310   2019-01-25T12:00:00-05:00                           None   \n",
       "78311   2018-12-27T12:00:00-05:00                           None   \n",
       "78312   2016-07-07T12:00:00-05:00                           None   \n",
       "\n",
       "                               source_sub_product source_timely  \\\n",
       "0                                Credit card debt           Yes   \n",
       "1                                Credit card debt           Yes   \n",
       "2      General-purpose credit card or charge card           Yes   \n",
       "3                      Conventional home mortgage           Yes   \n",
       "4      General-purpose credit card or charge card           Yes   \n",
       "...                                           ...           ...   \n",
       "78308                            Checking account           Yes   \n",
       "78309  General-purpose credit card or charge card           Yes   \n",
       "78310                            Checking account           Yes   \n",
       "78311  General-purpose credit card or charge card           Yes   \n",
       "78312                                        None           Yes   \n",
       "\n",
       "                          source_complaint_what_happened  \\\n",
       "0                                                          \n",
       "1      Good morning my name is XXXX XXXX and I apprec...   \n",
       "2      I upgraded my XXXX XXXX card in XX/XX/2018 and...   \n",
       "3                                                          \n",
       "4                                                          \n",
       "...                                                  ...   \n",
       "78308                                                      \n",
       "78309  On Wednesday, XX/XX/XXXX I called Chas, my XXX...   \n",
       "78310  I am not familiar with XXXX pay and did not un...   \n",
       "78311  I have had flawless credit for 30 yrs. I've ha...   \n",
       "78312  Roughly 10+ years ago I closed out my accounts...   \n",
       "\n",
       "                                       source_sub_issue  \\\n",
       "0                                     Debt is not yours   \n",
       "1      Didn't receive enough information to verify debt   \n",
       "2                 Problem with rewards from credit card   \n",
       "3                                                  None   \n",
       "4                             Charged too much interest   \n",
       "...                                                 ...   \n",
       "78308            Funds not received from closed account   \n",
       "78309                                     Other problem   \n",
       "78310                    Transaction was not authorized   \n",
       "78311                     Problem with balance transfer   \n",
       "78312                                              None   \n",
       "\n",
       "      source_consumer_consent_provided  \n",
       "0                 Consent not provided  \n",
       "1                     Consent provided  \n",
       "2                     Consent provided  \n",
       "3                 Consent not provided  \n",
       "4                                  N/A  \n",
       "...                                ...  \n",
       "78308             Consent not provided  \n",
       "78309                 Consent provided  \n",
       "78310                 Consent provided  \n",
       "78311                 Consent provided  \n",
       "78312                 Consent provided  \n",
       "\n",
       "[78313 rows x 22 columns]>"
      ]
     },
     "execution_count": 9,
     "metadata": {},
     "output_type": "execute_result"
    }
   ],
   "source": [
    "## let's see the value counts\n",
    "df.value_counts"
   ]
  },
  {
   "cell_type": "code",
   "execution_count": 10,
   "metadata": {},
   "outputs": [
    {
     "data": {
      "text/plain": [
       "index                                   1\n",
       "type                                    1\n",
       "id                                  78313\n",
       "score                                   1\n",
       "source_tags                             3\n",
       "source_zip_code                      9442\n",
       "source_complaint_id                 78313\n",
       "source_issue                          154\n",
       "source_date_received                 3444\n",
       "source_state                           62\n",
       "source_consumer_disputed                3\n",
       "source_product                         17\n",
       "source_company_response                 8\n",
       "source_company                          1\n",
       "source_submitted_via                    6\n",
       "source_date_sent_to_company          3309\n",
       "source_company_public_response          3\n",
       "source_sub_product                     72\n",
       "source_timely                           2\n",
       "source_complaint_what_happened      20931\n",
       "source_sub_issue                      205\n",
       "source_consumer_consent_provided        5\n",
       "dtype: int64"
      ]
     },
     "execution_count": 10,
     "metadata": {},
     "output_type": "execute_result"
    }
   ],
   "source": [
    "## looking for unique values\n",
    "df.nunique()"
   ]
  },
  {
   "cell_type": "code",
   "execution_count": 11,
   "metadata": {},
   "outputs": [
    {
     "data": {
      "text/plain": [
       "index                                   0\n",
       "type                                    0\n",
       "id                                      0\n",
       "score                                   0\n",
       "source_tags                         67413\n",
       "source_zip_code                      6757\n",
       "source_complaint_id                     0\n",
       "source_issue                            0\n",
       "source_date_received                    0\n",
       "source_state                         1991\n",
       "source_consumer_disputed                0\n",
       "source_product                          0\n",
       "source_company_response                 0\n",
       "source_company                          0\n",
       "source_submitted_via                    0\n",
       "source_date_sent_to_company             0\n",
       "source_company_public_response      78309\n",
       "source_sub_product                  10571\n",
       "source_timely                           0\n",
       "source_complaint_what_happened          0\n",
       "source_sub_issue                    46297\n",
       "source_consumer_consent_provided     1008\n",
       "dtype: int64"
      ]
     },
     "execution_count": 11,
     "metadata": {},
     "output_type": "execute_result"
    }
   ],
   "source": [
    "## checking the number of null values\n",
    "df.isnull().sum()"
   ]
  },
  {
   "cell_type": "code",
   "execution_count": 14,
   "metadata": {},
   "outputs": [
    {
     "data": {
      "text/plain": [
       "                                                                                                                                                                                                                                                                                                                                                                                                                                                                                                                                                                                                                                                                                                                                                                                                                                                                                                                                                                                                                                                                                                                                                                                                                                                                                                                                                                                                                                                                                                                                                                                                                                                                                                                                                                                                                                                                                                                                                                                                                                                                                                                                                                                                                                                                                                                                                                                                                                                                                                               57241\n",
       "Chase has violated 15 USC 1692 by continuing collection activity after a cease and desist and 15 USC 1681 by failing to report complete and accurate information to credit reporting bureaus.                                                                                                                                                                                                                                                                                                                                                                                                                                                                                                                                                                                                                                                                                                                                                                                                                                                                                                                                                                                                                                                                                                                                                                                                                                                                                                                                                                                                                                                                                                                                                                                                                                                                                                                                                                                                                                                                                                                                                                                                                                                                                                                                                                                                                                                                                                                     11\n",
       "Hello, I was an authorized user on a relative chase credit card and had asked to be permanently removed from my credit report which they agreed and also have that address removed from my report as I am no longer staying there. For some reason it is still showing up. Just looking to have this corrected and moved from all credit reporting company 's as promised                                                                                                                                                                                                                                                                                                                                                                                                                                                                                                                                                                                                                                                                                                                                                                                                                                                                                                                                                                                                                                                                                                                                                                                                                                                                                                                                                                                                                                                                                                                                                                                                                                                                                                                                                                                                                                                                                                                                                                                                                                                                                                                                          9\n",
       "This particular account situation that is lately filing on my own credit document has a seriously unfavorable relation to my personal ability to obtain a present loan application. I highly recommend you generate verification that Credit Union has been reported completely in accordance with the Fair Credit Reporting Act regulations, it's really a serious problem to misreport. More confirmation of the aforesaid item too. My proper request must over, I was never 30 days/60 days/120 days late in any of my payments and I'm not greatly tuned in to the date opened so I prefer to ask you be investigated as soon as possible and confirmed to be correct. Thanks!                                                                                                                                                                                                                                                                                                                                                                                                                                                                                                                                                                                                                                                                                                                                                                                                                                                                                                                                                                                                                                                                                                                                                                                                                                                                                                                                                                                                                                                                                                                                                                                                                                                                                                                                                                                                                                7\n",
       "I filed a dispute in regards to the incorrect items on my credit report and its been well over 30 days and I havent received any investigation results.                                                                                                                                                                                                                                                                                                                                                                                                                                                                                                                                                                                                                                                                                                                                                                                                                                                                                                                                                                                                                                                                                                                                                                                                                                                                                                                                                                                                                                                                                                                                                                                                                                                                                                                                                                                                                                                                                                                                                                                                                                                                                                                                                                                                                                                                                                                                                            7\n",
       "                                                                                                                                                                                                                                                                                                                                                                                                                                                                                                                                                                                                                                                                                                                                                                                                                                                                                                                                                                                                                                                                                                                                                                                                                                                                                                                                                                                                                                                                                                                                                                                                                                                                                                                                                                                                                                                                                                                                                                                                                                                                                                                                                                                                                                                                                                                                                                                                                                                                                                               ...  \n",
       "I asked multiple times to cancel PMI on my loan, and they continued to refuse. The only way I could reduce PMI was to refinance with a different lender, costing the time and expense of refinancing.                                                                                                                                                                                                                                                                                                                                                                                                                                                                                                                                                                                                                                                                                                                                                                                                                                                                                                                                                                                                                                                                                                                                                                                                                                                                                                                                                                                                                                                                                                                                                                                                                                                                                                                                                                                                                                                                                                                                                                                                                                                                                                                                                                                                                                                                                                              1\n",
       "We had a home equity line of credit for 5 years that expired in XXXX 2016, with a balloon payment due of {$240000.00} which we received a letter in the mail a week before the expiry date telling us that our payment was due. I immediately went to see my local bank and he could not help us, because we were a member of private banking and he could not even see our information. So, he then gave us a name for a loan officer, which we called when we got home and sent him all our paperwork, he then determined that we would not be eligible for a mortgage because my husband had a year before that lost his job with the company he had been with for 30 years, because the company moved back to XXXX. My husband was working, but only making half the money, so he suggested that if we pay our car loan, we would qualify for pre approval. We took our savings and paid the loan, and called him after it was paid, he then said the loan had been sent to collections and he could not help us. I then went back to my local bank and asked to speak with another loan officer and after one week, she called us back saying she also could not help us, we had to contact collections. I have spoke to maybe XXXX different people, gone to our local bank 3 times, spoke with a lady from the executive office once and she also said she could not help us and had no interest in helping, I called her supervisor and we did not receive a call back. Before this happened, our credit was very good and we had missed 1 payment, which was a few days late, in the whole 5 years of this loan. Because of all this fooling around, they have reported us to the credit bureau as late and this has taken a bad hit on our credit. They now do not want to give us another loan and offered to possibly have a second look and see if we qualified for the hardship remodification loan and he said it 's not sure we will get it, you have to be under a certain salary, we can pay our payments, my husband is making good money, that is not the problem and i told this to the bank. We did not realize going into this at 5 years, we would have to pay back the whole {$240000.00} we were not made aware of this, oh it was probably in the fine print of the contract, but i do n't understand that jargon and relied on the loan officer at the time to tell me this and he failed to do so. We are not faced with a foreclosure and need help immediately. Please help!        1\n",
       "Dear XXXX, I am filing a complaint against Chase Bank 's decision of the refusal to our chargeback against XXXX XXXX who lured us to make a deposit to their oversea bank in the amount of {$15000.00} on XXXX XXXX, XXXX. Half year later, XXXX XXXX closed our trading account and refused us to make a withdrawal. By the XXXX XXXX, we still had over {$70000.00} in that account but can not access to it. \\n\\nI told Chase Bank XXXX XXXX employee XXXX that XXXX was doing illegal financial activities in XXXX and they failed to deliver their promised service to their customer. Chase just ignored the fact and even did n't take a investigation. They just simply told me that the time frame to file a chargeback was 120 days and I have passed the valid time frame. I told them I was filing my claim for a refund under the XXXX XXXX XXXX which allow us have 540 days from the date we sent the money when was XXXX XXXX. But XXXX just ignored this Scheme and repeatedly told me I passed 120 days time frame. They even did n't know what XXXX XXXX XXXX is. I suggest them study the XXXX XXXX XXXX and take a close investigation at my case. Otherwise, it 's unfair to me due to Chase Bank 's ignorance.                                                                                                                                                                                                                                                                                                                                                                                                                                                                                                                                                                                                                                                                                                                                                                                                                                                                                                                                                                                                                                                                                                                                                                                                                                                                              1\n",
       "Under penalties of perjury LIES and Fabrication of statements JPMorgan claims they have an original promissory note and mortgage signed by me to them which is a fabrication and false, lies. I never have signed any documents with them. \\nFor over 12 years they've called and harass me threaten me 2 and 3 times a day over 3000 phone calls. \\nSee : XXXX, XXXX. \\nWe suffer from XXXX XXXX now, XXXX XXXX XXXX, our grand kids are distinct now, this is all over the internet as delinquents. \\nAll I did was get a VISA credit disclosure from Washington Mutual which was terminated in XX/XX/2008 and never assigned to no one. \\nPlease HELP Help.We are retired and can't cope with this anymore PLEASE HELP ME ... \\nThey call my kids my grandkids my neighbors they come knocking on everyone 's home they harass us every day PLEASE HELP US STOP THEM we are old and retired and can not deal with this ...                                                                                                                                                                                                                                                                                                                                                                                                                                                                                                                                                                                                                                                                                                                                                                                                                                                                                                                                                                                                                                                                                                                                                                                                                                                                                                                                                                                                                                                                                                                                                                                      1\n",
       "My mother past away. I reported her death to Chase bank & ensured her dept was paid in full. Chase then issue a refund on the account due to her rewards points. They will not speak to me on the account, nor will they issue a refund check. Yet I can see her closed account was a credit balance. I understand if you ca n't get me that money, however I want Chase 's business practices audited. They are even supplying the wrong phone number for return contact on their secure email communications through Chase.com. How bad do they have to get before the government intervenes?                                                                                                                                                                                                                                                                                                                                                                                                                                                                                                                                                                                                                                                                                                                                                                                                                                                                                                                                                                                                                                                                                                                                                                                                                                                                                                                                                                                                                                                                                                                                                                                                                                                                                                                                                                                                                                                                                                                    1\n",
       "Name: source_complaint_what_happened, Length: 20931, dtype: int64"
      ]
     },
     "execution_count": 14,
     "metadata": {},
     "output_type": "execute_result"
    }
   ],
   "source": [
    "df['source_complaint_what_happened'].value_counts()"
   ]
  },
  {
   "cell_type": "code",
   "execution_count": 15,
   "metadata": {},
   "outputs": [],
   "source": [
    "#Assign nan in place of blanks in the complaints column\n",
    "df[df['source_complaint_what_happened']== ''] = np.nan "
   ]
  },
  {
   "cell_type": "code",
   "execution_count": 16,
   "metadata": {},
   "outputs": [
    {
     "data": {
      "text/plain": [
       "0                                                      NaN\n",
       "1        Good morning my name is XXXX XXXX and I apprec...\n",
       "2        I upgraded my XXXX XXXX card in XX/XX/2018 and...\n",
       "3                                                      NaN\n",
       "4                                                      NaN\n",
       "                               ...                        \n",
       "78308                                                  NaN\n",
       "78309    On Wednesday, XX/XX/XXXX I called Chas, my XXX...\n",
       "78310    I am not familiar with XXXX pay and did not un...\n",
       "78311    I have had flawless credit for 30 yrs. I've ha...\n",
       "78312    Roughly 10+ years ago I closed out my accounts...\n",
       "Name: source_complaint_what_happened, Length: 78313, dtype: object"
      ]
     },
     "execution_count": 16,
     "metadata": {},
     "output_type": "execute_result"
    }
   ],
   "source": [
    "## checking for NAN\n",
    "df['source_complaint_what_happened']"
   ]
  },
  {
   "cell_type": "code",
   "execution_count": 17,
   "metadata": {},
   "outputs": [],
   "source": [
    "#Remove all rows where complaints column is nan\n",
    "df = df[df['source_complaint_what_happened'].notnull()]"
   ]
  },
  {
   "cell_type": "code",
   "execution_count": 18,
   "metadata": {},
   "outputs": [
    {
     "data": {
      "text/plain": [
       "(21072, 22)"
      ]
     },
     "execution_count": 18,
     "metadata": {},
     "output_type": "execute_result"
    }
   ],
   "source": [
    "## shape\n",
    "df.shape"
   ]
  },
  {
   "cell_type": "code",
   "execution_count": 19,
   "metadata": {},
   "outputs": [
    {
     "data": {
      "text/plain": [
       "index                                   0\n",
       "type                                    0\n",
       "id                                      0\n",
       "score                                   0\n",
       "source_tags                         17256\n",
       "source_zip_code                      4645\n",
       "source_complaint_id                     0\n",
       "source_issue                            0\n",
       "source_date_received                    0\n",
       "source_state                          143\n",
       "source_consumer_disputed                0\n",
       "source_product                          0\n",
       "source_company_response                 0\n",
       "source_company                          0\n",
       "source_submitted_via                    0\n",
       "source_date_sent_to_company             0\n",
       "source_company_public_response      21070\n",
       "source_sub_product                   2109\n",
       "source_timely                           0\n",
       "source_complaint_what_happened          0\n",
       "source_sub_issue                     8176\n",
       "source_consumer_consent_provided        0\n",
       "dtype: int64"
      ]
     },
     "execution_count": 19,
     "metadata": {},
     "output_type": "execute_result"
    }
   ],
   "source": [
    "## checking nulll values\n",
    "df.isnull().sum()"
   ]
  },
  {
   "cell_type": "markdown",
   "metadata": {},
   "source": [
    "## Prepare the text for topic modeling\n",
    "Once you have removed all the blank complaints, you need to:\n",
    "\n",
    "- Make the text lowercase\n",
    "- Remove text in square brackets\n",
    "- Remove punctuation\n",
    "- Remove words containing numbers\n",
    "\n",
    "- Once you have done these cleaning operations you need to perform the following:\n",
    "\n",
    "#### Lemmatize the texts\n",
    "- Use POS tags to get relevant words from the texts."
   ]
  },
  {
   "cell_type": "code",
   "execution_count": 20,
   "metadata": {},
   "outputs": [],
   "source": [
    "# Function to clean the text and remove all the unnecessary elements.\n",
    "def clean_text(text):\n",
    "  text = text.lower()\n",
    "  pattern = re.compile('[\\(\\[].*?[\\)\\]]')\n",
    "  text = re.sub(pattern, '', text)\n",
    "  pattern = re.compile('[^\\w\\s]')\n",
    "  text = re.sub(pattern, '', text)\n",
    "  pattern = re.compile('[0-9]')\n",
    "  text = re.sub(pattern, '', text)\n",
    "  return text"
   ]
  },
  {
   "cell_type": "code",
   "execution_count": 21,
   "metadata": {},
   "outputs": [
    {
     "name": "stderr",
     "output_type": "stream",
     "text": [
      "[nltk_data] Downloading package wordnet to\n",
      "[nltk_data]     /Users/abhinavjoshi/nltk_data...\n",
      "[nltk_data]   Package wordnet is already up-to-date!\n",
      "[nltk_data] Downloading package stopwords to\n",
      "[nltk_data]     /Users/abhinavjoshi/nltk_data...\n",
      "[nltk_data]   Package stopwords is already up-to-date!\n",
      "[nltk_data] Downloading package punkt to\n",
      "[nltk_data]     /Users/abhinavjoshi/nltk_data...\n",
      "[nltk_data]   Package punkt is already up-to-date!\n"
     ]
    },
    {
     "data": {
      "text/plain": [
       "True"
      ]
     },
     "execution_count": 21,
     "metadata": {},
     "output_type": "execute_result"
    }
   ],
   "source": [
    "## importing libraries\n",
    "from nltk.stem import WordNetLemmatizer\n",
    "wordnet_lemmatizer = WordNetLemmatizer()\n",
    "from nltk.corpus import stopwords\n",
    "from nltk.tokenize import word_tokenize\n",
    "nltk.download('wordnet')\n",
    "nltk.download('stopwords')\n",
    "nltk.download('punkt')"
   ]
  },
  {
   "cell_type": "code",
   "execution_count": 22,
   "metadata": {},
   "outputs": [],
   "source": [
    "# Function to Lemmatize the texts\n",
    "def lemmatizer(text):      \n",
    "    text = clean_text(text)  \n",
    "    sent = [wordnet_lemmatizer.lemmatize(word) for word in word_tokenize(text) if not word in set(stopwords.words('english'))]\n",
    "    return \" \".join(sent)"
   ]
  },
  {
   "cell_type": "code",
   "execution_count": 23,
   "metadata": {},
   "outputs": [],
   "source": [
    "#Create a dataframe('df_clean') that will have only the complaints and the lemmatized complaints \n",
    "df_clean = pd.DataFrame()\n",
    "df_clean['complaints'] = df['source_complaint_what_happened'].apply(lambda x: clean_text(x))\n",
    "df_clean['lemmatized_complaints'] = df['source_complaint_what_happened'].apply(lambda x: lemmatizer(x))"
   ]
  },
  {
   "cell_type": "code",
   "execution_count": 24,
   "metadata": {},
   "outputs": [
    {
     "data": {
      "text/html": [
       "<div>\n",
       "<style scoped>\n",
       "    .dataframe tbody tr th:only-of-type {\n",
       "        vertical-align: middle;\n",
       "    }\n",
       "\n",
       "    .dataframe tbody tr th {\n",
       "        vertical-align: top;\n",
       "    }\n",
       "\n",
       "    .dataframe thead th {\n",
       "        text-align: right;\n",
       "    }\n",
       "</style>\n",
       "<table border=\"1\" class=\"dataframe\">\n",
       "  <thead>\n",
       "    <tr style=\"text-align: right;\">\n",
       "      <th></th>\n",
       "      <th>complaints</th>\n",
       "      <th>lemmatized_complaints</th>\n",
       "    </tr>\n",
       "  </thead>\n",
       "  <tbody>\n",
       "    <tr>\n",
       "      <th>1</th>\n",
       "      <td>good morning my name is xxxx xxxx and i apprec...</td>\n",
       "      <td>good morning name xxxx xxxx appreciate could h...</td>\n",
       "    </tr>\n",
       "    <tr>\n",
       "      <th>2</th>\n",
       "      <td>i upgraded my xxxx xxxx card in xxxx and was t...</td>\n",
       "      <td>upgraded xxxx xxxx card xxxx told agent upgrad...</td>\n",
       "    </tr>\n",
       "    <tr>\n",
       "      <th>10</th>\n",
       "      <td>chase card was reported on xxxx however fraudu...</td>\n",
       "      <td>chase card reported xxxx however fraudulent ap...</td>\n",
       "    </tr>\n",
       "    <tr>\n",
       "      <th>11</th>\n",
       "      <td>on xxxx while trying to book a xxxx  xxxx  tic...</td>\n",
       "      <td>xxxx trying book xxxx xxxx ticket came across ...</td>\n",
       "    </tr>\n",
       "    <tr>\n",
       "      <th>14</th>\n",
       "      <td>my grand son give me check for  i deposit it i...</td>\n",
       "      <td>grand son give check deposit chase account fun...</td>\n",
       "    </tr>\n",
       "  </tbody>\n",
       "</table>\n",
       "</div>"
      ],
      "text/plain": [
       "                                           complaints  \\\n",
       "1   good morning my name is xxxx xxxx and i apprec...   \n",
       "2   i upgraded my xxxx xxxx card in xxxx and was t...   \n",
       "10  chase card was reported on xxxx however fraudu...   \n",
       "11  on xxxx while trying to book a xxxx  xxxx  tic...   \n",
       "14  my grand son give me check for  i deposit it i...   \n",
       "\n",
       "                                lemmatized_complaints  \n",
       "1   good morning name xxxx xxxx appreciate could h...  \n",
       "2   upgraded xxxx xxxx card xxxx told agent upgrad...  \n",
       "10  chase card reported xxxx however fraudulent ap...  \n",
       "11  xxxx trying book xxxx xxxx ticket came across ...  \n",
       "14  grand son give check deposit chase account fun...  "
      ]
     },
     "execution_count": 24,
     "metadata": {},
     "output_type": "execute_result"
    }
   ],
   "source": [
    "## checking df_clean\n",
    "df_clean.head()"
   ]
  },
  {
   "cell_type": "code",
   "execution_count": 25,
   "metadata": {},
   "outputs": [],
   "source": [
    "# function to extract the POS tags \n",
    "def pos_tag(text):\n",
    "  doc = nlp(text)\n",
    "  result = []\n",
    "  for token in doc:\n",
    "    if token.pos_ == 'NOUN':\n",
    "      output = result.append(token.text)\n",
    "      \n",
    "  return ' '.join(result)\n"
   ]
  },
  {
   "cell_type": "code",
   "execution_count": 26,
   "metadata": {},
   "outputs": [],
   "source": [
    "#The clean dataframe should now contain the raw complaint, lemmatized complaint and the complaint after removing POS tags.\n",
    "df_clean['complaint_POS_removed'] = df_clean['complaints'].apply(lambda x: pos_tag(x))"
   ]
  },
  {
   "cell_type": "code",
   "execution_count": 27,
   "metadata": {},
   "outputs": [
    {
     "data": {
      "text/html": [
       "<div>\n",
       "<style scoped>\n",
       "    .dataframe tbody tr th:only-of-type {\n",
       "        vertical-align: middle;\n",
       "    }\n",
       "\n",
       "    .dataframe tbody tr th {\n",
       "        vertical-align: top;\n",
       "    }\n",
       "\n",
       "    .dataframe thead th {\n",
       "        text-align: right;\n",
       "    }\n",
       "</style>\n",
       "<table border=\"1\" class=\"dataframe\">\n",
       "  <thead>\n",
       "    <tr style=\"text-align: right;\">\n",
       "      <th></th>\n",
       "      <th>complaints</th>\n",
       "      <th>lemmatized_complaints</th>\n",
       "      <th>complaint_POS_removed</th>\n",
       "    </tr>\n",
       "  </thead>\n",
       "  <tbody>\n",
       "    <tr>\n",
       "      <th>1</th>\n",
       "      <td>good morning my name is xxxx xxxx and i apprec...</td>\n",
       "      <td>good morning name xxxx xxxx appreciate could h...</td>\n",
       "      <td>morning name stop debt verification statement ...</td>\n",
       "    </tr>\n",
       "    <tr>\n",
       "      <th>2</th>\n",
       "      <td>i upgraded my xxxx xxxx card in xxxx and was t...</td>\n",
       "      <td>upgraded xxxx xxxx card xxxx told agent upgrad...</td>\n",
       "      <td>xxxx card agent anniversary date agent informa...</td>\n",
       "    </tr>\n",
       "    <tr>\n",
       "      <th>10</th>\n",
       "      <td>chase card was reported on xxxx however fraudu...</td>\n",
       "      <td>chase card reported xxxx however fraudulent ap...</td>\n",
       "      <td>application identity consent services credit i...</td>\n",
       "    </tr>\n",
       "    <tr>\n",
       "      <th>11</th>\n",
       "      <td>on xxxx while trying to book a xxxx  xxxx  tic...</td>\n",
       "      <td>xxxx trying book xxxx xxxx ticket came across ...</td>\n",
       "      <td>xxxx xxxx xxxx ticket offer ticket rewards car...</td>\n",
       "    </tr>\n",
       "    <tr>\n",
       "      <th>14</th>\n",
       "      <td>my grand son give me check for  i deposit it i...</td>\n",
       "      <td>grand son give check deposit chase account fun...</td>\n",
       "      <td>son chase account fund chase bank account mone...</td>\n",
       "    </tr>\n",
       "  </tbody>\n",
       "</table>\n",
       "</div>"
      ],
      "text/plain": [
       "                                           complaints  \\\n",
       "1   good morning my name is xxxx xxxx and i apprec...   \n",
       "2   i upgraded my xxxx xxxx card in xxxx and was t...   \n",
       "10  chase card was reported on xxxx however fraudu...   \n",
       "11  on xxxx while trying to book a xxxx  xxxx  tic...   \n",
       "14  my grand son give me check for  i deposit it i...   \n",
       "\n",
       "                                lemmatized_complaints  \\\n",
       "1   good morning name xxxx xxxx appreciate could h...   \n",
       "2   upgraded xxxx xxxx card xxxx told agent upgrad...   \n",
       "10  chase card reported xxxx however fraudulent ap...   \n",
       "11  xxxx trying book xxxx xxxx ticket came across ...   \n",
       "14  grand son give check deposit chase account fun...   \n",
       "\n",
       "                                complaint_POS_removed  \n",
       "1   morning name stop debt verification statement ...  \n",
       "2   xxxx card agent anniversary date agent informa...  \n",
       "10  application identity consent services credit i...  \n",
       "11  xxxx xxxx xxxx ticket offer ticket rewards car...  \n",
       "14  son chase account fund chase bank account mone...  "
      ]
     },
     "execution_count": 27,
     "metadata": {},
     "output_type": "execute_result"
    }
   ],
   "source": [
    "## checking df_clean\n",
    "df_clean.head()"
   ]
  },
  {
   "cell_type": "markdown",
   "metadata": {},
   "source": [
    "### Exploratory data analysis to get familiar with the data.\n",
    "- Write the code in this task to perform the following:\n",
    "\n",
    "- Visualise the data according to the 'Complaint' character length\n",
    "- Using a word cloud find the top 40 words by frequency among all the articles after processing the text\n",
    "- Find the top unigrams,bigrams and trigrams by frequency among all the complaints after processing the text. ‘"
   ]
  },
  {
   "cell_type": "code",
   "execution_count": 28,
   "metadata": {},
   "outputs": [
    {
     "data": {
      "text/plain": [
       "<Figure size 720x432 with 0 Axes>"
      ]
     },
     "execution_count": 28,
     "metadata": {},
     "output_type": "execute_result"
    },
    {
     "data": {
      "text/plain": [
       "<Figure size 720x432 with 0 Axes>"
      ]
     },
     "metadata": {},
     "output_type": "display_data"
    }
   ],
   "source": [
    "## importing libraries\n",
    "import seaborn as sns\n",
    "import matplotlib.pyplot as plt\n",
    "%matplotlib inline\n",
    "plt.figure(figsize=(10,6))"
   ]
  },
  {
   "cell_type": "code",
   "execution_count": 29,
   "metadata": {},
   "outputs": [
    {
     "data": {
      "image/png": "[encoded data removed]",
      "text/plain": [
       "<Figure size 432x288 with 1 Axes>"
      ]
     },
     "metadata": {
      "needs_background": "light"
     },
     "output_type": "display_data"
    }
   ],
   "source": [
    "## plotting \n",
    "doc_lens = [len(d) for d in df_clean.complaint_POS_removed]\n",
    "plt.hist(doc_lens, bins = 50)\n",
    "plt.show()"
   ]
  },
  {
   "cell_type": "code",
   "execution_count": 30,
   "metadata": {},
   "outputs": [
    {
     "name": "stdout",
     "output_type": "stream",
     "text": [
      "Requirement already satisfied: wordcloud in /Users/abhinavjoshi/opt/anaconda3/lib/python3.8/site-packages (1.8.1)\n",
      "Requirement already satisfied: numpy>=1.6.1 in /Users/abhinavjoshi/opt/anaconda3/lib/python3.8/site-packages (from wordcloud) (1.19.5)\n",
      "Requirement already satisfied: matplotlib in /Users/abhinavjoshi/opt/anaconda3/lib/python3.8/site-packages (from wordcloud) (3.3.2)\n",
      "Requirement already satisfied: pillow in /Users/abhinavjoshi/opt/anaconda3/lib/python3.8/site-packages (from wordcloud) (8.0.1)\n",
      "Requirement already satisfied: kiwisolver>=1.0.1 in /Users/abhinavjoshi/opt/anaconda3/lib/python3.8/site-packages (from matplotlib->wordcloud) (1.3.0)\n",
      "Requirement already satisfied: certifi>=2020.06.20 in /Users/abhinavjoshi/opt/anaconda3/lib/python3.8/site-packages (from matplotlib->wordcloud) (2020.6.20)\n",
      "Requirement already satisfied: pyparsing!=2.0.4,!=2.1.2,!=2.1.6,>=2.0.3 in /Users/abhinavjoshi/opt/anaconda3/lib/python3.8/site-packages (from matplotlib->wordcloud) (2.4.7)\n",
      "Requirement already satisfied: python-dateutil>=2.1 in /Users/abhinavjoshi/opt/anaconda3/lib/python3.8/site-packages (from matplotlib->wordcloud) (2.8.1)\n",
      "Requirement already satisfied: cycler>=0.10 in /Users/abhinavjoshi/opt/anaconda3/lib/python3.8/site-packages (from matplotlib->wordcloud) (0.10.0)\n",
      "Requirement already satisfied: six>=1.5 in /Users/abhinavjoshi/opt/anaconda3/lib/python3.8/site-packages (from python-dateutil>=2.1->matplotlib->wordcloud) (1.15.0)\n",
      "Note: you may need to restart the kernel to use updated packages.\n"
     ]
    }
   ],
   "source": [
    "## installing wordcloud\n",
    "pip install wordcloud"
   ]
  },
  {
   "cell_type": "code",
   "execution_count": 31,
   "metadata": {},
   "outputs": [
    {
     "name": "stdout",
     "output_type": "stream",
     "text": [
      "<wordcloud.wordcloud.WordCloud object at 0x7ffacd1d4a60>\n"
     ]
    },
    {
     "data": {
      "image/png": "[encoded data removed]",
      "text/plain": [
       "<Figure size 432x288 with 1 Axes>"
      ]
     },
     "metadata": {
      "needs_background": "light"
     },
     "output_type": "display_data"
    }
   ],
   "source": [
    "## Find the top 40 words by frequency among all the articles after processing the text\n",
    "from wordcloud import WordCloud\n",
    "stoplist = set(stopwords.words(\"english\"))\n",
    "wordcloud = WordCloud(stopwords=stoplist,max_words=40, background_color='white').generate(str(df_clean.complaint_POS_removed))                       \n",
    "print(wordcloud)\n",
    "fig = plt.figure(1)\n",
    "plt.imshow(wordcloud)\n",
    "plt.axis('off')\n",
    "plt.show()"
   ]
  },
  {
   "cell_type": "code",
   "execution_count": 32,
   "metadata": {},
   "outputs": [],
   "source": [
    "#Removing -PRON- from the text corpus\n",
    "df_clean['Complaint_clean'] = df_clean['complaint_POS_removed'].str.replace('-PRON-', '')"
   ]
  },
  {
   "cell_type": "markdown",
   "metadata": {},
   "source": [
    "#### Find the top unigrams,bigrams and trigrams by frequency among all the complaints after processing the text\n"
   ]
  },
  {
   "cell_type": "code",
   "execution_count": 33,
   "metadata": {},
   "outputs": [],
   "source": [
    "#Write your code here to find the top 30 unigram frequency among the complaints in the cleaned datafram(df_clean\n",
    "def get_top_n_unigram(corpus, n=None):\n",
    "    vec = CountVectorizer(ngram_range=(1, 1), stop_words='english').fit(corpus)\n",
    "    bag_of_words = vec.transform(corpus)\n",
    "    print(bag_of_words)\n",
    "    sum_words = bag_of_words.sum(axis=0)\n",
    "    words_freq = [(word, sum_words[0, idx]) for word, idx in vec.vocabulary_.items()]\n",
    "    words_freq =sorted(words_freq, key = lambda x: x[1], reverse=True)\n",
    "    return words_freq[:n]\n",
    "    "
   ]
  },
  {
   "cell_type": "code",
   "execution_count": 35,
   "metadata": {},
   "outputs": [
    {
     "data": {
      "text/html": [
       "<div>\n",
       "<style scoped>\n",
       "    .dataframe tbody tr th:only-of-type {\n",
       "        vertical-align: middle;\n",
       "    }\n",
       "\n",
       "    .dataframe tbody tr th {\n",
       "        vertical-align: top;\n",
       "    }\n",
       "\n",
       "    .dataframe thead th {\n",
       "        text-align: right;\n",
       "    }\n",
       "</style>\n",
       "<table border=\"1\" class=\"dataframe\">\n",
       "  <thead>\n",
       "    <tr style=\"text-align: right;\">\n",
       "      <th></th>\n",
       "      <th>unigram</th>\n",
       "      <th>count</th>\n",
       "    </tr>\n",
       "  </thead>\n",
       "  <tbody>\n",
       "    <tr>\n",
       "      <th>0</th>\n",
       "      <td>xxxx</td>\n",
       "      <td>140012</td>\n",
       "    </tr>\n",
       "    <tr>\n",
       "      <th>1</th>\n",
       "      <td>chase</td>\n",
       "      <td>54073</td>\n",
       "    </tr>\n",
       "    <tr>\n",
       "      <th>2</th>\n",
       "      <td>account</td>\n",
       "      <td>40565</td>\n",
       "    </tr>\n",
       "    <tr>\n",
       "      <th>3</th>\n",
       "      <td>credit</td>\n",
       "      <td>31646</td>\n",
       "    </tr>\n",
       "    <tr>\n",
       "      <th>4</th>\n",
       "      <td>card</td>\n",
       "      <td>25806</td>\n",
       "    </tr>\n",
       "    <tr>\n",
       "      <th>5</th>\n",
       "      <td>bank</td>\n",
       "      <td>17851</td>\n",
       "    </tr>\n",
       "    <tr>\n",
       "      <th>6</th>\n",
       "      <td>xxxxxxxx</td>\n",
       "      <td>15343</td>\n",
       "    </tr>\n",
       "    <tr>\n",
       "      <th>7</th>\n",
       "      <td>payment</td>\n",
       "      <td>13754</td>\n",
       "    </tr>\n",
       "    <tr>\n",
       "      <th>8</th>\n",
       "      <td>money</td>\n",
       "      <td>11806</td>\n",
       "    </tr>\n",
       "    <tr>\n",
       "      <th>9</th>\n",
       "      <td>time</td>\n",
       "      <td>11692</td>\n",
       "    </tr>\n",
       "  </tbody>\n",
       "</table>\n",
       "</div>"
      ],
      "text/plain": [
       "    unigram   count\n",
       "0      xxxx  140012\n",
       "1     chase   54073\n",
       "2   account   40565\n",
       "3    credit   31646\n",
       "4      card   25806\n",
       "5      bank   17851\n",
       "6  xxxxxxxx   15343\n",
       "7   payment   13754\n",
       "8     money   11806\n",
       "9      time   11692"
      ]
     },
     "execution_count": 35,
     "metadata": {},
     "output_type": "execute_result"
    }
   ],
   "source": [
    "#Print the top 10 words in the unigram frequency\n",
    "df_unigram = pd.DataFrame(common_words_uni, columns = ['unigram' , 'count'])\n",
    "df_unigram.head(10)"
   ]
  },
  {
   "cell_type": "code",
   "execution_count": 36,
   "metadata": {},
   "outputs": [],
   "source": [
    "## bigram\n",
    "def get_top_n_bigram(corpus, n=None):\n",
    "    vec = CountVectorizer(ngram_range=(2, 2), stop_words='english').fit(corpus)\n",
    "    bag_of_words = vec.transform(corpus)\n",
    "    print(bag_of_words)\n",
    "    sum_words = bag_of_words.sum(axis=0)\n",
    "    words_freq = [(word, sum_words[0, idx]) for word, idx in vec.vocabulary_.items()]\n",
    "    words_freq =sorted(words_freq, key = lambda x: x[1], reverse=True)\n",
    "    return words_freq[:n]"
   ]
  },
  {
   "cell_type": "code",
   "execution_count": 38,
   "metadata": {},
   "outputs": [
    {
     "data": {
      "text/html": [
       "<div>\n",
       "<style scoped>\n",
       "    .dataframe tbody tr th:only-of-type {\n",
       "        vertical-align: middle;\n",
       "    }\n",
       "\n",
       "    .dataframe tbody tr th {\n",
       "        vertical-align: top;\n",
       "    }\n",
       "\n",
       "    .dataframe thead th {\n",
       "        text-align: right;\n",
       "    }\n",
       "</style>\n",
       "<table border=\"1\" class=\"dataframe\">\n",
       "  <thead>\n",
       "    <tr style=\"text-align: right;\">\n",
       "      <th></th>\n",
       "      <th>bigram</th>\n",
       "      <th>count</th>\n",
       "    </tr>\n",
       "  </thead>\n",
       "  <tbody>\n",
       "    <tr>\n",
       "      <th>0</th>\n",
       "      <td>xxxx xxxx</td>\n",
       "      <td>64600</td>\n",
       "    </tr>\n",
       "    <tr>\n",
       "      <th>1</th>\n",
       "      <td>credit card</td>\n",
       "      <td>10652</td>\n",
       "    </tr>\n",
       "    <tr>\n",
       "      <th>2</th>\n",
       "      <td>xxxx chase</td>\n",
       "      <td>4317</td>\n",
       "    </tr>\n",
       "    <tr>\n",
       "      <th>3</th>\n",
       "      <td>account xxxx</td>\n",
       "      <td>3288</td>\n",
       "    </tr>\n",
       "    <tr>\n",
       "      <th>4</th>\n",
       "      <td>credit report</td>\n",
       "      <td>3197</td>\n",
       "    </tr>\n",
       "    <tr>\n",
       "      <th>5</th>\n",
       "      <td>chase credit</td>\n",
       "      <td>3009</td>\n",
       "    </tr>\n",
       "    <tr>\n",
       "      <th>6</th>\n",
       "      <td>customer service</td>\n",
       "      <td>2984</td>\n",
       "    </tr>\n",
       "    <tr>\n",
       "      <th>7</th>\n",
       "      <td>chase xxxx</td>\n",
       "      <td>2845</td>\n",
       "    </tr>\n",
       "    <tr>\n",
       "      <th>8</th>\n",
       "      <td>chase account</td>\n",
       "      <td>2776</td>\n",
       "    </tr>\n",
       "    <tr>\n",
       "      <th>9</th>\n",
       "      <td>xxxx account</td>\n",
       "      <td>2576</td>\n",
       "    </tr>\n",
       "  </tbody>\n",
       "</table>\n",
       "</div>"
      ],
      "text/plain": [
       "             bigram  count\n",
       "0         xxxx xxxx  64600\n",
       "1       credit card  10652\n",
       "2        xxxx chase   4317\n",
       "3      account xxxx   3288\n",
       "4     credit report   3197\n",
       "5      chase credit   3009\n",
       "6  customer service   2984\n",
       "7        chase xxxx   2845\n",
       "8     chase account   2776\n",
       "9      xxxx account   2576"
      ]
     },
     "execution_count": 38,
     "metadata": {},
     "output_type": "execute_result"
    }
   ],
   "source": [
    "#Print the top 10 words in the bigram frequency\n",
    "df_bigram = pd.DataFrame(common_words_bi, columns = ['bigram' , 'count'])\n",
    "df_bigram.head(10)"
   ]
  },
  {
   "cell_type": "code",
   "execution_count": 39,
   "metadata": {},
   "outputs": [],
   "source": [
    "## trigram\n",
    "def get_top_n_trigram(corpus, n=None):\n",
    "    vec = CountVectorizer(ngram_range=(3, 3), stop_words='english').fit(corpus)\n",
    "    bag_of_words = vec.transform(corpus)\n",
    "    print(bag_of_words)\n",
    "    sum_words = bag_of_words.sum(axis=0)\n",
    "    words_freq = [(word, sum_words[0, idx]) for word, idx in vec.vocabulary_.items()]\n",
    "    words_freq =sorted(words_freq, key = lambda x: x[1], reverse=True)\n",
    "    return words_freq[:n]"
   ]
  },
  {
   "cell_type": "code",
   "execution_count": 41,
   "metadata": {},
   "outputs": [
    {
     "data": {
      "text/html": [
       "<div>\n",
       "<style scoped>\n",
       "    .dataframe tbody tr th:only-of-type {\n",
       "        vertical-align: middle;\n",
       "    }\n",
       "\n",
       "    .dataframe tbody tr th {\n",
       "        vertical-align: top;\n",
       "    }\n",
       "\n",
       "    .dataframe thead th {\n",
       "        text-align: right;\n",
       "    }\n",
       "</style>\n",
       "<table border=\"1\" class=\"dataframe\">\n",
       "  <thead>\n",
       "    <tr style=\"text-align: right;\">\n",
       "      <th></th>\n",
       "      <th>trigram</th>\n",
       "      <th>count</th>\n",
       "    </tr>\n",
       "  </thead>\n",
       "  <tbody>\n",
       "    <tr>\n",
       "      <th>0</th>\n",
       "      <td>xxxx xxxx xxxx</td>\n",
       "      <td>34673</td>\n",
       "    </tr>\n",
       "    <tr>\n",
       "      <th>1</th>\n",
       "      <td>xxxx xxxx chase</td>\n",
       "      <td>1726</td>\n",
       "    </tr>\n",
       "    <tr>\n",
       "      <th>2</th>\n",
       "      <td>chase credit card</td>\n",
       "      <td>1721</td>\n",
       "    </tr>\n",
       "    <tr>\n",
       "      <th>3</th>\n",
       "      <td>account xxxx xxxx</td>\n",
       "      <td>1172</td>\n",
       "    </tr>\n",
       "    <tr>\n",
       "      <th>4</th>\n",
       "      <td>xxxxxxxx xxxx xxxx</td>\n",
       "      <td>1040</td>\n",
       "    </tr>\n",
       "    <tr>\n",
       "      <th>5</th>\n",
       "      <td>chase xxxx xxxx</td>\n",
       "      <td>1018</td>\n",
       "    </tr>\n",
       "    <tr>\n",
       "      <th>6</th>\n",
       "      <td>xxxx xxxx account</td>\n",
       "      <td>995</td>\n",
       "    </tr>\n",
       "    <tr>\n",
       "      <th>7</th>\n",
       "      <td>xxxx credit card</td>\n",
       "      <td>859</td>\n",
       "    </tr>\n",
       "    <tr>\n",
       "      <th>8</th>\n",
       "      <td>credit card company</td>\n",
       "      <td>783</td>\n",
       "    </tr>\n",
       "    <tr>\n",
       "      <th>9</th>\n",
       "      <td>credit card account</td>\n",
       "      <td>762</td>\n",
       "    </tr>\n",
       "  </tbody>\n",
       "</table>\n",
       "</div>"
      ],
      "text/plain": [
       "               trigram  count\n",
       "0       xxxx xxxx xxxx  34673\n",
       "1      xxxx xxxx chase   1726\n",
       "2    chase credit card   1721\n",
       "3    account xxxx xxxx   1172\n",
       "4   xxxxxxxx xxxx xxxx   1040\n",
       "5      chase xxxx xxxx   1018\n",
       "6    xxxx xxxx account    995\n",
       "7     xxxx credit card    859\n",
       "8  credit card company    783\n",
       "9  credit card account    762"
      ]
     },
     "execution_count": 41,
     "metadata": {},
     "output_type": "execute_result"
    }
   ],
   "source": [
    "#Print the top 10 words in the trigram frequency\n",
    "df_trigram = pd.DataFrame(common_words_tri, columns = ['trigram' , 'count'])\n",
    "df_trigram.head(10)"
   ]
  },
  {
   "cell_type": "markdown",
   "metadata": {},
   "source": [
    "####  The personal details of customer has been masked in the dataset with xxxx. Let's remove the masked text as this will be of no use for our analysis "
   ]
  },
  {
   "cell_type": "code",
   "execution_count": 42,
   "metadata": {},
   "outputs": [],
   "source": [
    "## removing masked text\n",
    "df_clean['Complaint_clean'] = df_clean['Complaint_clean'].str.replace('xxxx','')"
   ]
  },
  {
   "cell_type": "code",
   "execution_count": 43,
   "metadata": {},
   "outputs": [
    {
     "data": {
      "text/html": [
       "<div>\n",
       "<style scoped>\n",
       "    .dataframe tbody tr th:only-of-type {\n",
       "        vertical-align: middle;\n",
       "    }\n",
       "\n",
       "    .dataframe tbody tr th {\n",
       "        vertical-align: top;\n",
       "    }\n",
       "\n",
       "    .dataframe thead th {\n",
       "        text-align: right;\n",
       "    }\n",
       "</style>\n",
       "<table border=\"1\" class=\"dataframe\">\n",
       "  <thead>\n",
       "    <tr style=\"text-align: right;\">\n",
       "      <th></th>\n",
       "      <th>complaints</th>\n",
       "      <th>lemmatized_complaints</th>\n",
       "      <th>complaint_POS_removed</th>\n",
       "      <th>Complaint_clean</th>\n",
       "    </tr>\n",
       "  </thead>\n",
       "  <tbody>\n",
       "    <tr>\n",
       "      <th>1</th>\n",
       "      <td>good morning my name is xxxx xxxx and i apprec...</td>\n",
       "      <td>good morning name xxxx xxxx appreciate could h...</td>\n",
       "      <td>morning name stop debt verification statement ...</td>\n",
       "      <td>morning name stop debt verification statement ...</td>\n",
       "    </tr>\n",
       "    <tr>\n",
       "      <th>2</th>\n",
       "      <td>i upgraded my xxxx xxxx card in xxxx and was t...</td>\n",
       "      <td>upgraded xxxx xxxx card xxxx told agent upgrad...</td>\n",
       "      <td>xxxx card agent anniversary date agent informa...</td>\n",
       "      <td>card agent anniversary date agent information...</td>\n",
       "    </tr>\n",
       "    <tr>\n",
       "      <th>10</th>\n",
       "      <td>chase card was reported on xxxx however fraudu...</td>\n",
       "      <td>chase card reported xxxx however fraudulent ap...</td>\n",
       "      <td>application identity consent services credit i...</td>\n",
       "      <td>application identity consent services credit i...</td>\n",
       "    </tr>\n",
       "    <tr>\n",
       "      <th>11</th>\n",
       "      <td>on xxxx while trying to book a xxxx  xxxx  tic...</td>\n",
       "      <td>xxxx trying book xxxx xxxx ticket came across ...</td>\n",
       "      <td>xxxx xxxx xxxx ticket offer ticket rewards car...</td>\n",
       "      <td>ticket offer ticket rewards card informatio...</td>\n",
       "    </tr>\n",
       "    <tr>\n",
       "      <th>14</th>\n",
       "      <td>my grand son give me check for  i deposit it i...</td>\n",
       "      <td>grand son give check deposit chase account fun...</td>\n",
       "      <td>son chase account fund chase bank account mone...</td>\n",
       "      <td>son chase account fund chase bank account mone...</td>\n",
       "    </tr>\n",
       "    <tr>\n",
       "      <th>...</th>\n",
       "      <td>...</td>\n",
       "      <td>...</td>\n",
       "      <td>...</td>\n",
       "      <td>...</td>\n",
       "    </tr>\n",
       "    <tr>\n",
       "      <th>78303</th>\n",
       "      <td>after being a chase card customer for well ove...</td>\n",
       "      <td>chase card customer well decade offered multip...</td>\n",
       "      <td>chase card customer decade solicitations credi...</td>\n",
       "      <td>chase card customer decade solicitations credi...</td>\n",
       "    </tr>\n",
       "    <tr>\n",
       "      <th>78309</th>\n",
       "      <td>on wednesday xxxxxxxx i called chas my xxxx xx...</td>\n",
       "      <td>wednesday xxxxxxxx called chas xxxx xxxx visa ...</td>\n",
       "      <td>xxxx xxxx visa credit card provider claim purc...</td>\n",
       "      <td>visa credit card provider claim purchase pro...</td>\n",
       "    </tr>\n",
       "    <tr>\n",
       "      <th>78310</th>\n",
       "      <td>i am not familiar with xxxx pay and did not un...</td>\n",
       "      <td>familiar xxxx pay understand great risk provid...</td>\n",
       "      <td>pay risk consumers chase bank app chase years ...</td>\n",
       "      <td>pay risk consumers chase bank app chase years ...</td>\n",
       "    </tr>\n",
       "    <tr>\n",
       "      <th>78311</th>\n",
       "      <td>i have had flawless credit for  yrs ive had ch...</td>\n",
       "      <td>flawless credit yr ive chase credit card chase...</td>\n",
       "      <td>credit yrs chase credit cards chase freedom pr...</td>\n",
       "      <td>credit yrs chase credit cards chase freedom pr...</td>\n",
       "    </tr>\n",
       "    <tr>\n",
       "      <th>78312</th>\n",
       "      <td>roughly  years ago i closed out my accounts wi...</td>\n",
       "      <td>roughly year ago closed account jp morgan chas...</td>\n",
       "      <td>years accounts order line credit account payme...</td>\n",
       "      <td>years accounts order line credit account payme...</td>\n",
       "    </tr>\n",
       "  </tbody>\n",
       "</table>\n",
       "<p>21072 rows × 4 columns</p>\n",
       "</div>"
      ],
      "text/plain": [
       "                                              complaints  \\\n",
       "1      good morning my name is xxxx xxxx and i apprec...   \n",
       "2      i upgraded my xxxx xxxx card in xxxx and was t...   \n",
       "10     chase card was reported on xxxx however fraudu...   \n",
       "11     on xxxx while trying to book a xxxx  xxxx  tic...   \n",
       "14     my grand son give me check for  i deposit it i...   \n",
       "...                                                  ...   \n",
       "78303  after being a chase card customer for well ove...   \n",
       "78309  on wednesday xxxxxxxx i called chas my xxxx xx...   \n",
       "78310  i am not familiar with xxxx pay and did not un...   \n",
       "78311  i have had flawless credit for  yrs ive had ch...   \n",
       "78312  roughly  years ago i closed out my accounts wi...   \n",
       "\n",
       "                                   lemmatized_complaints  \\\n",
       "1      good morning name xxxx xxxx appreciate could h...   \n",
       "2      upgraded xxxx xxxx card xxxx told agent upgrad...   \n",
       "10     chase card reported xxxx however fraudulent ap...   \n",
       "11     xxxx trying book xxxx xxxx ticket came across ...   \n",
       "14     grand son give check deposit chase account fun...   \n",
       "...                                                  ...   \n",
       "78303  chase card customer well decade offered multip...   \n",
       "78309  wednesday xxxxxxxx called chas xxxx xxxx visa ...   \n",
       "78310  familiar xxxx pay understand great risk provid...   \n",
       "78311  flawless credit yr ive chase credit card chase...   \n",
       "78312  roughly year ago closed account jp morgan chas...   \n",
       "\n",
       "                                   complaint_POS_removed  \\\n",
       "1      morning name stop debt verification statement ...   \n",
       "2      xxxx card agent anniversary date agent informa...   \n",
       "10     application identity consent services credit i...   \n",
       "11     xxxx xxxx xxxx ticket offer ticket rewards car...   \n",
       "14     son chase account fund chase bank account mone...   \n",
       "...                                                  ...   \n",
       "78303  chase card customer decade solicitations credi...   \n",
       "78309  xxxx xxxx visa credit card provider claim purc...   \n",
       "78310  pay risk consumers chase bank app chase years ...   \n",
       "78311  credit yrs chase credit cards chase freedom pr...   \n",
       "78312  years accounts order line credit account payme...   \n",
       "\n",
       "                                         Complaint_clean  \n",
       "1      morning name stop debt verification statement ...  \n",
       "2       card agent anniversary date agent information...  \n",
       "10     application identity consent services credit i...  \n",
       "11        ticket offer ticket rewards card informatio...  \n",
       "14     son chase account fund chase bank account mone...  \n",
       "...                                                  ...  \n",
       "78303  chase card customer decade solicitations credi...  \n",
       "78309    visa credit card provider claim purchase pro...  \n",
       "78310  pay risk consumers chase bank app chase years ...  \n",
       "78311  credit yrs chase credit cards chase freedom pr...  \n",
       "78312  years accounts order line credit account payme...  \n",
       "\n",
       "[21072 rows x 4 columns]"
      ]
     },
     "execution_count": 43,
     "metadata": {},
     "output_type": "execute_result"
    }
   ],
   "source": [
    "## checking df_clean\n",
    "df_clean"
   ]
  },
  {
   "cell_type": "markdown",
   "metadata": {},
   "source": [
    "- Masks removed"
   ]
  },
  {
   "cell_type": "code",
   "execution_count": 45,
   "metadata": {},
   "outputs": [
    {
     "data": {
      "text/html": [
       "<div>\n",
       "<style scoped>\n",
       "    .dataframe tbody tr th:only-of-type {\n",
       "        vertical-align: middle;\n",
       "    }\n",
       "\n",
       "    .dataframe tbody tr th {\n",
       "        vertical-align: top;\n",
       "    }\n",
       "\n",
       "    .dataframe thead th {\n",
       "        text-align: right;\n",
       "    }\n",
       "</style>\n",
       "<table border=\"1\" class=\"dataframe\">\n",
       "  <thead>\n",
       "    <tr style=\"text-align: right;\">\n",
       "      <th></th>\n",
       "      <th>complaints</th>\n",
       "      <th>lemmatized_complaints</th>\n",
       "      <th>complaint_POS_removed</th>\n",
       "      <th>Complaint_clean</th>\n",
       "    </tr>\n",
       "  </thead>\n",
       "  <tbody>\n",
       "    <tr>\n",
       "      <th>1</th>\n",
       "      <td>good morning my name is xxxx xxxx and i apprec...</td>\n",
       "      <td>good morning name xxxx xxxx appreciate could h...</td>\n",
       "      <td>morning name stop debt verification statement ...</td>\n",
       "      <td>morning name stop debt verification statement ...</td>\n",
       "    </tr>\n",
       "    <tr>\n",
       "      <th>2</th>\n",
       "      <td>i upgraded my xxxx xxxx card in xxxx and was t...</td>\n",
       "      <td>upgraded xxxx xxxx card xxxx told agent upgrad...</td>\n",
       "      <td>xxxx card agent anniversary date agent informa...</td>\n",
       "      <td>card agent anniversary date agent information...</td>\n",
       "    </tr>\n",
       "    <tr>\n",
       "      <th>10</th>\n",
       "      <td>chase card was reported on xxxx however fraudu...</td>\n",
       "      <td>chase card reported xxxx however fraudulent ap...</td>\n",
       "      <td>application identity consent services credit i...</td>\n",
       "      <td>application identity consent services credit i...</td>\n",
       "    </tr>\n",
       "    <tr>\n",
       "      <th>11</th>\n",
       "      <td>on xxxx while trying to book a xxxx  xxxx  tic...</td>\n",
       "      <td>xxxx trying book xxxx xxxx ticket came across ...</td>\n",
       "      <td>xxxx xxxx xxxx ticket offer ticket rewards car...</td>\n",
       "      <td>ticket offer ticket rewards card informatio...</td>\n",
       "    </tr>\n",
       "    <tr>\n",
       "      <th>14</th>\n",
       "      <td>my grand son give me check for  i deposit it i...</td>\n",
       "      <td>grand son give check deposit chase account fun...</td>\n",
       "      <td>son chase account fund chase bank account mone...</td>\n",
       "      <td>son chase account fund chase bank account mone...</td>\n",
       "    </tr>\n",
       "  </tbody>\n",
       "</table>\n",
       "</div>"
      ],
      "text/plain": [
       "                                           complaints  \\\n",
       "1   good morning my name is xxxx xxxx and i apprec...   \n",
       "2   i upgraded my xxxx xxxx card in xxxx and was t...   \n",
       "10  chase card was reported on xxxx however fraudu...   \n",
       "11  on xxxx while trying to book a xxxx  xxxx  tic...   \n",
       "14  my grand son give me check for  i deposit it i...   \n",
       "\n",
       "                                lemmatized_complaints  \\\n",
       "1   good morning name xxxx xxxx appreciate could h...   \n",
       "2   upgraded xxxx xxxx card xxxx told agent upgrad...   \n",
       "10  chase card reported xxxx however fraudulent ap...   \n",
       "11  xxxx trying book xxxx xxxx ticket came across ...   \n",
       "14  grand son give check deposit chase account fun...   \n",
       "\n",
       "                                complaint_POS_removed  \\\n",
       "1   morning name stop debt verification statement ...   \n",
       "2   xxxx card agent anniversary date agent informa...   \n",
       "10  application identity consent services credit i...   \n",
       "11  xxxx xxxx xxxx ticket offer ticket rewards car...   \n",
       "14  son chase account fund chase bank account mone...   \n",
       "\n",
       "                                      Complaint_clean  \n",
       "1   morning name stop debt verification statement ...  \n",
       "2    card agent anniversary date agent information...  \n",
       "10  application identity consent services credit i...  \n",
       "11     ticket offer ticket rewards card informatio...  \n",
       "14  son chase account fund chase bank account mone...  "
      ]
     },
     "execution_count": 45,
     "metadata": {},
     "output_type": "execute_result"
    }
   ],
   "source": [
    "## saving df_clean as .csv file\n",
    "df_clean.to_csv('df_clean.csv', index=False)\n",
    "df_clean.head()"
   ]
  },
  {
   "cell_type": "markdown",
   "metadata": {},
   "source": [
    "## Feature Extraction\n",
    "Convert the raw texts to a matrix of TF-IDF features\n",
    "\n",
    "**max_df** is used for removing terms that appear too frequently, also known as \"corpus-specific stop words\"\n",
    "max_df = 0.95 means \"ignore terms that appear in more than 95% of the complaints\"\n",
    "\n",
    "**min_df** is used for removing terms that appear too infrequently\n",
    "min_df = 2 means \"ignore terms that appear in less than 2 complaints\""
   ]
  },
  {
   "cell_type": "code",
   "execution_count": 46,
   "metadata": {},
   "outputs": [],
   "source": [
    "#Write your code here to initialise the TfidfVectorizer\n",
    "from sklearn.feature_extraction.text import TfidfVectorizer\n",
    "vectorizer = TfidfVectorizer(stop_words='english', max_df=0.95, min_df=2)\n",
    "tfidf = vectorizer.fit_transform(df_clean.Complaint_clean)"
   ]
  },
  {
   "cell_type": "markdown",
   "metadata": {},
   "source": [
    "#### Create a document term matrix using fit_transform\n",
    "\n",
    "The contents of a document term matrix are tuples of (complaint_id,token_id) tf-idf score:\n",
    "The tuples that are not there have a tf-idf score of 0"
   ]
  },
  {
   "cell_type": "code",
   "execution_count": 47,
   "metadata": {},
   "outputs": [],
   "source": [
    "#Write your code here to create the Document Term Matrix by transforming the complaints column present in df_clean.\n",
    "dtm = vectorizer.fit_transform(df_clean['complaint_POS_removed'])"
   ]
  },
  {
   "cell_type": "code",
   "execution_count": 48,
   "metadata": {},
   "outputs": [
    {
     "data": {
      "text/html": [
       "<div>\n",
       "<style scoped>\n",
       "    .dataframe tbody tr th:only-of-type {\n",
       "        vertical-align: middle;\n",
       "    }\n",
       "\n",
       "    .dataframe tbody tr th {\n",
       "        vertical-align: top;\n",
       "    }\n",
       "\n",
       "    .dataframe thead th {\n",
       "        text-align: right;\n",
       "    }\n",
       "</style>\n",
       "<table border=\"1\" class=\"dataframe\">\n",
       "  <thead>\n",
       "    <tr style=\"text-align: right;\">\n",
       "      <th></th>\n",
       "      <th>aa</th>\n",
       "      <th>aaaratings</th>\n",
       "      <th>aarp</th>\n",
       "      <th>abandonment</th>\n",
       "      <th>abatement</th>\n",
       "      <th>abd</th>\n",
       "      <th>abide</th>\n",
       "      <th>abilities</th>\n",
       "      <th>ability</th>\n",
       "      <th>abs</th>\n",
       "      <th>...</th>\n",
       "      <th>youxxxx</th>\n",
       "      <th>youxxxxxxxx</th>\n",
       "      <th>yr</th>\n",
       "      <th>yrs</th>\n",
       "      <th>zeros</th>\n",
       "      <th>zip</th>\n",
       "      <th>zipcode</th>\n",
       "      <th>zombie</th>\n",
       "      <th>zone</th>\n",
       "      <th>zones</th>\n",
       "    </tr>\n",
       "  </thead>\n",
       "  <tbody>\n",
       "    <tr>\n",
       "      <th>0</th>\n",
       "      <td>0.0</td>\n",
       "      <td>0.0</td>\n",
       "      <td>0.0</td>\n",
       "      <td>0.0</td>\n",
       "      <td>0.0</td>\n",
       "      <td>0.0</td>\n",
       "      <td>0.0</td>\n",
       "      <td>0.0</td>\n",
       "      <td>0.0</td>\n",
       "      <td>0.0</td>\n",
       "      <td>...</td>\n",
       "      <td>0.0</td>\n",
       "      <td>0.0</td>\n",
       "      <td>0.0</td>\n",
       "      <td>0.000000</td>\n",
       "      <td>0.0</td>\n",
       "      <td>0.0</td>\n",
       "      <td>0.0</td>\n",
       "      <td>0.0</td>\n",
       "      <td>0.0</td>\n",
       "      <td>0.0</td>\n",
       "    </tr>\n",
       "    <tr>\n",
       "      <th>1</th>\n",
       "      <td>0.0</td>\n",
       "      <td>0.0</td>\n",
       "      <td>0.0</td>\n",
       "      <td>0.0</td>\n",
       "      <td>0.0</td>\n",
       "      <td>0.0</td>\n",
       "      <td>0.0</td>\n",
       "      <td>0.0</td>\n",
       "      <td>0.0</td>\n",
       "      <td>0.0</td>\n",
       "      <td>...</td>\n",
       "      <td>0.0</td>\n",
       "      <td>0.0</td>\n",
       "      <td>0.0</td>\n",
       "      <td>0.000000</td>\n",
       "      <td>0.0</td>\n",
       "      <td>0.0</td>\n",
       "      <td>0.0</td>\n",
       "      <td>0.0</td>\n",
       "      <td>0.0</td>\n",
       "      <td>0.0</td>\n",
       "    </tr>\n",
       "    <tr>\n",
       "      <th>2</th>\n",
       "      <td>0.0</td>\n",
       "      <td>0.0</td>\n",
       "      <td>0.0</td>\n",
       "      <td>0.0</td>\n",
       "      <td>0.0</td>\n",
       "      <td>0.0</td>\n",
       "      <td>0.0</td>\n",
       "      <td>0.0</td>\n",
       "      <td>0.0</td>\n",
       "      <td>0.0</td>\n",
       "      <td>...</td>\n",
       "      <td>0.0</td>\n",
       "      <td>0.0</td>\n",
       "      <td>0.0</td>\n",
       "      <td>0.000000</td>\n",
       "      <td>0.0</td>\n",
       "      <td>0.0</td>\n",
       "      <td>0.0</td>\n",
       "      <td>0.0</td>\n",
       "      <td>0.0</td>\n",
       "      <td>0.0</td>\n",
       "    </tr>\n",
       "    <tr>\n",
       "      <th>3</th>\n",
       "      <td>0.0</td>\n",
       "      <td>0.0</td>\n",
       "      <td>0.0</td>\n",
       "      <td>0.0</td>\n",
       "      <td>0.0</td>\n",
       "      <td>0.0</td>\n",
       "      <td>0.0</td>\n",
       "      <td>0.0</td>\n",
       "      <td>0.0</td>\n",
       "      <td>0.0</td>\n",
       "      <td>...</td>\n",
       "      <td>0.0</td>\n",
       "      <td>0.0</td>\n",
       "      <td>0.0</td>\n",
       "      <td>0.000000</td>\n",
       "      <td>0.0</td>\n",
       "      <td>0.0</td>\n",
       "      <td>0.0</td>\n",
       "      <td>0.0</td>\n",
       "      <td>0.0</td>\n",
       "      <td>0.0</td>\n",
       "    </tr>\n",
       "    <tr>\n",
       "      <th>4</th>\n",
       "      <td>0.0</td>\n",
       "      <td>0.0</td>\n",
       "      <td>0.0</td>\n",
       "      <td>0.0</td>\n",
       "      <td>0.0</td>\n",
       "      <td>0.0</td>\n",
       "      <td>0.0</td>\n",
       "      <td>0.0</td>\n",
       "      <td>0.0</td>\n",
       "      <td>0.0</td>\n",
       "      <td>...</td>\n",
       "      <td>0.0</td>\n",
       "      <td>0.0</td>\n",
       "      <td>0.0</td>\n",
       "      <td>0.000000</td>\n",
       "      <td>0.0</td>\n",
       "      <td>0.0</td>\n",
       "      <td>0.0</td>\n",
       "      <td>0.0</td>\n",
       "      <td>0.0</td>\n",
       "      <td>0.0</td>\n",
       "    </tr>\n",
       "    <tr>\n",
       "      <th>...</th>\n",
       "      <td>...</td>\n",
       "      <td>...</td>\n",
       "      <td>...</td>\n",
       "      <td>...</td>\n",
       "      <td>...</td>\n",
       "      <td>...</td>\n",
       "      <td>...</td>\n",
       "      <td>...</td>\n",
       "      <td>...</td>\n",
       "      <td>...</td>\n",
       "      <td>...</td>\n",
       "      <td>...</td>\n",
       "      <td>...</td>\n",
       "      <td>...</td>\n",
       "      <td>...</td>\n",
       "      <td>...</td>\n",
       "      <td>...</td>\n",
       "      <td>...</td>\n",
       "      <td>...</td>\n",
       "      <td>...</td>\n",
       "      <td>...</td>\n",
       "    </tr>\n",
       "    <tr>\n",
       "      <th>21067</th>\n",
       "      <td>0.0</td>\n",
       "      <td>0.0</td>\n",
       "      <td>0.0</td>\n",
       "      <td>0.0</td>\n",
       "      <td>0.0</td>\n",
       "      <td>0.0</td>\n",
       "      <td>0.0</td>\n",
       "      <td>0.0</td>\n",
       "      <td>0.0</td>\n",
       "      <td>0.0</td>\n",
       "      <td>...</td>\n",
       "      <td>0.0</td>\n",
       "      <td>0.0</td>\n",
       "      <td>0.0</td>\n",
       "      <td>0.000000</td>\n",
       "      <td>0.0</td>\n",
       "      <td>0.0</td>\n",
       "      <td>0.0</td>\n",
       "      <td>0.0</td>\n",
       "      <td>0.0</td>\n",
       "      <td>0.0</td>\n",
       "    </tr>\n",
       "    <tr>\n",
       "      <th>21068</th>\n",
       "      <td>0.0</td>\n",
       "      <td>0.0</td>\n",
       "      <td>0.0</td>\n",
       "      <td>0.0</td>\n",
       "      <td>0.0</td>\n",
       "      <td>0.0</td>\n",
       "      <td>0.0</td>\n",
       "      <td>0.0</td>\n",
       "      <td>0.0</td>\n",
       "      <td>0.0</td>\n",
       "      <td>...</td>\n",
       "      <td>0.0</td>\n",
       "      <td>0.0</td>\n",
       "      <td>0.0</td>\n",
       "      <td>0.000000</td>\n",
       "      <td>0.0</td>\n",
       "      <td>0.0</td>\n",
       "      <td>0.0</td>\n",
       "      <td>0.0</td>\n",
       "      <td>0.0</td>\n",
       "      <td>0.0</td>\n",
       "    </tr>\n",
       "    <tr>\n",
       "      <th>21069</th>\n",
       "      <td>0.0</td>\n",
       "      <td>0.0</td>\n",
       "      <td>0.0</td>\n",
       "      <td>0.0</td>\n",
       "      <td>0.0</td>\n",
       "      <td>0.0</td>\n",
       "      <td>0.0</td>\n",
       "      <td>0.0</td>\n",
       "      <td>0.0</td>\n",
       "      <td>0.0</td>\n",
       "      <td>...</td>\n",
       "      <td>0.0</td>\n",
       "      <td>0.0</td>\n",
       "      <td>0.0</td>\n",
       "      <td>0.000000</td>\n",
       "      <td>0.0</td>\n",
       "      <td>0.0</td>\n",
       "      <td>0.0</td>\n",
       "      <td>0.0</td>\n",
       "      <td>0.0</td>\n",
       "      <td>0.0</td>\n",
       "    </tr>\n",
       "    <tr>\n",
       "      <th>21070</th>\n",
       "      <td>0.0</td>\n",
       "      <td>0.0</td>\n",
       "      <td>0.0</td>\n",
       "      <td>0.0</td>\n",
       "      <td>0.0</td>\n",
       "      <td>0.0</td>\n",
       "      <td>0.0</td>\n",
       "      <td>0.0</td>\n",
       "      <td>0.0</td>\n",
       "      <td>0.0</td>\n",
       "      <td>...</td>\n",
       "      <td>0.0</td>\n",
       "      <td>0.0</td>\n",
       "      <td>0.0</td>\n",
       "      <td>0.146716</td>\n",
       "      <td>0.0</td>\n",
       "      <td>0.0</td>\n",
       "      <td>0.0</td>\n",
       "      <td>0.0</td>\n",
       "      <td>0.0</td>\n",
       "      <td>0.0</td>\n",
       "    </tr>\n",
       "    <tr>\n",
       "      <th>21071</th>\n",
       "      <td>0.0</td>\n",
       "      <td>0.0</td>\n",
       "      <td>0.0</td>\n",
       "      <td>0.0</td>\n",
       "      <td>0.0</td>\n",
       "      <td>0.0</td>\n",
       "      <td>0.0</td>\n",
       "      <td>0.0</td>\n",
       "      <td>0.0</td>\n",
       "      <td>0.0</td>\n",
       "      <td>...</td>\n",
       "      <td>0.0</td>\n",
       "      <td>0.0</td>\n",
       "      <td>0.0</td>\n",
       "      <td>0.000000</td>\n",
       "      <td>0.0</td>\n",
       "      <td>0.0</td>\n",
       "      <td>0.0</td>\n",
       "      <td>0.0</td>\n",
       "      <td>0.0</td>\n",
       "      <td>0.0</td>\n",
       "    </tr>\n",
       "  </tbody>\n",
       "</table>\n",
       "<p>21072 rows × 7830 columns</p>\n",
       "</div>"
      ],
      "text/plain": [
       "        aa  aaaratings  aarp  abandonment  abatement  abd  abide  abilities  \\\n",
       "0      0.0         0.0   0.0          0.0        0.0  0.0    0.0        0.0   \n",
       "1      0.0         0.0   0.0          0.0        0.0  0.0    0.0        0.0   \n",
       "2      0.0         0.0   0.0          0.0        0.0  0.0    0.0        0.0   \n",
       "3      0.0         0.0   0.0          0.0        0.0  0.0    0.0        0.0   \n",
       "4      0.0         0.0   0.0          0.0        0.0  0.0    0.0        0.0   \n",
       "...    ...         ...   ...          ...        ...  ...    ...        ...   \n",
       "21067  0.0         0.0   0.0          0.0        0.0  0.0    0.0        0.0   \n",
       "21068  0.0         0.0   0.0          0.0        0.0  0.0    0.0        0.0   \n",
       "21069  0.0         0.0   0.0          0.0        0.0  0.0    0.0        0.0   \n",
       "21070  0.0         0.0   0.0          0.0        0.0  0.0    0.0        0.0   \n",
       "21071  0.0         0.0   0.0          0.0        0.0  0.0    0.0        0.0   \n",
       "\n",
       "       ability  abs  ...  youxxxx  youxxxxxxxx   yr       yrs  zeros  zip  \\\n",
       "0          0.0  0.0  ...      0.0          0.0  0.0  0.000000    0.0  0.0   \n",
       "1          0.0  0.0  ...      0.0          0.0  0.0  0.000000    0.0  0.0   \n",
       "2          0.0  0.0  ...      0.0          0.0  0.0  0.000000    0.0  0.0   \n",
       "3          0.0  0.0  ...      0.0          0.0  0.0  0.000000    0.0  0.0   \n",
       "4          0.0  0.0  ...      0.0          0.0  0.0  0.000000    0.0  0.0   \n",
       "...        ...  ...  ...      ...          ...  ...       ...    ...  ...   \n",
       "21067      0.0  0.0  ...      0.0          0.0  0.0  0.000000    0.0  0.0   \n",
       "21068      0.0  0.0  ...      0.0          0.0  0.0  0.000000    0.0  0.0   \n",
       "21069      0.0  0.0  ...      0.0          0.0  0.0  0.000000    0.0  0.0   \n",
       "21070      0.0  0.0  ...      0.0          0.0  0.0  0.146716    0.0  0.0   \n",
       "21071      0.0  0.0  ...      0.0          0.0  0.0  0.000000    0.0  0.0   \n",
       "\n",
       "       zipcode  zombie  zone  zones  \n",
       "0          0.0     0.0   0.0    0.0  \n",
       "1          0.0     0.0   0.0    0.0  \n",
       "2          0.0     0.0   0.0    0.0  \n",
       "3          0.0     0.0   0.0    0.0  \n",
       "4          0.0     0.0   0.0    0.0  \n",
       "...        ...     ...   ...    ...  \n",
       "21067      0.0     0.0   0.0    0.0  \n",
       "21068      0.0     0.0   0.0    0.0  \n",
       "21069      0.0     0.0   0.0    0.0  \n",
       "21070      0.0     0.0   0.0    0.0  \n",
       "21071      0.0     0.0   0.0    0.0  \n",
       "\n",
       "[21072 rows x 7830 columns]"
      ]
     },
     "execution_count": 48,
     "metadata": {},
     "output_type": "execute_result"
    }
   ],
   "source": [
    "pd.DataFrame(dtm.toarray(), columns=vectorizer.get_feature_names())"
   ]
  },
  {
   "cell_type": "markdown",
   "metadata": {},
   "source": [
    "## Topic Modelling using NMF\n",
    "\n",
    "Non-Negative Matrix Factorization (NMF) is an unsupervised technique so there are no labeling of topics that the model will be trained on. The way it works is that, NMF decomposes (or factorizes) high-dimensional vectors into a lower-dimensional representation. These lower-dimensional vectors are non-negative which also means their coefficients are non-negative.\n",
    "\n",
    "In this task you have to perform the following:\n",
    "\n",
    "* Find the best number of clusters \n",
    "* Apply the best number to create word clusters\n",
    "* Inspect & validate the correction of each cluster wrt the complaints \n",
    "* Correct the labels if needed \n",
    "* Map the clusters to topics/cluster names"
   ]
  },
  {
   "cell_type": "code",
   "execution_count": 49,
   "metadata": {},
   "outputs": [],
   "source": [
    "## importing libraries\n",
    "from sklearn.decomposition import NMF"
   ]
  },
  {
   "cell_type": "markdown",
   "metadata": {},
   "source": [
    "## Manual Topic Modeling\n",
    "You need to do take the trial & error approach to find the best num of topics for your NMF model.\n",
    "\n",
    "The only parameter that is required is the number of components i.e. the number of topics we want. This is the most crucial step in the whole topic modeling process and will greatly affect how good your final topics are."
   ]
  },
  {
   "cell_type": "code",
   "execution_count": 50,
   "metadata": {},
   "outputs": [],
   "source": [
    "#Load your nmf_model with the n_components i.e 5\n",
    "num_topics = 5\n",
    "#keep the random_state =40\n",
    "nmf_model = NMF(n_components=num_topics,random_state = 40)\n",
    "W = nmf_model.fit_transform(dtm)  # Document-topic matrix\n",
    "H = nmf_model.components_       # Topic-term matrix"
   ]
  },
  {
   "cell_type": "code",
   "execution_count": 51,
   "metadata": {
    "scrolled": true
   },
   "outputs": [
    {
     "data": {
      "text/plain": [
       "7830"
      ]
     },
     "execution_count": 51,
     "metadata": {},
     "output_type": "execute_result"
    }
   ],
   "source": [
    "## let's see how many topics are there \n",
    "len(vectorizer.get_feature_names())"
   ]
  },
  {
   "cell_type": "code",
   "execution_count": 52,
   "metadata": {},
   "outputs": [
    {
     "data": {
      "text/html": [
       "<div>\n",
       "<style scoped>\n",
       "    .dataframe tbody tr th:only-of-type {\n",
       "        vertical-align: middle;\n",
       "    }\n",
       "\n",
       "    .dataframe tbody tr th {\n",
       "        vertical-align: top;\n",
       "    }\n",
       "\n",
       "    .dataframe thead th {\n",
       "        text-align: right;\n",
       "    }\n",
       "</style>\n",
       "<table border=\"1\" class=\"dataframe\">\n",
       "  <thead>\n",
       "    <tr style=\"text-align: right;\">\n",
       "      <th></th>\n",
       "      <th>Word 1</th>\n",
       "      <th>Word 2</th>\n",
       "      <th>Word 3</th>\n",
       "      <th>Word 4</th>\n",
       "      <th>Word 5</th>\n",
       "      <th>Word 6</th>\n",
       "      <th>Word 7</th>\n",
       "      <th>Word 8</th>\n",
       "      <th>Word 9</th>\n",
       "      <th>Word 10</th>\n",
       "      <th>Word 11</th>\n",
       "      <th>Word 12</th>\n",
       "      <th>Word 13</th>\n",
       "      <th>Word 14</th>\n",
       "      <th>Word 15</th>\n",
       "    </tr>\n",
       "  </thead>\n",
       "  <tbody>\n",
       "    <tr>\n",
       "      <th>Topic 1</th>\n",
       "      <td>xxxx</td>\n",
       "      <td>number</td>\n",
       "      <td>bank</td>\n",
       "      <td>chase</td>\n",
       "      <td>xxxxxxxx</td>\n",
       "      <td>money</td>\n",
       "      <td>letter</td>\n",
       "      <td>email</td>\n",
       "      <td>information</td>\n",
       "      <td>phone</td>\n",
       "      <td>complaint</td>\n",
       "      <td>debt</td>\n",
       "      <td>case</td>\n",
       "      <td>address</td>\n",
       "      <td>transaction</td>\n",
       "    </tr>\n",
       "    <tr>\n",
       "      <th>Topic 2</th>\n",
       "      <td>card</td>\n",
       "      <td>chase</td>\n",
       "      <td>charges</td>\n",
       "      <td>charge</td>\n",
       "      <td>credit</td>\n",
       "      <td>fraud</td>\n",
       "      <td>fee</td>\n",
       "      <td>dispute</td>\n",
       "      <td>xxxxxxxx</td>\n",
       "      <td>balance</td>\n",
       "      <td>merchant</td>\n",
       "      <td>company</td>\n",
       "      <td>service</td>\n",
       "      <td>customer</td>\n",
       "      <td>statement</td>\n",
       "    </tr>\n",
       "    <tr>\n",
       "      <th>Topic 3</th>\n",
       "      <td>account</td>\n",
       "      <td>bank</td>\n",
       "      <td>check</td>\n",
       "      <td>money</td>\n",
       "      <td>chase</td>\n",
       "      <td>funds</td>\n",
       "      <td>checking</td>\n",
       "      <td>branch</td>\n",
       "      <td>deposit</td>\n",
       "      <td>accounts</td>\n",
       "      <td>days</td>\n",
       "      <td>business</td>\n",
       "      <td>fees</td>\n",
       "      <td>balance</td>\n",
       "      <td>checks</td>\n",
       "    </tr>\n",
       "    <tr>\n",
       "      <th>Topic 4</th>\n",
       "      <td>payment</td>\n",
       "      <td>loan</td>\n",
       "      <td>mortgage</td>\n",
       "      <td>payments</td>\n",
       "      <td>chase</td>\n",
       "      <td>modification</td>\n",
       "      <td>home</td>\n",
       "      <td>xxxxxxxx</td>\n",
       "      <td>time</td>\n",
       "      <td>month</td>\n",
       "      <td>years</td>\n",
       "      <td>rate</td>\n",
       "      <td>property</td>\n",
       "      <td>foreclosure</td>\n",
       "      <td>balance</td>\n",
       "    </tr>\n",
       "    <tr>\n",
       "      <th>Topic 5</th>\n",
       "      <td>credit</td>\n",
       "      <td>report</td>\n",
       "      <td>inquiry</td>\n",
       "      <td>inquiries</td>\n",
       "      <td>card</td>\n",
       "      <td>score</td>\n",
       "      <td>cards</td>\n",
       "      <td>accounts</td>\n",
       "      <td>account</td>\n",
       "      <td>debt</td>\n",
       "      <td>reporting</td>\n",
       "      <td>information</td>\n",
       "      <td>bureaus</td>\n",
       "      <td>limit</td>\n",
       "      <td>reports</td>\n",
       "    </tr>\n",
       "  </tbody>\n",
       "</table>\n",
       "</div>"
      ],
      "text/plain": [
       "          Word 1  Word 2    Word 3     Word 4    Word 5        Word 6  \\\n",
       "Topic 1     xxxx  number      bank      chase  xxxxxxxx         money   \n",
       "Topic 2     card   chase   charges     charge    credit         fraud   \n",
       "Topic 3  account    bank     check      money     chase         funds   \n",
       "Topic 4  payment    loan  mortgage   payments     chase  modification   \n",
       "Topic 5   credit  report   inquiry  inquiries      card         score   \n",
       "\n",
       "           Word 7    Word 8       Word 9   Word 10    Word 11      Word 12  \\\n",
       "Topic 1    letter     email  information     phone  complaint         debt   \n",
       "Topic 2       fee   dispute     xxxxxxxx   balance   merchant      company   \n",
       "Topic 3  checking    branch      deposit  accounts       days     business   \n",
       "Topic 4      home  xxxxxxxx         time     month      years         rate   \n",
       "Topic 5     cards  accounts      account      debt  reporting  information   \n",
       "\n",
       "          Word 13      Word 14      Word 15  \n",
       "Topic 1      case      address  transaction  \n",
       "Topic 2   service     customer    statement  \n",
       "Topic 3      fees      balance       checks  \n",
       "Topic 4  property  foreclosure      balance  \n",
       "Topic 5   bureaus        limit      reports  "
      ]
     },
     "execution_count": 52,
     "metadata": {},
     "output_type": "execute_result"
    }
   ],
   "source": [
    "#Print the Top15 words for each of the topics\n",
    "# Top 15 words per topic\n",
    "\n",
    "words = np.array(vectorizer.get_feature_names())\n",
    "topic_words = pd.DataFrame(np.zeros((num_topics, 15)), index=[f'Topic {i + 1}' for i in range(num_topics)],\n",
    "                           columns=[f'Word {i + 1}' for i in range(15)]).astype(str)\n",
    "for i in range(num_topics):\n",
    "    ix = H[i].argsort()[::-1][:15]\n",
    "    topic_words.iloc[i] = words[ix]\n",
    "\n",
    "topic_words"
   ]
  },
  {
   "cell_type": "code",
   "execution_count": 53,
   "metadata": {},
   "outputs": [
    {
     "data": {
      "text/plain": [
       "array([0, 0, 4, ..., 1, 3, 3])"
      ]
     },
     "execution_count": 53,
     "metadata": {},
     "output_type": "execute_result"
    }
   ],
   "source": [
    "#Create the best topic for each complaint in terms of integer value 0,1,2,3 & 4\n",
    "topic_results = nmf_model.transform(dtm)\n",
    "topic_results[0].round(2)\n",
    "topic_results[0].argmax()\n",
    "topic_results.argmax(axis=1)"
   ]
  },
  {
   "cell_type": "code",
   "execution_count": 54,
   "metadata": {},
   "outputs": [
    {
     "data": {
      "text/html": [
       "<div>\n",
       "<style scoped>\n",
       "    .dataframe tbody tr th:only-of-type {\n",
       "        vertical-align: middle;\n",
       "    }\n",
       "\n",
       "    .dataframe tbody tr th {\n",
       "        vertical-align: top;\n",
       "    }\n",
       "\n",
       "    .dataframe thead th {\n",
       "        text-align: right;\n",
       "    }\n",
       "</style>\n",
       "<table border=\"1\" class=\"dataframe\">\n",
       "  <thead>\n",
       "    <tr style=\"text-align: right;\">\n",
       "      <th></th>\n",
       "      <th>complaints</th>\n",
       "      <th>lemmatized_complaints</th>\n",
       "      <th>complaint_POS_removed</th>\n",
       "      <th>Complaint_clean</th>\n",
       "      <th>Topic</th>\n",
       "    </tr>\n",
       "  </thead>\n",
       "  <tbody>\n",
       "    <tr>\n",
       "      <th>1</th>\n",
       "      <td>good morning my name is xxxx xxxx and i apprec...</td>\n",
       "      <td>good morning name xxxx xxxx appreciate could h...</td>\n",
       "      <td>morning name stop debt verification statement ...</td>\n",
       "      <td>morning name stop debt verification statement ...</td>\n",
       "      <td>0</td>\n",
       "    </tr>\n",
       "    <tr>\n",
       "      <th>2</th>\n",
       "      <td>i upgraded my xxxx xxxx card in xxxx and was t...</td>\n",
       "      <td>upgraded xxxx xxxx card xxxx told agent upgrad...</td>\n",
       "      <td>xxxx card agent anniversary date agent informa...</td>\n",
       "      <td>card agent anniversary date agent information...</td>\n",
       "      <td>0</td>\n",
       "    </tr>\n",
       "    <tr>\n",
       "      <th>10</th>\n",
       "      <td>chase card was reported on xxxx however fraudu...</td>\n",
       "      <td>chase card reported xxxx however fraudulent ap...</td>\n",
       "      <td>application identity consent services credit i...</td>\n",
       "      <td>application identity consent services credit i...</td>\n",
       "      <td>4</td>\n",
       "    </tr>\n",
       "    <tr>\n",
       "      <th>11</th>\n",
       "      <td>on xxxx while trying to book a xxxx  xxxx  tic...</td>\n",
       "      <td>xxxx trying book xxxx xxxx ticket came across ...</td>\n",
       "      <td>xxxx xxxx xxxx ticket offer ticket rewards car...</td>\n",
       "      <td>ticket offer ticket rewards card informatio...</td>\n",
       "      <td>4</td>\n",
       "    </tr>\n",
       "    <tr>\n",
       "      <th>14</th>\n",
       "      <td>my grand son give me check for  i deposit it i...</td>\n",
       "      <td>grand son give check deposit chase account fun...</td>\n",
       "      <td>son chase account fund chase bank account mone...</td>\n",
       "      <td>son chase account fund chase bank account mone...</td>\n",
       "      <td>2</td>\n",
       "    </tr>\n",
       "  </tbody>\n",
       "</table>\n",
       "</div>"
      ],
      "text/plain": [
       "                                           complaints  \\\n",
       "1   good morning my name is xxxx xxxx and i apprec...   \n",
       "2   i upgraded my xxxx xxxx card in xxxx and was t...   \n",
       "10  chase card was reported on xxxx however fraudu...   \n",
       "11  on xxxx while trying to book a xxxx  xxxx  tic...   \n",
       "14  my grand son give me check for  i deposit it i...   \n",
       "\n",
       "                                lemmatized_complaints  \\\n",
       "1   good morning name xxxx xxxx appreciate could h...   \n",
       "2   upgraded xxxx xxxx card xxxx told agent upgrad...   \n",
       "10  chase card reported xxxx however fraudulent ap...   \n",
       "11  xxxx trying book xxxx xxxx ticket came across ...   \n",
       "14  grand son give check deposit chase account fun...   \n",
       "\n",
       "                                complaint_POS_removed  \\\n",
       "1   morning name stop debt verification statement ...   \n",
       "2   xxxx card agent anniversary date agent informa...   \n",
       "10  application identity consent services credit i...   \n",
       "11  xxxx xxxx xxxx ticket offer ticket rewards car...   \n",
       "14  son chase account fund chase bank account mone...   \n",
       "\n",
       "                                      Complaint_clean  Topic  \n",
       "1   morning name stop debt verification statement ...      0  \n",
       "2    card agent anniversary date agent information...      0  \n",
       "10  application identity consent services credit i...      4  \n",
       "11     ticket offer ticket rewards card informatio...      4  \n",
       "14  son chase account fund chase bank account mone...      2  "
      ]
     },
     "execution_count": 54,
     "metadata": {},
     "output_type": "execute_result"
    }
   ],
   "source": [
    "#Assign the best topic to each of the complaints in Topic Column\n",
    "df_clean['Topic'] = topic_results.argmax(axis=1)\n",
    "df_clean.head()"
   ]
  },
  {
   "cell_type": "code",
   "execution_count": 60,
   "metadata": {},
   "outputs": [
    {
     "data": {
      "text/html": [
       "<div>\n",
       "<style scoped>\n",
       "    .dataframe tbody tr th:only-of-type {\n",
       "        vertical-align: middle;\n",
       "    }\n",
       "\n",
       "    .dataframe tbody tr th {\n",
       "        vertical-align: top;\n",
       "    }\n",
       "\n",
       "    .dataframe thead th {\n",
       "        text-align: right;\n",
       "    }\n",
       "</style>\n",
       "<table border=\"1\" class=\"dataframe\">\n",
       "  <thead>\n",
       "    <tr style=\"text-align: right;\">\n",
       "      <th></th>\n",
       "      <th>complaints</th>\n",
       "      <th>lemmatized_complaints</th>\n",
       "      <th>complaint_POS_removed</th>\n",
       "      <th>Complaint_clean</th>\n",
       "      <th>Topic</th>\n",
       "    </tr>\n",
       "  </thead>\n",
       "  <tbody>\n",
       "    <tr>\n",
       "      <th>1</th>\n",
       "      <td>good morning my name is xxxx xxxx and i appreciate it if you could help me put a stop to chase bank cardmember services \\nin  i wrote to chase asking for debt verification and what they sent me a statement which is not acceptable i am asking the bank to validate the debt instead i been receiving mail every month from them attempting to collect a debt \\ni have a right to know this information as a consumer \\n\\nchase account  xxxx xxxx xxxx xxxx thanks in advance for your help</td>\n",
       "      <td>good morning name xxxx xxxx appreciate could help put stop chase bank cardmember service wrote chase asking debt verification sent statement acceptable asking bank validate debt instead receiving mail every month attempting collect debt right know information consumer chase account xxxx xxxx xxxx xxxx thanks advance help</td>\n",
       "      <td>morning name stop debt verification statement bank debt mail month debt right information consumer chase xxxx xxxx xxxx xxxx thanks advance help</td>\n",
       "      <td>morning name stop debt verification statement bank debt mail month debt right information consumer chase     thanks advance help</td>\n",
       "      <td>0</td>\n",
       "    </tr>\n",
       "    <tr>\n",
       "      <th>2</th>\n",
       "      <td>i upgraded my xxxx xxxx card in xxxx and was told by the agent who did the upgrade my anniversary date would not change it turned the agent was giving me the wrong information in order to upgrade the account xxxx   changed my anniversary date from xxxxxxxx to xxxxxxxx without my consent xxxx has the recording of the agent who was misled me</td>\n",
       "      <td>upgraded xxxx xxxx card xxxx told agent upgrade anniversary date would change turned agent giving wrong information order upgrade account xxxx changed anniversary date xxxxxxxx xxxxxxxx without consent xxxx recording agent misled</td>\n",
       "      <td>xxxx card agent anniversary date agent information order account anniversary date consent xxxx recording agent</td>\n",
       "      <td>card agent anniversary date agent information order account anniversary date consent  recording agent</td>\n",
       "      <td>0</td>\n",
       "    </tr>\n",
       "    <tr>\n",
       "      <th>73</th>\n",
       "      <td>i have wired through one of chase branches in xxxx xxxx the exact reinstatement amount of  to jpmorgan chase bank in order to removewithdraw their wrongful foreclosure proceedings on my residential property\\n\\nhowever the chase executive ms xxxx xxxx and its trustee xxxx xxxx xxxx xxxx are not honoring even their own rules and regulations she wants the total payoff of  now in order to remove their wrongful foreclosure proceedings with sales date of xxxx at xxxx xxxx on my family resident\\n\\nshe knows i can not prepare xxxx in such a short time thats why i asked for minimum reinstatement amount to avoid foreclosure without resorting to chapter xxxx bankruptcy filing\\n\\ni appreciate you assistant in bringing jpmorgan chase and its foreclosure trustee xxxx xxxx xxxx xxxx  quality  to their senses and stop harassing my family with their fraudulent default claim as explained in my previous complaint about them on xxxxxxxx\\n\\nmy previous complaint id is xxxx submitted xxxx product  mortgage issue wrongful foreclosure\\n\\nthank you xxxx xxxx tell   xxxx email  xxxx xxxx</td>\n",
       "      <td>wired one chase branch xxxx xxxx exact reinstatement amount jpmorgan chase bank order removewithdraw wrongful foreclosure proceeding residential property however chase executive m xxxx xxxx trustee xxxx xxxx xxxx xxxx honoring even rule regulation want total payoff order remove wrongful foreclosure proceeding sale date xxxx xxxx xxxx family resident know prepare xxxx short time thats asked minimum reinstatement amount avoid foreclosure without resorting chapter xxxx bankruptcy filing appreciate assistant bringing jpmorgan chase foreclosure trustee xxxx xxxx xxxx xxxx quality sens stop harassing family fraudulent default claim explained previous complaint xxxxxxxx previous complaint id xxxx submitted xxxx product mortgage issue wrongful foreclosure thank xxxx xxxx tell xxxx email xxxx xxxx</td>\n",
       "      <td>chase branches xxxx xxxx reinstatement amount order foreclosure proceedings property executive trustee xxxx xxxx xxxx xxxx rules regulations payoff order foreclosure proceedings sales date xxxx xxxx family resident xxxx time reinstatement amount foreclosure chapter xxxx bankruptcy filing assistant chase foreclosure trustee xxxx xxxx xxxx xxxx quality senses family default claim complaint xxxxxxxx complaint xxxx xxxx product mortgage issue foreclosure xxxx xxxx xxxx email xxxx xxxx</td>\n",
       "      <td>chase branches   reinstatement amount order foreclosure proceedings property executive trustee     rules regulations payoff order foreclosure proceedings sales date   family resident  time reinstatement amount foreclosure chapter  bankruptcy filing assistant chase foreclosure trustee     quality senses family default claim complaint  complaint   product mortgage issue foreclosure    email</td>\n",
       "      <td>0</td>\n",
       "    </tr>\n",
       "    <tr>\n",
       "      <th>48</th>\n",
       "      <td>jp morgan chase bank please answer the following questions    on xxxxxxxx xxxxxxxxxxxxxxxx xxxxxxxx  xxxxxxxx jpmorgan chase accessed information about me through xxxx xxxx xxxx  xxxx \\nwhat was the valid reason for accessing my personal information through xxxx xxxx xxxx  xxxx \\n\\n  the chase checking account that was closed recently during xxxxxxxx had a routing or xxxx number of xxxx according to checks and statements provided to me by chase \\nxxxx xxxx xxxx showed chase reporting an xxxx routing number of xxxx before and after i had disputed the xxxx number with chase \\nwhy do these two routing numbers not match \\n\\n  xxxxxxxx i received a response from xxxx xxxx xxxx xxxx to a dispute about information chase was providing on my report dispute case id xxxx the information chase had been submitting was deleted due to disputed info being incomplete inaccurate or unverifiable \\nis this true \\n\\nonce again i have asked    questions \\n\\ni will send the cfpb copies of the information i have pertaining to the  questions in this complaint via us mail which are the xxxx xxxx xxxx xxxx reports ive received \\n\\nthank you for your attention and humbly await your response</td>\n",
       "      <td>jp morgan chase bank please answer following question xxxxxxxx xxxxxxxxxxxxxxxx xxxxxxxx xxxxxxxx jpmorgan chase accessed information xxxx xxxx xxxx xxxx valid reason accessing personal information xxxx xxxx xxxx xxxx chase checking account closed recently xxxxxxxx routing xxxx number xxxx according check statement provided chase xxxx xxxx xxxx showed chase reporting xxxx routing number xxxx disputed xxxx number chase two routing number match xxxxxxxx received response xxxx xxxx xxxx xxxx dispute information chase providing report dispute case id xxxx information chase submitting deleted due disputed info incomplete inaccurate unverifiable true asked question send cfpb copy information pertaining question complaint via u mail xxxx xxxx xxxx xxxx report ive received thank attention humbly await response</td>\n",
       "      <td>questions information xxxx xxxx xxxx xxxx reason information xxxx xxxx xxxx xxxx chase account routing xxxx number checks statements xxxx chase xxxx routing number xxxx xxxx number routing numbers xxxxxxxx response xxxx xxxx xxxx xxxx dispute information chase report dispute case d information chase info questions cfpb copies information questions complaint mail xxxx xxxx xxxx attention response</td>\n",
       "      <td>questions information     reason information     chase account routing  number checks statements  chase  routing number   number routing numbers  response     dispute information chase report dispute case d information chase info questions cfpb copies information questions complaint mail    attention response</td>\n",
       "      <td>0</td>\n",
       "    </tr>\n",
       "    <tr>\n",
       "      <th>45</th>\n",
       "      <td>i made a purchase with xxxx xxxx xxxx on xxxx in the amount of  i was charged twice for this transaction i placed a disputes case with chase bank on xxxx when i noticed the charge on my account i called back on sunday xxxx about the provisional credit for the charge and again on monday xxxx i was told the charge had to post before a provisional credit could be provided i used my debt card on monday xxxx then tried to use it again but it would not work i went to chase bank on xxxx xxxx xxxx in xxxx xxxx nevada and was told that my account was closed due to fraudulent activity i was shocked because i had not reported fraud on my account i later found out that i was being accused by the disputes department of placing a fraudulent disputes case for the duplicate charge from xxxx xxxx  xxxx i later contacted xxxx xxxx  xxxx again and was told that they did see a duplicate charge and would credit my account within     days i contacted the chase disputes department again on monday xxxxxxxx  and explained thaxxxx xxxx xxxx xxxx would credit my account and that i did not like being accused of making a fraudulent disputes claim the escalation manager did not care and told me that chase decision on closing my account was final i had been a customer of chase for xxxx   years my character has been challenged by the disputes agents and i consider this to be detrimental to my character and slander \\n\\ni am not seeking to keep my account open with chase but i also do not want chase reporting that they closed my checking account involuntarily \\n\\nonce again i do not want chase to have the checking account that i had with them being reflecting on any public records as being closed as involuntary closure by chase \\n\\ni did nothing wrong by filing a disputes claim for the duplicate charge or any other disputes cases that were filed in the past</td>\n",
       "      <td>made purchase xxxx xxxx xxxx xxxx amount charged twice transaction placed dispute case chase bank xxxx noticed charge account called back sunday xxxx provisional credit charge monday xxxx told charge post provisional credit could provided used debt card monday xxxx tried use would work went chase bank xxxx xxxx xxxx xxxx xxxx nevada told account closed due fraudulent activity shocked reported fraud account later found accused dispute department placing fraudulent dispute case duplicate charge xxxx xxxx xxxx later contacted xxxx xxxx xxxx told see duplicate charge would credit account within day contacted chase dispute department monday xxxxxxxx explained thaxxxx xxxx xxxx xxxx would credit account like accused making fraudulent dispute claim escalation manager care told chase decision closing account final customer chase xxxx year character challenged dispute agent consider detrimental character slander seeking keep account open chase also want chase reporting closed checking account involuntarily want chase checking account reflecting public record closed involuntary closure chase nothing wrong filing dispute claim duplicate charge dispute case filed past</td>\n",
       "      <td>purchase xxxx xxxx xxxx amount transaction disputes case charge account credit charge charge credit debt card xxxx xxxx xxxx account activity fraud account disputes disputes case charge xxxx xxxx xxxx xxxx xxxx charge account days chase disputes department thaxxxx xxxx xxxx xxxx account disputes escalation manager decision account customer chase years character disputes agents character account chase chase checking account chase checking account records closure chase disputes claim charge disputes cases past</td>\n",
       "      <td>purchase    amount transaction disputes case charge account credit charge charge credit debt card    account activity fraud account disputes disputes case charge      charge account days chase disputes department tha    account disputes escalation manager decision account customer chase years character disputes agents character account chase chase checking account chase checking account records closure chase disputes claim charge disputes cases past</td>\n",
       "      <td>0</td>\n",
       "    </tr>\n",
       "    <tr>\n",
       "      <th>50</th>\n",
       "      <td>i am a senior citizen that has been scammed by several companies from xxxx to xxxx i have paid over  to these time share companies and they have did nothing at all they were all misleading and i have tried to get a refund from them and my credit card i have been unsucceful i have all the information on every company that i have paid</td>\n",
       "      <td>senior citizen scammed several company xxxx xxxx paid time share company nothing misleading tried get refund credit card unsucceful information every company paid</td>\n",
       "      <td>citizen companies xxxx xxxx time share companies refund credit card information company</td>\n",
       "      <td>citizen companies   time share companies refund credit card information company</td>\n",
       "      <td>1</td>\n",
       "    </tr>\n",
       "    <tr>\n",
       "      <th>43</th>\n",
       "      <td>chase sent me an email today with the innocuous title  important information regarding changes to your chase account   \\n\\nin it they force me into binding arbitration  \\n\\nthey do include a method to opt out but have no additional information about the consequences  and even more egregiously despite chase simply sending an email doing this they require me to mail them a letter with my personal information enclosed in order to opt out \\n\\nthis is clearly less secure and a massive loss of both my time and money that is clearly being used solely to dissuade people from opting out \\n\\nthis is blatant malpractice by chase</td>\n",
       "      <td>chase sent email today innocuous title important information regarding change chase account force binding arbitration include method opt additional information consequence even egregiously despite chase simply sending email require mail letter personal information enclosed order opt clearly le secure massive loss time money clearly used solely dissuade people opting blatant malpractice chase</td>\n",
       "      <td>chase email today title information changes chase arbitration method information consequences chase email letter information order loss time money people malpractice chase</td>\n",
       "      <td>chase email today title information changes chase arbitration method information consequences chase email letter information order loss time money people malpractice chase</td>\n",
       "      <td>1</td>\n",
       "    </tr>\n",
       "    <tr>\n",
       "      <th>40</th>\n",
       "      <td>xxxx xxxx a sofa love seat table and chairs and was never delivered debit card charged  bank says visa denied claim we have no furniture and no money</td>\n",
       "      <td>xxxx xxxx sofa love seat table chair never delivered debit card charged bank say visa denied claim furniture money</td>\n",
       "      <td>xxxx xxxx sofa love seat table chairs debit card bank visa claim furniture money</td>\n",
       "      <td>sofa love seat table chairs debit card bank visa claim furniture money</td>\n",
       "      <td>1</td>\n",
       "    </tr>\n",
       "    <tr>\n",
       "      <th>21</th>\n",
       "      <td>on xxxx xxxx i made a  payment to an online retailer using chase quick pay with xxxx on the chase website i realized that this was a scam website after no confirmation product or response to any inquiries regarding the order and contacted chase to get more information about the transaction to attempt getting a refund through the retailers bank \\n\\ni contacted chase via a secured message on xxxx explaining what happened and asked  is there a way to reverse this transaction or do you have a contact at xxxx that can give me more information about the recipient  that xxxx my message was reviewed and i received a response restating my original email and informing me that  the transfer has been completed however as you mentioned that the website is a scam while we can handle most inquiries by email some require the expertise of another team in order to assist you better in regards to the refund we request you to call our consumer online technical support team  i called the number listed in the email and explained my situation to then be transferred to the claims department i was directed to call xxxx and ask them about the transaction because chase did not have any information outside of what i provided when initiating the transfer i felt like this agent was trying to get me to end the call as quickly as possible and i had to interrupt her closing script to ask for a contact number at xxxx and didnt have an opportunity to get any information about what the right questions would be to ask xxxx or what words and phrases i should use to get the information i was looking for \\n\\ni called xxxx whos automated system initially directed me to call my bank because i used the banks app to initiate the transaction i called xxxx again to navigate their menus and talk to a customer service agent they told me that all of the information about the transaction would in chase s system because i used the banks app to perform the transaction she stayed on the line with me until i understood everything that i should ask and had a better understanding of the situation i ended the call and called chase again \\n\\nwhen i called chase the second time the agent tried to look up the information about the receiving bank but could not find any additional information she then asked me why i needed this information and i explained my situation again i was once again transferred to the claims department who told me that i needed to contact xxxx to get the information i was looking for after i told her that i had already contacted them she finally admitted that there was nothing that she could do due to the nature of the transaction and that these types of transactions are not secured she said that chase had no information about the recipient other than the email address that i inputted and that the recipients banking information was not kept in the system in both phone calls they asked if i initiated that transaction and used that to absolve themselves of all responsibility in regards to this matter \\n\\nduring this whole process it felt like chase was not transparent about their policies regarding these types of transactions nor were they helpful in helping me get any information about the situation these transactions are advertised as a  fast safe and easy way to send money  but seem to be a dangerous way to do business i feel deceived by chase s advertising and further victimized by the way i was treated by the members on their customer service team</td>\n",
       "      <td>xxxx xxxx made payment online retailer using chase quick pay xxxx chase website realized scam website confirmation product response inquiry regarding order contacted chase get information transaction attempt getting refund retailer bank contacted chase via secured message xxxx explaining happened asked way reverse transaction contact xxxx give information recipient xxxx message reviewed received response restating original email informing transfer completed however mentioned website scam handle inquiry email require expertise another team order assist better regard refund request call consumer online technical support team called number listed email explained situation transferred claim department directed call xxxx ask transaction chase information outside provided initiating transfer felt like agent trying get end call quickly possible interrupt closing script ask contact number xxxx didnt opportunity get information right question would ask xxxx word phrase use get information looking called xxxx who automated system initially directed call bank used bank app initiate transaction called xxxx navigate menu talk customer service agent told information transaction would chase system used bank app perform transaction stayed line understood everything ask better understanding situation ended call called chase called chase second time agent tried look information receiving bank could find additional information asked needed information explained situation transferred claim department told needed contact xxxx get information looking told already contacted finally admitted nothing could due nature transaction type transaction secured said chase information recipient email address inputted recipient banking information kept system phone call asked initiated transaction used absolve responsibility regard matter whole process felt like chase transparent policy regarding type transaction helpful helping get information situation transaction advertised fast safe easy way send money seem dangerous way business feel deceived chase advertising victimized way treated member customer service team</td>\n",
       "      <td>xxxx xxxx payment retailer chase pay xxxx chase website scam website confirmation product response inquiries order chase information transaction refund retailers bank chase message way transaction contact xxxx information recipient message response email transfer website scam inquiries email expertise team order regards refund consumer support team number email situation claims department xxxx transaction information transfer agent call closing script contact number opportunity information questions xxxx words phrases information system bank banks transaction menus customer service agent information transaction system banks transaction line understanding situation call chase chase time agent information bank information information situation claims department xxxx information nature transaction types transactions chase information recipient email address recipients banking information system phone calls transaction responsibility regards matter process chase policies types transactions information situation transactions way money way business advertising way members customer service team</td>\n",
       "      <td>payment retailer chase pay  chase website scam website confirmation product response inquiries order chase information transaction refund retailers bank chase message way transaction contact  information recipient message response email transfer website scam inquiries email expertise team order regards refund consumer support team number email situation claims department  transaction information transfer agent call closing script contact number opportunity information questions  words phrases information system bank banks transaction menus customer service agent information transaction system banks transaction line understanding situation call chase chase time agent information bank information information situation claims department  information nature transaction types transactions chase information recipient email address recipients banking information system phone calls transaction responsibility regards matter process chase policies types transactions information situation transactions way money way business advertising way members customer service team</td>\n",
       "      <td>1</td>\n",
       "    </tr>\n",
       "    <tr>\n",
       "      <th>32</th>\n",
       "      <td>my chase amazon card was declined for a catering order i had placed for my brothers funeral in the amount of  i contacted chase around noon today xxxx and was asked the last  numbers of my chase savings account and the other user on my account i responded that i did not have a savings and i am only authorized user customer rep told me they would call me back in  minutes to keep the line open i didnt receive a call back after an hour so i contacted chase from the first call i thought someone was using my card fraudulently i spoke to the rep who transferred me to a supervisor xxxx who said the card was activated and the transaction would process called the catering company and card was declined i then used my xxxx  xxxx card to pay for the order xxxx xxxx texted me asking if i was authorizing purchase and i responded yes contacted caterer and xxxx  xxxx was declined i contacted chase again spoke to rep was told the initial questions are used to trick people to see what there answer would be she told me the cvv code was incorrectly being input by the caterer and i responded that i had gone over the numbers and cvv used was correct she told me the card was cleared for the purchase and she would monitor it for  hours called caterer  card declined use a mastercard  which processed went to use chase amazon at restaurant at xxxx pm tonight in the amount of   it was declined i was told by chase i was not over limit still frustrated figuring out multiple declines after several conversations with chase stating the card would be ok to use embarrassed as the caterer kept suggesting i was over my limit which i pay my card in full every month and chase confirmed that i was under my limit with the  transaction never been declined by either chase or xxxx  xxxx before  today after multiple assurances that i was all set and card would be monitored to make sure transaction would clear  it never did</td>\n",
       "      <td>chase amazon card declined catering order placed brother funeral amount contacted chase around noon today xxxx asked last number chase saving account user account responded saving authorized user customer rep told would call back minute keep line open didnt receive call back hour contacted chase first call thought someone using card fraudulently spoke rep transferred supervisor xxxx said card activated transaction would process called catering company card declined used xxxx xxxx card pay order xxxx xxxx texted asking authorizing purchase responded yes contacted caterer xxxx xxxx declined contacted chase spoke rep told initial question used trick people see answer would told cvv code incorrectly input caterer responded gone number cvv used correct told card cleared purchase would monitor hour called caterer card declined use mastercard processed went use chase amazon restaurant xxxx pm tonight amount declined told chase limit still frustrated figuring multiple decline several conversation chase stating card would ok use embarrassed caterer kept suggesting limit pay card full every month chase confirmed limit transaction never declined either chase xxxx xxxx today multiple assurance set card would monitored make sure transaction would clear never</td>\n",
       "      <td>chase card catering order brothers funeral amount chase noon today numbers chase savings account user account savings user customer minutes line call hour chase call card supervisor card transaction catering company card xxxx xxxx card order xxxx xxxx purchase caterer xxxx xxxx chase questions people answer code input caterer numbers card purchase hours caterer card mastercard chase amazon restaurant xxxx pm tonight amount chase limit declines conversations chase card caterer limit card month chase limit transaction chase xxxx xxxx today assurances card transaction</td>\n",
       "      <td>chase card catering order brothers funeral amount chase noon today numbers chase savings account user account savings user customer minutes line call hour chase call card supervisor card transaction catering company card   card order   purchase caterer   chase questions people answer code input caterer numbers card purchase hours caterer card mastercard chase amazon restaurant  pm tonight amount chase limit declines conversations chase card caterer limit card month chase limit transaction chase   today assurances card transaction</td>\n",
       "      <td>1</td>\n",
       "    </tr>\n",
       "    <tr>\n",
       "      <th>30</th>\n",
       "      <td>to whom it may concern chase bank charged wrongly overdraft fees i have alert of low balance or unsuficent fee balance and always deposit immediatly to cover transactions if needed but chase always changed the order and charged me overdraft fee anyway when you call they said their per their guidelines they dont refund more then  overdrawft doesnt matter bank fault or not\\n\\ntaken  from people is money just because you can is not ok\\n\\nsee attached documents when chase refund they always find the way to take back what they refunded in first place</td>\n",
       "      <td>may concern chase bank charged wrongly overdraft fee alert low balance unsuficent fee balance always deposit immediatly cover transaction needed chase always changed order charged overdraft fee anyway call said per guideline dont refund overdrawft doesnt matter bank fault taken people money ok see attached document chase refund always find way take back refunded first place</td>\n",
       "      <td>concern bank overdraft fees alert balance fee balance transactions chase order overdraft fee guidelines overdrawft bank fault people money documents chase way place</td>\n",
       "      <td>concern bank overdraft fees alert balance fee balance transactions chase order overdraft fee guidelines overdrawft bank fault people money documents chase way place</td>\n",
       "      <td>2</td>\n",
       "    </tr>\n",
       "    <tr>\n",
       "      <th>27</th>\n",
       "      <td>i opened an account with chase bank on xxxx and used a code for xxxx bonus i called to follow up on xxxxxxxx about the terms and was told everything was on the account and once i made xxxx direct deposit the bonus would be paid out in  days as of xxxx i had made the required deposits and was told my account never had the coupon code applied and it was past the  days to do so so no bonus would be paid</td>\n",
       "      <td>opened account chase bank xxxx used code xxxx bonus called follow xxxxxxxx term told everything account made xxxx direct deposit bonus would paid day xxxx made required deposit told account never coupon code applied past day bonus would paid</td>\n",
       "      <td>account code xxxx bonus xxxxxxxx terms account deposit bonus days xxxx deposits account coupon code days bonus</td>\n",
       "      <td>account code  bonus  terms account deposit bonus days  deposits account coupon code days bonus</td>\n",
       "      <td>2</td>\n",
       "    </tr>\n",
       "    <tr>\n",
       "      <th>24</th>\n",
       "      <td>mishandling of this account by chase auto and xxxx</td>\n",
       "      <td>mishandling account chase auto xxxx</td>\n",
       "      <td>account auto xxxx</td>\n",
       "      <td>account auto</td>\n",
       "      <td>2</td>\n",
       "    </tr>\n",
       "    <tr>\n",
       "      <th>17</th>\n",
       "      <td>with out notice jp morgan chase restricted my account by my debit card tuesday xxxx on thursday xxxx i went into a branch after being advised by a customer service representative that my account would actually be closed i went into the branch to see how i can remove the funds that are in there currently in as well as if my direct deposit from my place of employment would be returned the bank associate and the customer service representative assured me that the funds would post but they may take an additional business day that saturday i attempted to go inside of a branch yet again to retrieve my funds that actually did post on friday xxxx upon looking at my account i realize that the funds have been reversed and no longer were present on my current statement ive been called and i was told that it may take two business day stating tuesday xxxxxxxx would be the date that my funds would be available to withdraw from a bank teller only now chase is informing me that i will be mailed a check into the three business days to recover the funds that are owed to me and left in my account currently unfortunately this has put me in an additional financial bind do two fees from late rent late car payments etc i am not being a short or giving written notice that these things will actually occur so that i have peace of mind in fact chase has handled my situation grossly i even had a bank teller inform me that my account looks suspicious after giving me a suspicious look myself although i know that chase reserves the right to close my account at any time i do believe that their protocol has been in the past to give notice in the form of a written document i am not being a shored or giving written notice that these things will actually occur so that i have peace of mind in fact chase has handled my situation grossly i even had a bank teller inform me that my account looks suspicious after giving me a suspicious look myself although i know that chase reserves the right to close my account at any time i do believe that their protocol has been in the past to give notice in the form of a written document this situation is truly affecting my livelihood and they dont seem to want to deal with me professionally thank you</td>\n",
       "      <td>notice jp morgan chase restricted account debit card tuesday xxxx thursday xxxx went branch advised customer service representative account would actually closed went branch see remove fund currently well direct deposit place employment would returned bank associate customer service representative assured fund would post may take additional business day saturday attempted go inside branch yet retrieve fund actually post friday xxxx upon looking account realize fund reversed longer present current statement ive called told may take two business day stating tuesday xxxxxxxx would date fund would available withdraw bank teller chase informing mailed check three business day recover fund owed left account currently unfortunately put additional financial bind two fee late rent late car payment etc short giving written notice thing actually occur peace mind fact chase handled situation grossly even bank teller inform account look suspicious giving suspicious look although know chase reserve right close account time believe protocol past give notice form written document shored giving written notice thing actually occur peace mind fact chase handled situation grossly even bank teller inform account look suspicious giving suspicious look although know chase reserve right close account time believe protocol past give notice form written document situation truly affecting livelihood dont seem want deal professionally thank</td>\n",
       "      <td>notice account debit card branch customer service representative account branch funds deposit place employment bank associate customer service representative funds business day branch funds account funds statement business day date funds bank teller chase check business days funds account bind fees rent car payments notice things peace mind fact chase situation bank teller account look chase right account time protocol past notice form document notice things peace mind fact chase situation bank teller account look chase right account time protocol past notice form document situation livelihood</td>\n",
       "      <td>notice account debit card branch customer service representative account branch funds deposit place employment bank associate customer service representative funds business day branch funds account funds statement business day date funds bank teller chase check business days funds account bind fees rent car payments notice things peace mind fact chase situation bank teller account look chase right account time protocol past notice form document notice things peace mind fact chase situation bank teller account look chase right account time protocol past notice form document situation livelihood</td>\n",
       "      <td>2</td>\n",
       "    </tr>\n",
       "    <tr>\n",
       "      <th>14</th>\n",
       "      <td>my grand son give me check for  i deposit it into my chase account after fund clear my chase bank closed my account never paid me my money they said they need to speek with my grand son check was clear money was taking by my chase bank refuse to pay me my money my grand son called chase  times they told him i should call not him to verify the check owner he is out the country most the time  date happen xxxx check number xxxx claim number is xxxx with chase</td>\n",
       "      <td>grand son give check deposit chase account fund clear chase bank closed account never paid money said need speek grand son check clear money taking chase bank refuse pay money grand son called chase time told call verify check owner country time date happen xxxx check number xxxx claim number xxxx chase</td>\n",
       "      <td>son chase account fund chase bank account money son check money chase bank money son times check owner country time date xxxx number xxxx claim number xxxx chase</td>\n",
       "      <td>son chase account fund chase bank account money son check money chase bank money son times check owner country time date  number  claim number  chase</td>\n",
       "      <td>2</td>\n",
       "    </tr>\n",
       "    <tr>\n",
       "      <th>99</th>\n",
       "      <td>my name is xxxx xxxx i have missed a payment in xxxx and was  days past due but now current i applied numerous times for a loan modification to get loss mitigation assistance but did not get any help chase only gave me a loan forbearance option i am xxxx xxxx xxxx and have an issue with refinancing since my dti is too high because of excessive debt so i get declined every time and my credit score is too low at xxxx</td>\n",
       "      <td>name xxxx xxxx missed payment xxxx day past due current applied numerous time loan modification get loss mitigation assistance get help chase gave loan forbearance option xxxx xxxx xxxx issue refinancing since dti high excessive debt get declined every time credit score low xxxx</td>\n",
       "      <td>name xxxx xxxx payment days times loan modification loss mitigation assistance help chase loan forbearance option xxxx xxxx issue dti debt time credit score xxxx</td>\n",
       "      <td>name   payment days times loan modification loss mitigation assistance help chase loan forbearance option   issue dti debt time credit score</td>\n",
       "      <td>3</td>\n",
       "    </tr>\n",
       "    <tr>\n",
       "      <th>20</th>\n",
       "      <td>during the summer months i experience a decline income due to my employment therefore i request a one month payment extension with my auto loan company chase for the past almost fours years my request for payment extension is granted i have never been delinquent with my auto loan payment however on xxxx my request for a one month payment extension was denied this year i explained my situation to representative and the supervisor with no avail after a lengthy discussion and waiting i was informed the reason for the decline as it is not  contractual  this reason for denial baffled me and therefore i emailed the office of xxxx xxxx executive director communications jpmorgan chase  co a representative contacted me and stated chase will followup about week later a representative of xxxx xxxx xxxx xxxx office called the representative shared her role was help resolve the matter the representative via conference call contacted the department handing my request after reviewing my information my request was still denied based on  policy changes  i requested an explanation and representative stated a letter will be mailed with explanation i have received xxxx letters the reason for denial was not  policy changes  i would like cfpb help in exploring the denial of my payment extension request especially since i have been clear reason for denial</td>\n",
       "      <td>summer month experience decline income due employment therefore request one month payment extension auto loan company chase past almost four year request payment extension granted never delinquent auto loan payment however xxxx request one month payment extension denied year explained situation representative supervisor avail lengthy discussion waiting informed reason decline contractual reason denial baffled therefore emailed office xxxx xxxx executive director communication jpmorgan chase co representative contacted stated chase followup week later representative xxxx xxxx xxxx xxxx office called representative shared role help resolve matter representative via conference call contacted department handing request reviewing information request still denied based policy change requested explanation representative stated letter mailed explanation received xxxx letter reason denial policy change would like cfpb help exploring denial payment extension request especially since clear reason denial</td>\n",
       "      <td>summer months decline income employment month payment extension auto loan company chase past years request payment extension auto loan payment xxxx request month payment extension year situation supervisor avail discussion reason decline reason denial office executive director communications representative chase week representative xxxx xxxx office representative role help matter representative conference call department request information request policy changes explanation representative letter explanation xxxx letters reason denial policy changes cfpb help denial payment extension request reason denial</td>\n",
       "      <td>summer months decline income employment month payment extension auto loan company chase past years request payment extension auto loan payment  request month payment extension year situation supervisor avail discussion reason decline reason denial office executive director communications representative chase week representative   office representative role help matter representative conference call department request information request policy changes explanation representative letter explanation  letters reason denial policy changes cfpb help denial payment extension request reason denial</td>\n",
       "      <td>3</td>\n",
       "    </tr>\n",
       "    <tr>\n",
       "      <th>57</th>\n",
       "      <td>i have been trying to do a loan modification with chase and all they do is give me the runaround im  mo behind they dont let me make payments i have aens all doc in but always asking more</td>\n",
       "      <td>trying loan modification chase give runaround im mo behind dont let make payment aens doc always asking</td>\n",
       "      <td>loan modification chase runaround mo payments aens</td>\n",
       "      <td>loan modification chase runaround mo payments aens</td>\n",
       "      <td>3</td>\n",
       "    </tr>\n",
       "    <tr>\n",
       "      <th>58</th>\n",
       "      <td>i made a purchase of  on xxxxxxxx i made payments of  on xxxxxxxx and  on xxxxxxxx the minimum payment was  the closing date was xxxxxxxx  that statement  shows that i had an outstanding purchase balance of  on xxxxxxxx i have enclosed the previous months statement to show that there were no other purchases prior to the one on xxxxxxxx \\nhowever when i got the xxxx statement it shows that i still have a purchase balance of  i have a promotional balance  in xxxx of  in xxxx the promotional balance was   a difference of  \\n\\napparently the payment  i thought would be applied to the purchase  was applied to the promotional balance first it is my understanding that once the minimum payment has been met payments in excess of the minimum would be applied to the highest interest rate balance first this is not the first time that chase has skirted us financial law to turn a larger profit i need help in rectifying this problem because my logic fell on deaf ears at chase thank you in advance for your assistance \\n\\nrespectfully xxxx xxxx xxxx</td>\n",
       "      <td>made purchase xxxxxxxx made payment xxxxxxxx xxxxxxxx minimum payment closing date xxxxxxxx statement show outstanding purchase balance xxxxxxxx enclosed previous month statement show purchase prior one xxxxxxxx however got xxxx statement show still purchase balance promotional balance xxxx xxxx promotional balance difference apparently payment thought would applied purchase applied promotional balance first understanding minimum payment met payment excess minimum would applied highest interest rate balance first first time chase skirted u financial law turn larger profit need help rectifying problem logic fell deaf ear chase thank advance assistance respectfully xxxx xxxx xxxx</td>\n",
       "      <td>purchase xxxxxxxx payments xxxxxxxx xxxxxxxx payment closing date xxxxxxxx statement purchase balance xxxxxxxx months statement purchases one xxxx statement purchase balance balance xxxx balance difference payment purchase balance understanding payment payments excess minimum interest rate balance time chase law profit help problem logic ears chase advance assistance xxxx xxxx xxxx</td>\n",
       "      <td>purchase  payments   payment closing date  statement purchase balance  months statement purchases one  statement purchase balance balance  balance difference payment purchase balance understanding payment payments excess minimum interest rate balance time chase law profit help problem logic ears chase advance assistance</td>\n",
       "      <td>3</td>\n",
       "    </tr>\n",
       "    <tr>\n",
       "      <th>127</th>\n",
       "      <td>i am xxxx military member  with the xxxx chase auto finance is refusing to pay on the gap insurancewaiver coverage that i purchased at the time i signed the financing agreement while stationed at xxxx i purchased a xxxx cadillac ats premium and financed the vehicle with chase auto finance when i purchased the vehicle the original financing agreement included an option to purchase gap insurance for an additional  the provider of the gap insurance was  xxxx xxxx  however i was also required to sign a gap waiver addendum which stated that what was purchased was not insurance but an agreement for chase auto finance to waive any deficiency in the event the vehicle was totaled chase auto finance agreed in writing for me to ship my vehicle to xxxx when i received military orders reassigning me to xxxx the letter explicitly authorized me to drive the vehicle here in xxxx while i am stationed overseas the vehicle was totaled in an accident now chase is refusing to honor the gap insurancewaiver provisions because the loss occurred outside of the united states or xxxx they are also refusing to release the lien on the vehicle so that the salvage value can be recovered and sent to the bank i simply want chase bank to honor its commitment to cover the deficiency between the insurance payout and the remaining balance on the loan</td>\n",
       "      <td>xxxx military member xxxx chase auto finance refusing pay gap insurancewaiver coverage purchased time signed financing agreement stationed xxxx purchased xxxx cadillac at premium financed vehicle chase auto finance purchased vehicle original financing agreement included option purchase gap insurance additional provider gap insurance xxxx xxxx however also required sign gap waiver addendum stated purchased insurance agreement chase auto finance waive deficiency event vehicle totaled chase auto finance agreed writing ship vehicle xxxx received military order reassigning xxxx letter explicitly authorized drive vehicle xxxx stationed overseas vehicle totaled accident chase refusing honor gap insurancewaiver provision loss occurred outside united state xxxx also refusing release lien vehicle salvage value recovered sent bank simply want chase bank honor commitment cover deficiency insurance payout remaining balance loan</td>\n",
       "      <td>military member chase auto finance gap insurancewaiver coverage time financing agreement xxxx premium vehicle auto finance vehicle financing agreement option gap insurance provider gap insurance xxxx xxxx gap waiver addendum insurance agreement auto finance deficiency event vehicle chase auto finance vehicle orders letter vehicle xxxx vehicle accident gap insurancewaiver provisions loss xxxx lien vehicle salvage value bank commitment deficiency insurance payout balance loan</td>\n",
       "      <td>military member chase auto finance gap insurancewaiver coverage time financing agreement  premium vehicle auto finance vehicle financing agreement option gap insurance provider gap insurance   gap waiver addendum insurance agreement auto finance deficiency event vehicle chase auto finance vehicle orders letter vehicle  vehicle accident gap insurancewaiver provisions loss  lien vehicle salvage value bank commitment deficiency insurance payout balance loan</td>\n",
       "      <td>3</td>\n",
       "    </tr>\n",
       "    <tr>\n",
       "      <th>23</th>\n",
       "      <td>i have a chase credit card which is incorrectly reporting data on my credit report the company is not helping resolve the issue</td>\n",
       "      <td>chase credit card incorrectly reporting data credit report company helping resolve issue</td>\n",
       "      <td>credit card data credit report company issue</td>\n",
       "      <td>credit card data credit report company issue</td>\n",
       "      <td>4</td>\n",
       "    </tr>\n",
       "    <tr>\n",
       "      <th>15</th>\n",
       "      <td>can you please remove inquiry</td>\n",
       "      <td>please remove inquiry</td>\n",
       "      <td>inquiry</td>\n",
       "      <td>inquiry</td>\n",
       "      <td>4</td>\n",
       "    </tr>\n",
       "    <tr>\n",
       "      <th>11</th>\n",
       "      <td>on xxxx while trying to book a xxxx  xxxx  ticket i came across an offer for  to be applied towards the ticket if i applied for a rewards card i put in my information for the offer and within less than a minute was notified via the screen that a decision could not be made i immediately contacted xxxx and was referred to chase bank i then immediately contacted chase bank within no more than minutes of getting the notification on the screen and i was told by the chase representative i spoke with that my application was denied but she could not state why i asked for more information about the xxxx  offer and she explained that even if i had been approved the credit offer only gets applied after the first account statement and could not be used to purchase the ticket i then explicitly told her i was glad i got denied and i was absolutely no longer interested in the account i asked that the application be withdrawn and the representative obliged this all happened no later than mins after putting in the application on xxxx notwithstanding my explicit request not to proceed with the application and contrary to what i was told by the chase representative chase did in fact go ahead to open a credit account in my name on xxxx this is now being reported in my credit report and chase has refused to correct this information on my credit report even though they went ahead to process an application which i did not consent to and out of their error</td>\n",
       "      <td>xxxx trying book xxxx xxxx ticket came across offer applied towards ticket applied reward card put information offer within le minute notified via screen decision could made immediately contacted xxxx referred chase bank immediately contacted chase bank within minute getting notification screen told chase representative spoke application denied could state asked information xxxx offer explained even approved credit offer get applied first account statement could used purchase ticket explicitly told glad got denied absolutely longer interested account asked application withdrawn representative obliged happened later min putting application xxxx notwithstanding explicit request proceed application contrary told chase representative chase fact go ahead open credit account name xxxx reported credit report chase refused correct information credit report even though went ahead process application consent error</td>\n",
       "      <td>xxxx xxxx xxxx ticket offer ticket rewards card information offer minute screen decision chase bank minutes notification screen representative application information offer credit offer account statement ticket account application representative mins application xxxx request application representative chase fact credit account name xxxx credit report chase information credit report application error</td>\n",
       "      <td>ticket offer ticket rewards card information offer minute screen decision chase bank minutes notification screen representative application information offer credit offer account statement ticket account application representative mins application  request application representative chase fact credit account name  credit report chase information credit report application error</td>\n",
       "      <td>4</td>\n",
       "    </tr>\n",
       "    <tr>\n",
       "      <th>10</th>\n",
       "      <td>chase card was reported on xxxx however fraudulent application have been submitted my identity without my consent to fraudulently obtain services do not extend credit without verifying the identity of the applicant</td>\n",
       "      <td>chase card reported xxxx however fraudulent application submitted identity without consent fraudulently obtain service extend credit without verifying identity applicant</td>\n",
       "      <td>application identity consent services credit identity applicant</td>\n",
       "      <td>application identity consent services credit identity applicant</td>\n",
       "      <td>4</td>\n",
       "    </tr>\n",
       "    <tr>\n",
       "      <th>26</th>\n",
       "      <td>i have reached out to xxxx several times in attempt to have this fraudulent inquiry removed i was told that i need to call and contact the original creditor that placed this inquiry on my report i have made several attempts to get chase bank to contact the bureau and remove this inquiry that was not authorized by me they seem to not be able to get me to the right person to take care of this issue no matter how many attempts i have made nobody seems to understand what im talkin about i want chase bank to have this fraudulent inquiry removed from my credit report before i take legal action i i have never requested any kind of credit with chase bank or hold any account with them i have an iquiry from xxxx i want this matter resolved</td>\n",
       "      <td>reached xxxx several time attempt fraudulent inquiry removed told need call contact original creditor placed inquiry report made several attempt get chase bank contact bureau remove inquiry authorized seem able get right person take care issue matter many attempt made nobody seems understand im talkin want chase bank fraudulent inquiry removed credit report take legal action never requested kind credit chase bank hold account iquiry xxxx want matter resolved</td>\n",
       "      <td>xxxx times attempt inquiry creditor inquiry report attempts bank bureau inquiry person care issue attempts talkin inquiry credit report action kind credit account iquiry xxxx matter</td>\n",
       "      <td>times attempt inquiry creditor inquiry report attempts bank bureau inquiry person care issue attempts talkin inquiry credit report action kind credit account iquiry  matter</td>\n",
       "      <td>4</td>\n",
       "    </tr>\n",
       "  </tbody>\n",
       "</table>\n",
       "</div>"
      ],
      "text/plain": [
       "                                                                                                                                                                                                                                                                                                                                                                                                                                                                                                                                                                                                                                                                                                                                                                                                                                                                                                                                                                                                                                                                                                                                                                                                                                                                                                                                                                                                                                                                                                                                                                                                                                                                                                                                                                                                                                                                                                                                                                                                                                                                                                                                                                                                                                                                                                                                                                                                                                                                                                                                                                                                                                                                                                                                                                                                                                                                                                                                                                                                                                                                                                                                                                                                                                                                                                                                                                                                                                                                                                                                                                                                                complaints  \\\n",
       "1                                                                                                                                                                                                                                                                                                                                                                                                                                                                                                                                                                                                                                                                                                                                                                                                                                                                                                                                                                                                                                                                                                                                                                                                                                                                                                                                                                                                                                                                                                                                                                                                                                                                                                                                                                                                                                                                                                                                                                                                                                                                                                                                                                                                                                                                                                                                                                                                                                                                                                                                                                                                                                                                                                                                                                                                                                                                                                                                                                                                                                                                                                                          good morning my name is xxxx xxxx and i appreciate it if you could help me put a stop to chase bank cardmember services \\nin  i wrote to chase asking for debt verification and what they sent me a statement which is not acceptable i am asking the bank to validate the debt instead i been receiving mail every month from them attempting to collect a debt \\ni have a right to know this information as a consumer \\n\\nchase account  xxxx xxxx xxxx xxxx thanks in advance for your help   \n",
       "2                                                                                                                                                                                                                                                                                                                                                                                                                                                                                                                                                                                                                                                                                                                                                                                                                                                                                                                                                                                                                                                                                                                                                                                                                                                                                                                                                                                                                                                                                                                                                                                                                                                                                                                                                                                                                                                                                                                                                                                                                                                                                                                                                                                                                                                                                                                                                                                                                                                                                                                                                                                                                                                                                                                                                                                                                                                                                                                                                                                                                                                                                                                                                                                                                                                                    i upgraded my xxxx xxxx card in xxxx and was told by the agent who did the upgrade my anniversary date would not change it turned the agent was giving me the wrong information in order to upgrade the account xxxx   changed my anniversary date from xxxxxxxx to xxxxxxxx without my consent xxxx has the recording of the agent who was misled me   \n",
       "73                                                                                                                                                                                                                                                                                                                                                                                                                                                                                                                                                                                                                                                                                                                                                                                                                                                                                                                                                                                                                                                                                                                                                                                                                                                                                                                                                                                                                                                                                                                                                                                                                                                                                                                                                                                                                                                                                                                                                                                                                                                                                                                                                                                                                                                                                                                                                                                                                                                                                                  i have wired through one of chase branches in xxxx xxxx the exact reinstatement amount of  to jpmorgan chase bank in order to removewithdraw their wrongful foreclosure proceedings on my residential property\\n\\nhowever the chase executive ms xxxx xxxx and its trustee xxxx xxxx xxxx xxxx are not honoring even their own rules and regulations she wants the total payoff of  now in order to remove their wrongful foreclosure proceedings with sales date of xxxx at xxxx xxxx on my family resident\\n\\nshe knows i can not prepare xxxx in such a short time thats why i asked for minimum reinstatement amount to avoid foreclosure without resorting to chapter xxxx bankruptcy filing\\n\\ni appreciate you assistant in bringing jpmorgan chase and its foreclosure trustee xxxx xxxx xxxx xxxx  quality  to their senses and stop harassing my family with their fraudulent default claim as explained in my previous complaint about them on xxxxxxxx\\n\\nmy previous complaint id is xxxx submitted xxxx product  mortgage issue wrongful foreclosure\\n\\nthank you xxxx xxxx tell   xxxx email  xxxx xxxx   \n",
       "48                                                                                                                                                                                                                                                                                                                                                                                                                                                                                                                                                                                                                                                                                                                                                                                                                                                                                                                                                                                                                                                                                                                                                                                                                                                                                                                                                                                                                                                                                                                                                                                                                                                                                                                                                                                                                                                                                                                                                                                                                                                                                                                                                                                                                                                                                                                                                                                           jp morgan chase bank please answer the following questions    on xxxxxxxx xxxxxxxxxxxxxxxx xxxxxxxx  xxxxxxxx jpmorgan chase accessed information about me through xxxx xxxx xxxx  xxxx \\nwhat was the valid reason for accessing my personal information through xxxx xxxx xxxx  xxxx \\n\\n  the chase checking account that was closed recently during xxxxxxxx had a routing or xxxx number of xxxx according to checks and statements provided to me by chase \\nxxxx xxxx xxxx showed chase reporting an xxxx routing number of xxxx before and after i had disputed the xxxx number with chase \\nwhy do these two routing numbers not match \\n\\n  xxxxxxxx i received a response from xxxx xxxx xxxx xxxx to a dispute about information chase was providing on my report dispute case id xxxx the information chase had been submitting was deleted due to disputed info being incomplete inaccurate or unverifiable \\nis this true \\n\\nonce again i have asked    questions \\n\\ni will send the cfpb copies of the information i have pertaining to the  questions in this complaint via us mail which are the xxxx xxxx xxxx xxxx reports ive received \\n\\nthank you for your attention and humbly await your response   \n",
       "45                                                                                                                                                                                                                                                                                                                                                                                                                                                                                                                                                                                                                                                                                                                                                                                                                                                                                                                                                                                                                                                                                                                                                                                                                                                                                                                                                                                                                                                                                                                                                                                                                                                                                         i made a purchase with xxxx xxxx xxxx on xxxx in the amount of  i was charged twice for this transaction i placed a disputes case with chase bank on xxxx when i noticed the charge on my account i called back on sunday xxxx about the provisional credit for the charge and again on monday xxxx i was told the charge had to post before a provisional credit could be provided i used my debt card on monday xxxx then tried to use it again but it would not work i went to chase bank on xxxx xxxx xxxx in xxxx xxxx nevada and was told that my account was closed due to fraudulent activity i was shocked because i had not reported fraud on my account i later found out that i was being accused by the disputes department of placing a fraudulent disputes case for the duplicate charge from xxxx xxxx  xxxx i later contacted xxxx xxxx  xxxx again and was told that they did see a duplicate charge and would credit my account within     days i contacted the chase disputes department again on monday xxxxxxxx  and explained thaxxxx xxxx xxxx xxxx would credit my account and that i did not like being accused of making a fraudulent disputes claim the escalation manager did not care and told me that chase decision on closing my account was final i had been a customer of chase for xxxx   years my character has been challenged by the disputes agents and i consider this to be detrimental to my character and slander \\n\\ni am not seeking to keep my account open with chase but i also do not want chase reporting that they closed my checking account involuntarily \\n\\nonce again i do not want chase to have the checking account that i had with them being reflecting on any public records as being closed as involuntary closure by chase \\n\\ni did nothing wrong by filing a disputes claim for the duplicate charge or any other disputes cases that were filed in the past   \n",
       "50                                                                                                                                                                                                                                                                                                                                                                                                                                                                                                                                                                                                                                                                                                                                                                                                                                                                                                                                                                                                                                                                                                                                                                                                                                                                                                                                                                                                                                                                                                                                                                                                                                                                                                                                                                                                                                                                                                                                                                                                                                                                                                                                                                                                                                                                                                                                                                                                                                                                                                                                                                                                                                                                                                                                                                                                                                                                                                                                                                                                                                                                                                                                                                                                                                                                          i am a senior citizen that has been scammed by several companies from xxxx to xxxx i have paid over  to these time share companies and they have did nothing at all they were all misleading and i have tried to get a refund from them and my credit card i have been unsucceful i have all the information on every company that i have paid   \n",
       "43                                                                                                                                                                                                                                                                                                                                                                                                                                                                                                                                                                                                                                                                                                                                                                                                                                                                                                                                                                                                                                                                                                                                                                                                                                                                                                                                                                                                                                                                                                                                                                                                                                                                                                                                                                                                                                                                                                                                                                                                                                                                                                                                                                                                                                                                                                                                                                                                                                                                                                                                                                                                                                                                                                                                                                                                                                                                                                                                                                       chase sent me an email today with the innocuous title  important information regarding changes to your chase account   \\n\\nin it they force me into binding arbitration  \\n\\nthey do include a method to opt out but have no additional information about the consequences  and even more egregiously despite chase simply sending an email doing this they require me to mail them a letter with my personal information enclosed in order to opt out \\n\\nthis is clearly less secure and a massive loss of both my time and money that is clearly being used solely to dissuade people from opting out \\n\\nthis is blatant malpractice by chase   \n",
       "40                                                                                                                                                                                                                                                                                                                                                                                                                                                                                                                                                                                                                                                                                                                                                                                                                                                                                                                                                                                                                                                                                                                                                                                                                                                                                                                                                                                                                                                                                                                                                                                                                                                                                                                                                                                                                                                                                                                                                                                                                                                                                                                                                                                                                                                                                                                                                                                                                                                                                                                                                                                                                                                                                                                                                                                                                                                                                                                                                                                                                                                                                                                                                                                                                                                                                                                                                                                                                                                                   xxxx xxxx a sofa love seat table and chairs and was never delivered debit card charged  bank says visa denied claim we have no furniture and no money   \n",
       "21   on xxxx xxxx i made a  payment to an online retailer using chase quick pay with xxxx on the chase website i realized that this was a scam website after no confirmation product or response to any inquiries regarding the order and contacted chase to get more information about the transaction to attempt getting a refund through the retailers bank \\n\\ni contacted chase via a secured message on xxxx explaining what happened and asked  is there a way to reverse this transaction or do you have a contact at xxxx that can give me more information about the recipient  that xxxx my message was reviewed and i received a response restating my original email and informing me that  the transfer has been completed however as you mentioned that the website is a scam while we can handle most inquiries by email some require the expertise of another team in order to assist you better in regards to the refund we request you to call our consumer online technical support team  i called the number listed in the email and explained my situation to then be transferred to the claims department i was directed to call xxxx and ask them about the transaction because chase did not have any information outside of what i provided when initiating the transfer i felt like this agent was trying to get me to end the call as quickly as possible and i had to interrupt her closing script to ask for a contact number at xxxx and didnt have an opportunity to get any information about what the right questions would be to ask xxxx or what words and phrases i should use to get the information i was looking for \\n\\ni called xxxx whos automated system initially directed me to call my bank because i used the banks app to initiate the transaction i called xxxx again to navigate their menus and talk to a customer service agent they told me that all of the information about the transaction would in chase s system because i used the banks app to perform the transaction she stayed on the line with me until i understood everything that i should ask and had a better understanding of the situation i ended the call and called chase again \\n\\nwhen i called chase the second time the agent tried to look up the information about the receiving bank but could not find any additional information she then asked me why i needed this information and i explained my situation again i was once again transferred to the claims department who told me that i needed to contact xxxx to get the information i was looking for after i told her that i had already contacted them she finally admitted that there was nothing that she could do due to the nature of the transaction and that these types of transactions are not secured she said that chase had no information about the recipient other than the email address that i inputted and that the recipients banking information was not kept in the system in both phone calls they asked if i initiated that transaction and used that to absolve themselves of all responsibility in regards to this matter \\n\\nduring this whole process it felt like chase was not transparent about their policies regarding these types of transactions nor were they helpful in helping me get any information about the situation these transactions are advertised as a  fast safe and easy way to send money  but seem to be a dangerous way to do business i feel deceived by chase s advertising and further victimized by the way i was treated by the members on their customer service team   \n",
       "32                                                                                                                                                                                                                                                                                                                                                                                                                                                                                                                                                                                                                                                                                                                                                                                                                                                                                                                                                                                                                                                                                                                                                                                                                                                                                                                                                                                                                                                                                                                                                                                                                                 my chase amazon card was declined for a catering order i had placed for my brothers funeral in the amount of  i contacted chase around noon today xxxx and was asked the last  numbers of my chase savings account and the other user on my account i responded that i did not have a savings and i am only authorized user customer rep told me they would call me back in  minutes to keep the line open i didnt receive a call back after an hour so i contacted chase from the first call i thought someone was using my card fraudulently i spoke to the rep who transferred me to a supervisor xxxx who said the card was activated and the transaction would process called the catering company and card was declined i then used my xxxx  xxxx card to pay for the order xxxx xxxx texted me asking if i was authorizing purchase and i responded yes contacted caterer and xxxx  xxxx was declined i contacted chase again spoke to rep was told the initial questions are used to trick people to see what there answer would be she told me the cvv code was incorrectly being input by the caterer and i responded that i had gone over the numbers and cvv used was correct she told me the card was cleared for the purchase and she would monitor it for  hours called caterer  card declined use a mastercard  which processed went to use chase amazon at restaurant at xxxx pm tonight in the amount of   it was declined i was told by chase i was not over limit still frustrated figuring out multiple declines after several conversations with chase stating the card would be ok to use embarrassed as the caterer kept suggesting i was over my limit which i pay my card in full every month and chase confirmed that i was under my limit with the  transaction never been declined by either chase or xxxx  xxxx before  today after multiple assurances that i was all set and card would be monitored to make sure transaction would clear  it never did   \n",
       "30                                                                                                                                                                                                                                                                                                                                                                                                                                                                                                                                                                                                                                                                                                                                                                                                                                                                                                                                                                                                                                                                                                                                                                                                                                                                                                                                                                                                                                                                                                                                                                                                                                                                                                                                                                                                                                                                                                                                                                                                                                                                                                                                                                                                                                                                                                                                                                                                                                                                                                                                                                                                                                                                                                                                                                                                                                                                                                                                                                                                                                                 to whom it may concern chase bank charged wrongly overdraft fees i have alert of low balance or unsuficent fee balance and always deposit immediatly to cover transactions if needed but chase always changed the order and charged me overdraft fee anyway when you call they said their per their guidelines they dont refund more then  overdrawft doesnt matter bank fault or not\\n\\ntaken  from people is money just because you can is not ok\\n\\nsee attached documents when chase refund they always find the way to take back what they refunded in first place   \n",
       "27                                                                                                                                                                                                                                                                                                                                                                                                                                                                                                                                                                                                                                                                                                                                                                                                                                                                                                                                                                                                                                                                                                                                                                                                                                                                                                                                                                                                                                                                                                                                                                                                                                                                                                                                                                                                                                                                                                                                                                                                                                                                                                                                                                                                                                                                                                                                                                                                                                                                                                                                                                                                                                                                                                                                                                                                                                                                                                                                                                                                                                                                                                                                                                                                     i opened an account with chase bank on xxxx and used a code for xxxx bonus i called to follow up on xxxxxxxx about the terms and was told everything was on the account and once i made xxxx direct deposit the bonus would be paid out in  days as of xxxx i had made the required deposits and was told my account never had the coupon code applied and it was past the  days to do so so no bonus would be paid   \n",
       "24                                                                                                                                                                                                                                                                                                                                                                                                                                                                                                                                                                                                                                                                                                                                                                                                                                                                                                                                                                                                                                                                                                                                                                                                                                                                                                                                                                                                                                                                                                                                                                                                                                                                                                                                                                                                                                                                                                                                                                                                                                                                                                                                                                                                                                                                                                                                                                                                                                                                                                                                                                                                                                                                                                                                                                                                                                                                                                                                                                                                                                                                                                                                                                                                                                                                                                                                                                                                                                                                                                                                                                      mishandling of this account by chase auto and xxxx   \n",
       "17                                                                                                                                                                                                                                                                                                                                                                                                                                                                                                                                                                                                                                                                                                                                                                                                                                                                                                                                                                                                                                                                                                                                                                                                                                                                                            with out notice jp morgan chase restricted my account by my debit card tuesday xxxx on thursday xxxx i went into a branch after being advised by a customer service representative that my account would actually be closed i went into the branch to see how i can remove the funds that are in there currently in as well as if my direct deposit from my place of employment would be returned the bank associate and the customer service representative assured me that the funds would post but they may take an additional business day that saturday i attempted to go inside of a branch yet again to retrieve my funds that actually did post on friday xxxx upon looking at my account i realize that the funds have been reversed and no longer were present on my current statement ive been called and i was told that it may take two business day stating tuesday xxxxxxxx would be the date that my funds would be available to withdraw from a bank teller only now chase is informing me that i will be mailed a check into the three business days to recover the funds that are owed to me and left in my account currently unfortunately this has put me in an additional financial bind do two fees from late rent late car payments etc i am not being a short or giving written notice that these things will actually occur so that i have peace of mind in fact chase has handled my situation grossly i even had a bank teller inform me that my account looks suspicious after giving me a suspicious look myself although i know that chase reserves the right to close my account at any time i do believe that their protocol has been in the past to give notice in the form of a written document i am not being a shored or giving written notice that these things will actually occur so that i have peace of mind in fact chase has handled my situation grossly i even had a bank teller inform me that my account looks suspicious after giving me a suspicious look myself although i know that chase reserves the right to close my account at any time i do believe that their protocol has been in the past to give notice in the form of a written document this situation is truly affecting my livelihood and they dont seem to want to deal with me professionally thank you   \n",
       "14                                                                                                                                                                                                                                                                                                                                                                                                                                                                                                                                                                                                                                                                                                                                                                                                                                                                                                                                                                                                                                                                                                                                                                                                                                                                                                                                                                                                                                                                                                                                                                                                                                                                                                                                                                                                                                                                                                                                                                                                                                                                                                                                                                                                                                                                                                                                                                                                                                                                                                                                                                                                                                                                                                                                                                                                                                                                                                                                                                                                                                                                                                                                            my grand son give me check for  i deposit it into my chase account after fund clear my chase bank closed my account never paid me my money they said they need to speek with my grand son check was clear money was taking by my chase bank refuse to pay me my money my grand son called chase  times they told him i should call not him to verify the check owner he is out the country most the time  date happen xxxx check number xxxx claim number is xxxx with chase   \n",
       "99                                                                                                                                                                                                                                                                                                                                                                                                                                                                                                                                                                                                                                                                                                                                                                                                                                                                                                                                                                                                                                                                                                                                                                                                                                                                                                                                                                                                                                                                                                                                                                                                                                                                                                                                                                                                                                                                                                                                                                                                                                                                                                                                                                                                                                                                                                                                                                                                                                                                                                                                                                                                                                                                                                                                                                                                                                                                                                                                                                                                                                                                                                                                                                                      my name is xxxx xxxx i have missed a payment in xxxx and was  days past due but now current i applied numerous times for a loan modification to get loss mitigation assistance but did not get any help chase only gave me a loan forbearance option i am xxxx xxxx xxxx and have an issue with refinancing since my dti is too high because of excessive debt so i get declined every time and my credit score is too low at xxxx   \n",
       "20                                                                                                                                                                                                                                                                                                                                                                                                                                                                                                                                                                                                                                                                                                                                                                                                                                                                                                                                                                                                                                                                                                                                                                                                                                                                                                                                                                                                                                                                                                                                                                                                                                                                                                                                                                                                                                                                                                                                                                                                                                                                                                                                                                                                              during the summer months i experience a decline income due to my employment therefore i request a one month payment extension with my auto loan company chase for the past almost fours years my request for payment extension is granted i have never been delinquent with my auto loan payment however on xxxx my request for a one month payment extension was denied this year i explained my situation to representative and the supervisor with no avail after a lengthy discussion and waiting i was informed the reason for the decline as it is not  contractual  this reason for denial baffled me and therefore i emailed the office of xxxx xxxx executive director communications jpmorgan chase  co a representative contacted me and stated chase will followup about week later a representative of xxxx xxxx xxxx xxxx office called the representative shared her role was help resolve the matter the representative via conference call contacted the department handing my request after reviewing my information my request was still denied based on  policy changes  i requested an explanation and representative stated a letter will be mailed with explanation i have received xxxx letters the reason for denial was not  policy changes  i would like cfpb help in exploring the denial of my payment extension request especially since i have been clear reason for denial   \n",
       "57                                                                                                                                                                                                                                                                                                                                                                                                                                                                                                                                                                                                                                                                                                                                                                                                                                                                                                                                                                                                                                                                                                                                                                                                                                                                                                                                                                                                                                                                                                                                                                                                                                                                                                                                                                                                                                                                                                                                                                                                                                                                                                                                                                                                                                                                                                                                                                                                                                                                                                                                                                                                                                                                                                                                                                                                                                                                                                                                                                                                                                                                                                                                                                                                                                                                                                                                                                                                                             i have been trying to do a loan modification with chase and all they do is give me the runaround im  mo behind they dont let me make payments i have aens all doc in but always asking more   \n",
       "58                                                                                                                                                                                                                                                                                                                                                                                                                                                                                                                                                                                                                                                                                                                                                                                                                                                                                                                                                                                                                                                                                                                                                                                                                                                                                                                                                                                                                                                                                                                                                                                                                                                                                                                                                                                                                                                                                                                                                                                                                                                                                                                                                                                                                                                                                                                                                                                                                                                                                                                                i made a purchase of  on xxxxxxxx i made payments of  on xxxxxxxx and  on xxxxxxxx the minimum payment was  the closing date was xxxxxxxx  that statement  shows that i had an outstanding purchase balance of  on xxxxxxxx i have enclosed the previous months statement to show that there were no other purchases prior to the one on xxxxxxxx \\nhowever when i got the xxxx statement it shows that i still have a purchase balance of  i have a promotional balance  in xxxx of  in xxxx the promotional balance was   a difference of  \\n\\napparently the payment  i thought would be applied to the purchase  was applied to the promotional balance first it is my understanding that once the minimum payment has been met payments in excess of the minimum would be applied to the highest interest rate balance first this is not the first time that chase has skirted us financial law to turn a larger profit i need help in rectifying this problem because my logic fell on deaf ears at chase thank you in advance for your assistance \\n\\nrespectfully xxxx xxxx xxxx   \n",
       "127                                                                                                                                                                                                                                                                                                                                                                                                                                                                                                                                                                                                                                                                                                                                                                                                                                                                                                                                                                                                                                                                                                                                                                                                                                                                                                                                                                                                                                                                                                                                                                                                                                                                                                                                                                                                                                                                                                                                                                                                                                                                                                                                                                                                                               i am xxxx military member  with the xxxx chase auto finance is refusing to pay on the gap insurancewaiver coverage that i purchased at the time i signed the financing agreement while stationed at xxxx i purchased a xxxx cadillac ats premium and financed the vehicle with chase auto finance when i purchased the vehicle the original financing agreement included an option to purchase gap insurance for an additional  the provider of the gap insurance was  xxxx xxxx  however i was also required to sign a gap waiver addendum which stated that what was purchased was not insurance but an agreement for chase auto finance to waive any deficiency in the event the vehicle was totaled chase auto finance agreed in writing for me to ship my vehicle to xxxx when i received military orders reassigning me to xxxx the letter explicitly authorized me to drive the vehicle here in xxxx while i am stationed overseas the vehicle was totaled in an accident now chase is refusing to honor the gap insurancewaiver provisions because the loss occurred outside of the united states or xxxx they are also refusing to release the lien on the vehicle so that the salvage value can be recovered and sent to the bank i simply want chase bank to honor its commitment to cover the deficiency between the insurance payout and the remaining balance on the loan    \n",
       "23                                                                                                                                                                                                                                                                                                                                                                                                                                                                                                                                                                                                                                                                                                                                                                                                                                                                                                                                                                                                                                                                                                                                                                                                                                                                                                                                                                                                                                                                                                                                                                                                                                                                                                                                                                                                                                                                                                                                                                                                                                                                                                                                                                                                                                                                                                                                                                                                                                                                                                                                                                                                                                                                                                                                                                                                                                                                                                                                                                                                                                                                                                                                                                                                                                                                                                                                                                                                                                                                                         i have a chase credit card which is incorrectly reporting data on my credit report the company is not helping resolve the issue   \n",
       "15                                                                                                                                                                                                                                                                                                                                                                                                                                                                                                                                                                                                                                                                                                                                                                                                                                                                                                                                                                                                                                                                                                                                                                                                                                                                                                                                                                                                                                                                                                                                                                                                                                                                                                                                                                                                                                                                                                                                                                                                                                                                                                                                                                                                                                                                                                                                                                                                                                                                                                                                                                                                                                                                                                                                                                                                                                                                                                                                                                                                                                                                                                                                                                                                                                                                                                                                                                                                                                                                                                                                                                                           can you please remove inquiry   \n",
       "11                                                                                                                                                                                                                                                                                                                                                                                                                                                                                                                                                                                                                                                                                                                                                                                                                                                                                                                                                                                                                                                                                                                                                                                                                                                                                                                                                                                                                                                                                                                                                                                                                                                                                                                                                                                                                                                                                                                                                                                                                                                                                                        on xxxx while trying to book a xxxx  xxxx  ticket i came across an offer for  to be applied towards the ticket if i applied for a rewards card i put in my information for the offer and within less than a minute was notified via the screen that a decision could not be made i immediately contacted xxxx and was referred to chase bank i then immediately contacted chase bank within no more than minutes of getting the notification on the screen and i was told by the chase representative i spoke with that my application was denied but she could not state why i asked for more information about the xxxx  offer and she explained that even if i had been approved the credit offer only gets applied after the first account statement and could not be used to purchase the ticket i then explicitly told her i was glad i got denied and i was absolutely no longer interested in the account i asked that the application be withdrawn and the representative obliged this all happened no later than mins after putting in the application on xxxx notwithstanding my explicit request not to proceed with the application and contrary to what i was told by the chase representative chase did in fact go ahead to open a credit account in my name on xxxx this is now being reported in my credit report and chase has refused to correct this information on my credit report even though they went ahead to process an application which i did not consent to and out of their error   \n",
       "10                                                                                                                                                                                                                                                                                                                                                                                                                                                                                                                                                                                                                                                                                                                                                                                                                                                                                                                                                                                                                                                                                                                                                                                                                                                                                                                                                                                                                                                                                                                                                                                                                                                                                                                                                                                                                                                                                                                                                                                                                                                                                                                                                                                                                                                                                                                                                                                                                                                                                                                                                                                                                                                                                                                                                                                                                                                                                                                                                                                                                                                                                                                                                                                                                                                                                                                                                                                                  chase card was reported on xxxx however fraudulent application have been submitted my identity without my consent to fraudulently obtain services do not extend credit without verifying the identity of the applicant   \n",
       "26                                                                                                                                                                                                                                                                                                                                                                                                                                                                                                                                                                                                                                                                                                                                                                                                                                                                                                                                                                                                                                                                                                                                                                                                                                                                                                                                                                                                                                                                                                                                                                                                                                                                                                                                                                                                                                                                                                                                                                                                                                                                                                                                                                                                                                                                                                                                                                                                                                                                                                                                                                                                                                                                                                                                                                                                                                                     i have reached out to xxxx several times in attempt to have this fraudulent inquiry removed i was told that i need to call and contact the original creditor that placed this inquiry on my report i have made several attempts to get chase bank to contact the bureau and remove this inquiry that was not authorized by me they seem to not be able to get me to the right person to take care of this issue no matter how many attempts i have made nobody seems to understand what im talkin about i want chase bank to have this fraudulent inquiry removed from my credit report before i take legal action i i have never requested any kind of credit with chase bank or hold any account with them i have an iquiry from xxxx i want this matter resolved   \n",
       "\n",
       "                                                                                                                                                                                                                                                                                                                                                                                                                                                                                                                                                                                                                                                                                                                                                                                                                                                                                                                                                                                                                                                                                                                                                                                                                                                                                                                                                                                                                                                                                                                                                                                                                                                                                                                                                                                                                                                                                                                                                                                                                                                                                                                                                                                      lemmatized_complaints  \\\n",
       "1                                                                                                                                                                                                                                                                                                                                                                                                                                                                                                                                                                                                                                                                                                                                                                                                                                                                                                                                                                                                                                                                                                                                                                                                                                                                                                                                                                                                                                                                                                                                                                                                                                                                                                                                                                                                                                                                        good morning name xxxx xxxx appreciate could help put stop chase bank cardmember service wrote chase asking debt verification sent statement acceptable asking bank validate debt instead receiving mail every month attempting collect debt right know information consumer chase account xxxx xxxx xxxx xxxx thanks advance help   \n",
       "2                                                                                                                                                                                                                                                                                                                                                                                                                                                                                                                                                                                                                                                                                                                                                                                                                                                                                                                                                                                                                                                                                                                                                                                                                                                                                                                                                                                                                                                                                                                                                                                                                                                                                                                                                                                                                                                                                                                                                                     upgraded xxxx xxxx card xxxx told agent upgrade anniversary date would change turned agent giving wrong information order upgrade account xxxx changed anniversary date xxxxxxxx xxxxxxxx without consent xxxx recording agent misled   \n",
       "73                                                                                                                                                                                                                                                                                                                                                                                                                                                                                                                                                                                                                                                                                                                                                                                                                                                                                                                                                                                                                                                                                                                                                                                                                                                                                                                                                                          wired one chase branch xxxx xxxx exact reinstatement amount jpmorgan chase bank order removewithdraw wrongful foreclosure proceeding residential property however chase executive m xxxx xxxx trustee xxxx xxxx xxxx xxxx honoring even rule regulation want total payoff order remove wrongful foreclosure proceeding sale date xxxx xxxx xxxx family resident know prepare xxxx short time thats asked minimum reinstatement amount avoid foreclosure without resorting chapter xxxx bankruptcy filing appreciate assistant bringing jpmorgan chase foreclosure trustee xxxx xxxx xxxx xxxx quality sens stop harassing family fraudulent default claim explained previous complaint xxxxxxxx previous complaint id xxxx submitted xxxx product mortgage issue wrongful foreclosure thank xxxx xxxx tell xxxx email xxxx xxxx   \n",
       "48                                                                                                                                                                                                                                                                                                                                                                                                                                                                                                                                                                                                                                                                                                                                                                                                                                                                                                                                                                                                                                                                                                                                                                                                                                                                                                                                                            jp morgan chase bank please answer following question xxxxxxxx xxxxxxxxxxxxxxxx xxxxxxxx xxxxxxxx jpmorgan chase accessed information xxxx xxxx xxxx xxxx valid reason accessing personal information xxxx xxxx xxxx xxxx chase checking account closed recently xxxxxxxx routing xxxx number xxxx according check statement provided chase xxxx xxxx xxxx showed chase reporting xxxx routing number xxxx disputed xxxx number chase two routing number match xxxxxxxx received response xxxx xxxx xxxx xxxx dispute information chase providing report dispute case id xxxx information chase submitting deleted due disputed info incomplete inaccurate unverifiable true asked question send cfpb copy information pertaining question complaint via u mail xxxx xxxx xxxx xxxx report ive received thank attention humbly await response   \n",
       "45                                                                                                                                                                                                                                                                                                                                                                                                                                                                                                                                                                                                                                                                                                                                                                                                                                                                                                                                                                                   made purchase xxxx xxxx xxxx xxxx amount charged twice transaction placed dispute case chase bank xxxx noticed charge account called back sunday xxxx provisional credit charge monday xxxx told charge post provisional credit could provided used debt card monday xxxx tried use would work went chase bank xxxx xxxx xxxx xxxx xxxx nevada told account closed due fraudulent activity shocked reported fraud account later found accused dispute department placing fraudulent dispute case duplicate charge xxxx xxxx xxxx later contacted xxxx xxxx xxxx told see duplicate charge would credit account within day contacted chase dispute department monday xxxxxxxx explained thaxxxx xxxx xxxx xxxx would credit account like accused making fraudulent dispute claim escalation manager care told chase decision closing account final customer chase xxxx year character challenged dispute agent consider detrimental character slander seeking keep account open chase also want chase reporting closed checking account involuntarily want chase checking account reflecting public record closed involuntary closure chase nothing wrong filing dispute claim duplicate charge dispute case filed past   \n",
       "50                                                                                                                                                                                                                                                                                                                                                                                                                                                                                                                                                                                                                                                                                                                                                                                                                                                                                                                                                                                                                                                                                                                                                                                                                                                                                                                                                                                                                                                                                                                                                                                                                                                                                                                                                                                                                                                                                                                                                                                                                                       senior citizen scammed several company xxxx xxxx paid time share company nothing misleading tried get refund credit card unsucceful information every company paid   \n",
       "43                                                                                                                                                                                                                                                                                                                                                                                                                                                                                                                                                                                                                                                                                                                                                                                                                                                                                                                                                                                                                                                                                                                                                                                                                                                                                                                                                                                                                                                                                                                                                                                                                                                                                                                                                                                               chase sent email today innocuous title important information regarding change chase account force binding arbitration include method opt additional information consequence even egregiously despite chase simply sending email require mail letter personal information enclosed order opt clearly le secure massive loss time money clearly used solely dissuade people opting blatant malpractice chase   \n",
       "40                                                                                                                                                                                                                                                                                                                                                                                                                                                                                                                                                                                                                                                                                                                                                                                                                                                                                                                                                                                                                                                                                                                                                                                                                                                                                                                                                                                                                                                                                                                                                                                                                                                                                                                                                                                                                                                                                                                                                                                                                                                                                       xxxx xxxx sofa love seat table chair never delivered debit card charged bank say visa denied claim furniture money   \n",
       "21   xxxx xxxx made payment online retailer using chase quick pay xxxx chase website realized scam website confirmation product response inquiry regarding order contacted chase get information transaction attempt getting refund retailer bank contacted chase via secured message xxxx explaining happened asked way reverse transaction contact xxxx give information recipient xxxx message reviewed received response restating original email informing transfer completed however mentioned website scam handle inquiry email require expertise another team order assist better regard refund request call consumer online technical support team called number listed email explained situation transferred claim department directed call xxxx ask transaction chase information outside provided initiating transfer felt like agent trying get end call quickly possible interrupt closing script ask contact number xxxx didnt opportunity get information right question would ask xxxx word phrase use get information looking called xxxx who automated system initially directed call bank used bank app initiate transaction called xxxx navigate menu talk customer service agent told information transaction would chase system used bank app perform transaction stayed line understood everything ask better understanding situation ended call called chase called chase second time agent tried look information receiving bank could find additional information asked needed information explained situation transferred claim department told needed contact xxxx get information looking told already contacted finally admitted nothing could due nature transaction type transaction secured said chase information recipient email address inputted recipient banking information kept system phone call asked initiated transaction used absolve responsibility regard matter whole process felt like chase transparent policy regarding type transaction helpful helping get information situation transaction advertised fast safe easy way send money seem dangerous way business feel deceived chase advertising victimized way treated member customer service team   \n",
       "32                                                                                                                                                                                                                                                                                                                                                                                                                                                                                                                                                                                                                                                                                                                                                                                                                                                                                        chase amazon card declined catering order placed brother funeral amount contacted chase around noon today xxxx asked last number chase saving account user account responded saving authorized user customer rep told would call back minute keep line open didnt receive call back hour contacted chase first call thought someone using card fraudulently spoke rep transferred supervisor xxxx said card activated transaction would process called catering company card declined used xxxx xxxx card pay order xxxx xxxx texted asking authorizing purchase responded yes contacted caterer xxxx xxxx declined contacted chase spoke rep told initial question used trick people see answer would told cvv code incorrectly input caterer responded gone number cvv used correct told card cleared purchase would monitor hour called caterer card declined use mastercard processed went use chase amazon restaurant xxxx pm tonight amount declined told chase limit still frustrated figuring multiple decline several conversation chase stating card would ok use embarrassed caterer kept suggesting limit pay card full every month chase confirmed limit transaction never declined either chase xxxx xxxx today multiple assurance set card would monitored make sure transaction would clear never   \n",
       "30                                                                                                                                                                                                                                                                                                                                                                                                                                                                                                                                                                                                                                                                                                                                                                                                                                                                                                                                                                                                                                                                                                                                                                                                                                                                                                                                                                                                                                                                                                                                                                                                                                                                                                                                                                                                                 may concern chase bank charged wrongly overdraft fee alert low balance unsuficent fee balance always deposit immediatly cover transaction needed chase always changed order charged overdraft fee anyway call said per guideline dont refund overdrawft doesnt matter bank fault taken people money ok see attached document chase refund always find way take back refunded first place   \n",
       "27                                                                                                                                                                                                                                                                                                                                                                                                                                                                                                                                                                                                                                                                                                                                                                                                                                                                                                                                                                                                                                                                                                                                                                                                                                                                                                                                                                                                                                                                                                                                                                                                                                                                                                                                                                                                                                                                                                                                                        opened account chase bank xxxx used code xxxx bonus called follow xxxxxxxx term told everything account made xxxx direct deposit bonus would paid day xxxx made required deposit told account never coupon code applied past day bonus would paid   \n",
       "24                                                                                                                                                                                                                                                                                                                                                                                                                                                                                                                                                                                                                                                                                                                                                                                                                                                                                                                                                                                                                                                                                                                                                                                                                                                                                                                                                                                                                                                                                                                                                                                                                                                                                                                                                                                                                                                                                                                                                                                                                                                                                                                                                                      mishandling account chase auto xxxx   \n",
       "17                                                                                                                                                                                                                                                                                                                                                                                                                                                                                                                                                                                                                                                                                                             notice jp morgan chase restricted account debit card tuesday xxxx thursday xxxx went branch advised customer service representative account would actually closed went branch see remove fund currently well direct deposit place employment would returned bank associate customer service representative assured fund would post may take additional business day saturday attempted go inside branch yet retrieve fund actually post friday xxxx upon looking account realize fund reversed longer present current statement ive called told may take two business day stating tuesday xxxxxxxx would date fund would available withdraw bank teller chase informing mailed check three business day recover fund owed left account currently unfortunately put additional financial bind two fee late rent late car payment etc short giving written notice thing actually occur peace mind fact chase handled situation grossly even bank teller inform account look suspicious giving suspicious look although know chase reserve right close account time believe protocol past give notice form written document shored giving written notice thing actually occur peace mind fact chase handled situation grossly even bank teller inform account look suspicious giving suspicious look although know chase reserve right close account time believe protocol past give notice form written document situation truly affecting livelihood dont seem want deal professionally thank   \n",
       "14                                                                                                                                                                                                                                                                                                                                                                                                                                                                                                                                                                                                                                                                                                                                                                                                                                                                                                                                                                                                                                                                                                                                                                                                                                                                                                                                                                                                                                                                                                                                                                                                                                                                                                                                                                                                                                                                                         grand son give check deposit chase account fund clear chase bank closed account never paid money said need speek grand son check clear money taking chase bank refuse pay money grand son called chase time told call verify check owner country time date happen xxxx check number xxxx claim number xxxx chase   \n",
       "99                                                                                                                                                                                                                                                                                                                                                                                                                                                                                                                                                                                                                                                                                                                                                                                                                                                                                                                                                                                                                                                                                                                                                                                                                                                                                                                                                                                                                                                                                                                                                                                                                                                                                                                                                                                                                                                                                                                  name xxxx xxxx missed payment xxxx day past due current applied numerous time loan modification get loss mitigation assistance get help chase gave loan forbearance option xxxx xxxx xxxx issue refinancing since dti high excessive debt get declined every time credit score low xxxx   \n",
       "20                                                                                                                                                                                                                                                                                                                                                                                                                                                                                                                                                                                                                                                                                                                                                                                                                                                                                                                                                                                                                                                                                                                                                          summer month experience decline income due employment therefore request one month payment extension auto loan company chase past almost four year request payment extension granted never delinquent auto loan payment however xxxx request one month payment extension denied year explained situation representative supervisor avail lengthy discussion waiting informed reason decline contractual reason denial baffled therefore emailed office xxxx xxxx executive director communication jpmorgan chase co representative contacted stated chase followup week later representative xxxx xxxx xxxx xxxx office called representative shared role help resolve matter representative via conference call contacted department handing request reviewing information request still denied based policy change requested explanation representative stated letter mailed explanation received xxxx letter reason denial policy change would like cfpb help exploring denial payment extension request especially since clear reason denial   \n",
       "57                                                                                                                                                                                                                                                                                                                                                                                                                                                                                                                                                                                                                                                                                                                                                                                                                                                                                                                                                                                                                                                                                                                                                                                                                                                                                                                                                                                                                                                                                                                                                                                                                                                                                                                                                                                                                                                                                                                                                                                                                                                                                                  trying loan modification chase give runaround im mo behind dont let make payment aens doc always asking   \n",
       "58                                                                                                                                                                                                                                                                                                                                                                                                                                                                                                                                                                                                                                                                                                                                                                                                                                                                                                                                                                                                                                                                                                                                                                                                                                                                                                                                                                                                                                                                                           made purchase xxxxxxxx made payment xxxxxxxx xxxxxxxx minimum payment closing date xxxxxxxx statement show outstanding purchase balance xxxxxxxx enclosed previous month statement show purchase prior one xxxxxxxx however got xxxx statement show still purchase balance promotional balance xxxx xxxx promotional balance difference apparently payment thought would applied purchase applied promotional balance first understanding minimum payment met payment excess minimum would applied highest interest rate balance first first time chase skirted u financial law turn larger profit need help rectifying problem logic fell deaf ear chase thank advance assistance respectfully xxxx xxxx xxxx   \n",
       "127                                                                                                                                                                                                                                                                                                                                                                                                                                                                                                                                                                                                                                                                                                                                                                                                                                                                                                                                                                                                                                                                                                                                                                                                                                        xxxx military member xxxx chase auto finance refusing pay gap insurancewaiver coverage purchased time signed financing agreement stationed xxxx purchased xxxx cadillac at premium financed vehicle chase auto finance purchased vehicle original financing agreement included option purchase gap insurance additional provider gap insurance xxxx xxxx however also required sign gap waiver addendum stated purchased insurance agreement chase auto finance waive deficiency event vehicle totaled chase auto finance agreed writing ship vehicle xxxx received military order reassigning xxxx letter explicitly authorized drive vehicle xxxx stationed overseas vehicle totaled accident chase refusing honor gap insurancewaiver provision loss occurred outside united state xxxx also refusing release lien vehicle salvage value recovered sent bank simply want chase bank honor commitment cover deficiency insurance payout remaining balance loan   \n",
       "23                                                                                                                                                                                                                                                                                                                                                                                                                                                                                                                                                                                                                                                                                                                                                                                                                                                                                                                                                                                                                                                                                                                                                                                                                                                                                                                                                                                                                                                                                                                                                                                                                                                                                                                                                                                                                                                                                                                                                                                                                                                                                                                 chase credit card incorrectly reporting data credit report company helping resolve issue   \n",
       "15                                                                                                                                                                                                                                                                                                                                                                                                                                                                                                                                                                                                                                                                                                                                                                                                                                                                                                                                                                                                                                                                                                                                                                                                                                                                                                                                                                                                                                                                                                                                                                                                                                                                                                                                                                                                                                                                                                                                                                                                                                                                                                                                                                                    please remove inquiry   \n",
       "11                                                                                                                                                                                                                                                                                                                                                                                                                                                                                                                                                                                                                                                                                                                                                                                                                                                                                                                                                                                                                                                                                                                                                                                                                                                    xxxx trying book xxxx xxxx ticket came across offer applied towards ticket applied reward card put information offer within le minute notified via screen decision could made immediately contacted xxxx referred chase bank immediately contacted chase bank within minute getting notification screen told chase representative spoke application denied could state asked information xxxx offer explained even approved credit offer get applied first account statement could used purchase ticket explicitly told glad got denied absolutely longer interested account asked application withdrawn representative obliged happened later min putting application xxxx notwithstanding explicit request proceed application contrary told chase representative chase fact go ahead open credit account name xxxx reported credit report chase refused correct information credit report even though went ahead process application consent error   \n",
       "10                                                                                                                                                                                                                                                                                                                                                                                                                                                                                                                                                                                                                                                                                                                                                                                                                                                                                                                                                                                                                                                                                                                                                                                                                                                                                                                                                                                                                                                                                                                                                                                                                                                                                                                                                                                                                                                                                                                                                                                                                                chase card reported xxxx however fraudulent application submitted identity without consent fraudulently obtain service extend credit without verifying identity applicant   \n",
       "26                                                                                                                                                                                                                                                                                                                                                                                                                                                                                                                                                                                                                                                                                                                                                                                                                                                                                                                                                                                                                                                                                                                                                                                                                                                                                                                                                                                                                                                                                                                                                                                                                                                                                                                           reached xxxx several time attempt fraudulent inquiry removed told need call contact original creditor placed inquiry report made several attempt get chase bank contact bureau remove inquiry authorized seem able get right person take care issue matter many attempt made nobody seems understand im talkin want chase bank fraudulent inquiry removed credit report take legal action never requested kind credit chase bank hold account iquiry xxxx want matter resolved   \n",
       "\n",
       "                                                                                                                                                                                                                                                                                                                                                                                                                                                                                                                                                                                                                                                                                                                                                                                                                                                                                                                                                                                                                                                                                                                                complaint_POS_removed  \\\n",
       "1                                                                                                                                                                                                                                                                                                                                                                                                                                                                                                                                                                                                                                                                                                                                                                                                                                                                                                                                                                                                    morning name stop debt verification statement bank debt mail month debt right information consumer chase xxxx xxxx xxxx xxxx thanks advance help   \n",
       "2                                                                                                                                                                                                                                                                                                                                                                                                                                                                                                                                                                                                                                                                                                                                                                                                                                                                                                                                                                                                                                      xxxx card agent anniversary date agent information order account anniversary date consent xxxx recording agent   \n",
       "73                                                                                                                                                                                                                                                                                                                                                                                                                                                                                                                                                                                                                                              chase branches xxxx xxxx reinstatement amount order foreclosure proceedings property executive trustee xxxx xxxx xxxx xxxx rules regulations payoff order foreclosure proceedings sales date xxxx xxxx family resident xxxx time reinstatement amount foreclosure chapter xxxx bankruptcy filing assistant chase foreclosure trustee xxxx xxxx xxxx xxxx quality senses family default claim complaint xxxxxxxx complaint xxxx xxxx product mortgage issue foreclosure xxxx xxxx xxxx email xxxx xxxx   \n",
       "48                                                                                                                                                                                                                                                                                                                                                                                                                                                                                                                                                                                                                                                                                                                                     questions information xxxx xxxx xxxx xxxx reason information xxxx xxxx xxxx xxxx chase account routing xxxx number checks statements xxxx chase xxxx routing number xxxx xxxx number routing numbers xxxxxxxx response xxxx xxxx xxxx xxxx dispute information chase report dispute case d information chase info questions cfpb copies information questions complaint mail xxxx xxxx xxxx attention response   \n",
       "45                                                                                                                                                                                                                                                                                                                                                                                                                                                                                                                                                                                                                  purchase xxxx xxxx xxxx amount transaction disputes case charge account credit charge charge credit debt card xxxx xxxx xxxx account activity fraud account disputes disputes case charge xxxx xxxx xxxx xxxx xxxx charge account days chase disputes department thaxxxx xxxx xxxx xxxx account disputes escalation manager decision account customer chase years character disputes agents character account chase chase checking account chase checking account records closure chase disputes claim charge disputes cases past   \n",
       "50                                                                                                                                                                                                                                                                                                                                                                                                                                                                                                                                                                                                                                                                                                                                                                                                                                                                                                                                                                                                                                                            citizen companies xxxx xxxx time share companies refund credit card information company   \n",
       "43                                                                                                                                                                                                                                                                                                                                                                                                                                                                                                                                                                                                                                                                                                                                                                                                                                                                                                                                                                        chase email today title information changes chase arbitration method information consequences chase email letter information order loss time money people malpractice chase   \n",
       "40                                                                                                                                                                                                                                                                                                                                                                                                                                                                                                                                                                                                                                                                                                                                                                                                                                                                                                                                                                                                                                                                   xxxx xxxx sofa love seat table chairs debit card bank visa claim furniture money   \n",
       "21   xxxx xxxx payment retailer chase pay xxxx chase website scam website confirmation product response inquiries order chase information transaction refund retailers bank chase message way transaction contact xxxx information recipient message response email transfer website scam inquiries email expertise team order regards refund consumer support team number email situation claims department xxxx transaction information transfer agent call closing script contact number opportunity information questions xxxx words phrases information system bank banks transaction menus customer service agent information transaction system banks transaction line understanding situation call chase chase time agent information bank information information situation claims department xxxx information nature transaction types transactions chase information recipient email address recipients banking information system phone calls transaction responsibility regards matter process chase policies types transactions information situation transactions way money way business advertising way members customer service team   \n",
       "32                                                                                                                                                                                                                                                                                                                                                                                                                                                                                                                                                        chase card catering order brothers funeral amount chase noon today numbers chase savings account user account savings user customer minutes line call hour chase call card supervisor card transaction catering company card xxxx xxxx card order xxxx xxxx purchase caterer xxxx xxxx chase questions people answer code input caterer numbers card purchase hours caterer card mastercard chase amazon restaurant xxxx pm tonight amount chase limit declines conversations chase card caterer limit card month chase limit transaction chase xxxx xxxx today assurances card transaction   \n",
       "30                                                                                                                                                                                                                                                                                                                                                                                                                                                                                                                                                                                                                                                                                                                                                                                                                                                                                                                                                                               concern bank overdraft fees alert balance fee balance transactions chase order overdraft fee guidelines overdrawft bank fault people money documents chase way place   \n",
       "27                                                                                                                                                                                                                                                                                                                                                                                                                                                                                                                                                                                                                                                                                                                                                                                                                                                                                                                                                                                                                                     account code xxxx bonus xxxxxxxx terms account deposit bonus days xxxx deposits account coupon code days bonus   \n",
       "24                                                                                                                                                                                                                                                                                                                                                                                                                                                                                                                                                                                                                                                                                                                                                                                                                                                                                                                                                                                                                                                                                                                                  account auto xxxx   \n",
       "17                                                                                                                                                                                                                                                                                                                                                                                                                                                                                                                           notice account debit card branch customer service representative account branch funds deposit place employment bank associate customer service representative funds business day branch funds account funds statement business day date funds bank teller chase check business days funds account bind fees rent car payments notice things peace mind fact chase situation bank teller account look chase right account time protocol past notice form document notice things peace mind fact chase situation bank teller account look chase right account time protocol past notice form document situation livelihood   \n",
       "14                                                                                                                                                                                                                                                                                                                                                                                                                                                                                                                                                                                                                                                                                                                                                                                                                                                                                                                                                                                  son chase account fund chase bank account money son check money chase bank money son times check owner country time date xxxx number xxxx claim number xxxx chase   \n",
       "99                                                                                                                                                                                                                                                                                                                                                                                                                                                                                                                                                                                                                                                                                                                                                                                                                                                                                                                                                                                  name xxxx xxxx payment days times loan modification loss mitigation assistance help chase loan forbearance option xxxx xxxx issue dti debt time credit score xxxx   \n",
       "20                                                                                                                                                                                                                                                                                                                                                                                                                                                                                                               summer months decline income employment month payment extension auto loan company chase past years request payment extension auto loan payment xxxx request month payment extension year situation supervisor avail discussion reason decline reason denial office executive director communications representative chase week representative xxxx xxxx office representative role help matter representative conference call department request information request policy changes explanation representative letter explanation xxxx letters reason denial policy changes cfpb help denial payment extension request reason denial   \n",
       "57                                                                                                                                                                                                                                                                                                                                                                                                                                                                                                                                                                                                                                                                                                                                                                                                                                                                                                                                                                                                                                                                                                 loan modification chase runaround mo payments aens   \n",
       "58                                                                                                                                                                                                                                                                                                                                                                                                                                                                                                                                                                                                                                                                                                                                                   purchase xxxxxxxx payments xxxxxxxx xxxxxxxx payment closing date xxxxxxxx statement purchase balance xxxxxxxx months statement purchases one xxxx statement purchase balance balance xxxx balance difference payment purchase balance understanding payment payments excess minimum interest rate balance time chase law profit help problem logic ears chase advance assistance xxxx xxxx xxxx   \n",
       "127                                                                                                                                                                                                                                                                                                                                                                                                                                                                                                                                                                                                                                                    military member chase auto finance gap insurancewaiver coverage time financing agreement xxxx premium vehicle auto finance vehicle financing agreement option gap insurance provider gap insurance xxxx xxxx gap waiver addendum insurance agreement auto finance deficiency event vehicle chase auto finance vehicle orders letter vehicle xxxx vehicle accident gap insurancewaiver provisions loss xxxx lien vehicle salvage value bank commitment deficiency insurance payout balance loan   \n",
       "23                                                                                                                                                                                                                                                                                                                                                                                                                                                                                                                                                                                                                                                                                                                                                                                                                                                                                                                                                                                                                                                                                                       credit card data credit report company issue   \n",
       "15                                                                                                                                                                                                                                                                                                                                                                                                                                                                                                                                                                                                                                                                                                                                                                                                                                                                                                                                                                                                                                                                                                                                            inquiry   \n",
       "11                                                                                                                                                                                                                                                                                                                                                                                                                                                                                                                                                                                                                                                                                                                                 xxxx xxxx xxxx ticket offer ticket rewards card information offer minute screen decision chase bank minutes notification screen representative application information offer credit offer account statement ticket account application representative mins application xxxx request application representative chase fact credit account name xxxx credit report chase information credit report application error   \n",
       "10                                                                                                                                                                                                                                                                                                                                                                                                                                                                                                                                                                                                                                                                                                                                                                                                                                                                                                                                                                                                                                                                                    application identity consent services credit identity applicant   \n",
       "26                                                                                                                                                                                                                                                                                                                                                                                                                                                                                                                                                                                                                                                                                                                                                                                                                                                                                                                                                              xxxx times attempt inquiry creditor inquiry report attempts bank bureau inquiry person care issue attempts talkin inquiry credit report action kind credit account iquiry xxxx matter   \n",
       "\n",
       "                                                                                                                                                                                                                                                                                                                                                                                                                                                                                                                                                                                                                                                                                                                                                                                                                                                                                                                                                                                                                                                                                                          Complaint_clean  \\\n",
       "1                                                                                                                                                                                                                                                                                                                                                                                                                                                                                                                                                                                                                                                                                                                                                                                                                                                                                                                                                                                        morning name stop debt verification statement bank debt mail month debt right information consumer chase     thanks advance help   \n",
       "2                                                                                                                                                                                                                                                                                                                                                                                                                                                                                                                                                                                                                                                                                                                                                                                                                                                                                                                                                                                                                   card agent anniversary date agent information order account anniversary date consent  recording agent   \n",
       "73                                                                                                                                                                                                                                                                                                                                                                                                                                                                                                                                                                                                                                                                                                              chase branches   reinstatement amount order foreclosure proceedings property executive trustee     rules regulations payoff order foreclosure proceedings sales date   family resident  time reinstatement amount foreclosure chapter  bankruptcy filing assistant chase foreclosure trustee     quality senses family default claim complaint  complaint   product mortgage issue foreclosure    email     \n",
       "48                                                                                                                                                                                                                                                                                                                                                                                                                                                                                                                                                                                                                                                                                                                                                                                                 questions information     reason information     chase account routing  number checks statements  chase  routing number   number routing numbers  response     dispute information chase report dispute case d information chase info questions cfpb copies information questions complaint mail    attention response   \n",
       "45                                                                                                                                                                                                                                                                                                                                                                                                                                                                                                                                                                                                                                                  purchase    amount transaction disputes case charge account credit charge charge credit debt card    account activity fraud account disputes disputes case charge      charge account days chase disputes department tha    account disputes escalation manager decision account customer chase years character disputes agents character account chase chase checking account chase checking account records closure chase disputes claim charge disputes cases past   \n",
       "50                                                                                                                                                                                                                                                                                                                                                                                                                                                                                                                                                                                                                                                                                                                                                                                                                                                                                                                                                                                                                                        citizen companies   time share companies refund credit card information company   \n",
       "43                                                                                                                                                                                                                                                                                                                                                                                                                                                                                                                                                                                                                                                                                                                                                                                                                                                                                                                                            chase email today title information changes chase arbitration method information consequences chase email letter information order loss time money people malpractice chase   \n",
       "40                                                                                                                                                                                                                                                                                                                                                                                                                                                                                                                                                                                                                                                                                                                                                                                                                                                                                                                                                                                                                                                 sofa love seat table chairs debit card bank visa claim furniture money   \n",
       "21     payment retailer chase pay  chase website scam website confirmation product response inquiries order chase information transaction refund retailers bank chase message way transaction contact  information recipient message response email transfer website scam inquiries email expertise team order regards refund consumer support team number email situation claims department  transaction information transfer agent call closing script contact number opportunity information questions  words phrases information system bank banks transaction menus customer service agent information transaction system banks transaction line understanding situation call chase chase time agent information bank information information situation claims department  information nature transaction types transactions chase information recipient email address recipients banking information system phone calls transaction responsibility regards matter process chase policies types transactions information situation transactions way money way business advertising way members customer service team   \n",
       "32                                                                                                                                                                                                                                                                                                                                                                                                                                                                                                                                                                chase card catering order brothers funeral amount chase noon today numbers chase savings account user account savings user customer minutes line call hour chase call card supervisor card transaction catering company card   card order   purchase caterer   chase questions people answer code input caterer numbers card purchase hours caterer card mastercard chase amazon restaurant  pm tonight amount chase limit declines conversations chase card caterer limit card month chase limit transaction chase   today assurances card transaction   \n",
       "30                                                                                                                                                                                                                                                                                                                                                                                                                                                                                                                                                                                                                                                                                                                                                                                                                                                                                                                                                   concern bank overdraft fees alert balance fee balance transactions chase order overdraft fee guidelines overdrawft bank fault people money documents chase way place   \n",
       "27                                                                                                                                                                                                                                                                                                                                                                                                                                                                                                                                                                                                                                                                                                                                                                                                                                                                                                                                                                                                                         account code  bonus  terms account deposit bonus days  deposits account coupon code days bonus   \n",
       "24                                                                                                                                                                                                                                                                                                                                                                                                                                                                                                                                                                                                                                                                                                                                                                                                                                                                                                                                                                                                                                                                                                          account auto    \n",
       "17                                                                                                                                                                                                                                                                                                                                                                                                                                                                                               notice account debit card branch customer service representative account branch funds deposit place employment bank associate customer service representative funds business day branch funds account funds statement business day date funds bank teller chase check business days funds account bind fees rent car payments notice things peace mind fact chase situation bank teller account look chase right account time protocol past notice form document notice things peace mind fact chase situation bank teller account look chase right account time protocol past notice form document situation livelihood   \n",
       "14                                                                                                                                                                                                                                                                                                                                                                                                                                                                                                                                                                                                                                                                                                                                                                                                                                                                                                                                                                  son chase account fund chase bank account money son check money chase bank money son times check owner country time date  number  claim number  chase   \n",
       "99                                                                                                                                                                                                                                                                                                                                                                                                                                                                                                                                                                                                                                                                                                                                                                                                                                                                                                                                                                          name   payment days times loan modification loss mitigation assistance help chase loan forbearance option   issue dti debt time credit score    \n",
       "20                                                                                                                                                                                                                                                                                                                                                                                                                                                                                                   summer months decline income employment month payment extension auto loan company chase past years request payment extension auto loan payment  request month payment extension year situation supervisor avail discussion reason decline reason denial office executive director communications representative chase week representative   office representative role help matter representative conference call department request information request policy changes explanation representative letter explanation  letters reason denial policy changes cfpb help denial payment extension request reason denial   \n",
       "57                                                                                                                                                                                                                                                                                                                                                                                                                                                                                                                                                                                                                                                                                                                                                                                                                                                                                                                                                                                                                                                                     loan modification chase runaround mo payments aens   \n",
       "58                                                                                                                                                                                                                                                                                                                                                                                                                                                                                                                                                                                                                                                                                                                                                                                   purchase  payments   payment closing date  statement purchase balance  months statement purchases one  statement purchase balance balance  balance difference payment purchase balance understanding payment payments excess minimum interest rate balance time chase law profit help problem logic ears chase advance assistance      \n",
       "127                                                                                                                                                                                                                                                                                                                                                                                                                                                                                                                                                                                                                                            military member chase auto finance gap insurancewaiver coverage time financing agreement  premium vehicle auto finance vehicle financing agreement option gap insurance provider gap insurance   gap waiver addendum insurance agreement auto finance deficiency event vehicle chase auto finance vehicle orders letter vehicle  vehicle accident gap insurancewaiver provisions loss  lien vehicle salvage value bank commitment deficiency insurance payout balance loan   \n",
       "23                                                                                                                                                                                                                                                                                                                                                                                                                                                                                                                                                                                                                                                                                                                                                                                                                                                                                                                                                                                                                                                                           credit card data credit report company issue   \n",
       "15                                                                                                                                                                                                                                                                                                                                                                                                                                                                                                                                                                                                                                                                                                                                                                                                                                                                                                                                                                                                                                                                                                                inquiry   \n",
       "11                                                                                                                                                                                                                                                                                                                                                                                                                                                                                                                                                                                                                                                                                                                            ticket offer ticket rewards card information offer minute screen decision chase bank minutes notification screen representative application information offer credit offer account statement ticket account application representative mins application  request application representative chase fact credit account name  credit report chase information credit report application error   \n",
       "10                                                                                                                                                                                                                                                                                                                                                                                                                                                                                                                                                                                                                                                                                                                                                                                                                                                                                                                                                                                                                                                        application identity consent services credit identity applicant   \n",
       "26                                                                                                                                                                                                                                                                                                                                                                                                                                                                                                                                                                                                                                                                                                                                                                                                                                                                                                                                           times attempt inquiry creditor inquiry report attempts bank bureau inquiry person care issue attempts talkin inquiry credit report action kind credit account iquiry  matter   \n",
       "\n",
       "     Topic  \n",
       "1        0  \n",
       "2        0  \n",
       "73       0  \n",
       "48       0  \n",
       "45       0  \n",
       "50       1  \n",
       "43       1  \n",
       "40       1  \n",
       "21       1  \n",
       "32       1  \n",
       "30       2  \n",
       "27       2  \n",
       "24       2  \n",
       "17       2  \n",
       "14       2  \n",
       "99       3  \n",
       "20       3  \n",
       "57       3  \n",
       "58       3  \n",
       "127      3  \n",
       "23       4  \n",
       "15       4  \n",
       "11       4  \n",
       "10       4  \n",
       "26       4  "
      ]
     },
     "execution_count": 60,
     "metadata": {},
     "output_type": "execute_result"
    }
   ],
   "source": [
    "#Print the first 5 Complaint for each of the Topics\n",
    "## naming dataframe as df_clean_2 to conduct experiments\n",
    "## setting display options\n",
    "pd.set_option('display.max_colwidth',None)\n",
    "df_clean_2=df_clean.groupby('Topic').head()\n",
    "df_clean_2.sort_values('Topic')"
   ]
  },
  {
   "cell_type": "markdown",
   "metadata": {},
   "source": [
    "#### After evaluating the mapping, if the topics assigned are correct then assign these names to the relevant topic:\n",
    "* Bank Account services\n",
    "* Credit card or prepaid card\n",
    "* Theft/Dispute Reporting\n",
    "* Mortgage/Loan\n",
    "* Others"
   ]
  },
  {
   "cell_type": "code",
   "execution_count": 61,
   "metadata": {},
   "outputs": [
    {
     "data": {
      "text/html": [
       "<div>\n",
       "<style scoped>\n",
       "    .dataframe tbody tr th:only-of-type {\n",
       "        vertical-align: middle;\n",
       "    }\n",
       "\n",
       "    .dataframe tbody tr th {\n",
       "        vertical-align: top;\n",
       "    }\n",
       "\n",
       "    .dataframe thead th {\n",
       "        text-align: right;\n",
       "    }\n",
       "</style>\n",
       "<table border=\"1\" class=\"dataframe\">\n",
       "  <thead>\n",
       "    <tr style=\"text-align: right;\">\n",
       "      <th></th>\n",
       "      <th>complaints</th>\n",
       "      <th>lemmatized_complaints</th>\n",
       "      <th>complaint_POS_removed</th>\n",
       "      <th>Complaint_clean</th>\n",
       "      <th>Topic</th>\n",
       "    </tr>\n",
       "  </thead>\n",
       "  <tbody>\n",
       "    <tr>\n",
       "      <th>1</th>\n",
       "      <td>good morning my name is xxxx xxxx and i appreciate it if you could help me put a stop to chase bank cardmember services \\nin  i wrote to chase asking for debt verification and what they sent me a statement which is not acceptable i am asking the bank to validate the debt instead i been receiving mail every month from them attempting to collect a debt \\ni have a right to know this information as a consumer \\n\\nchase account  xxxx xxxx xxxx xxxx thanks in advance for your help</td>\n",
       "      <td>good morning name xxxx xxxx appreciate could help put stop chase bank cardmember service wrote chase asking debt verification sent statement acceptable asking bank validate debt instead receiving mail every month attempting collect debt right know information consumer chase account xxxx xxxx xxxx xxxx thanks advance help</td>\n",
       "      <td>morning name stop debt verification statement bank debt mail month debt right information consumer chase xxxx xxxx xxxx xxxx thanks advance help</td>\n",
       "      <td>morning name stop debt verification statement bank debt mail month debt right information consumer chase     thanks advance help</td>\n",
       "      <td>0</td>\n",
       "    </tr>\n",
       "    <tr>\n",
       "      <th>2</th>\n",
       "      <td>i upgraded my xxxx xxxx card in xxxx and was told by the agent who did the upgrade my anniversary date would not change it turned the agent was giving me the wrong information in order to upgrade the account xxxx   changed my anniversary date from xxxxxxxx to xxxxxxxx without my consent xxxx has the recording of the agent who was misled me</td>\n",
       "      <td>upgraded xxxx xxxx card xxxx told agent upgrade anniversary date would change turned agent giving wrong information order upgrade account xxxx changed anniversary date xxxxxxxx xxxxxxxx without consent xxxx recording agent misled</td>\n",
       "      <td>xxxx card agent anniversary date agent information order account anniversary date consent xxxx recording agent</td>\n",
       "      <td>card agent anniversary date agent information order account anniversary date consent  recording agent</td>\n",
       "      <td>0</td>\n",
       "    </tr>\n",
       "    <tr>\n",
       "      <th>73</th>\n",
       "      <td>i have wired through one of chase branches in xxxx xxxx the exact reinstatement amount of  to jpmorgan chase bank in order to removewithdraw their wrongful foreclosure proceedings on my residential property\\n\\nhowever the chase executive ms xxxx xxxx and its trustee xxxx xxxx xxxx xxxx are not honoring even their own rules and regulations she wants the total payoff of  now in order to remove their wrongful foreclosure proceedings with sales date of xxxx at xxxx xxxx on my family resident\\n\\nshe knows i can not prepare xxxx in such a short time thats why i asked for minimum reinstatement amount to avoid foreclosure without resorting to chapter xxxx bankruptcy filing\\n\\ni appreciate you assistant in bringing jpmorgan chase and its foreclosure trustee xxxx xxxx xxxx xxxx  quality  to their senses and stop harassing my family with their fraudulent default claim as explained in my previous complaint about them on xxxxxxxx\\n\\nmy previous complaint id is xxxx submitted xxxx product  mortgage issue wrongful foreclosure\\n\\nthank you xxxx xxxx tell   xxxx email  xxxx xxxx</td>\n",
       "      <td>wired one chase branch xxxx xxxx exact reinstatement amount jpmorgan chase bank order removewithdraw wrongful foreclosure proceeding residential property however chase executive m xxxx xxxx trustee xxxx xxxx xxxx xxxx honoring even rule regulation want total payoff order remove wrongful foreclosure proceeding sale date xxxx xxxx xxxx family resident know prepare xxxx short time thats asked minimum reinstatement amount avoid foreclosure without resorting chapter xxxx bankruptcy filing appreciate assistant bringing jpmorgan chase foreclosure trustee xxxx xxxx xxxx xxxx quality sens stop harassing family fraudulent default claim explained previous complaint xxxxxxxx previous complaint id xxxx submitted xxxx product mortgage issue wrongful foreclosure thank xxxx xxxx tell xxxx email xxxx xxxx</td>\n",
       "      <td>chase branches xxxx xxxx reinstatement amount order foreclosure proceedings property executive trustee xxxx xxxx xxxx xxxx rules regulations payoff order foreclosure proceedings sales date xxxx xxxx family resident xxxx time reinstatement amount foreclosure chapter xxxx bankruptcy filing assistant chase foreclosure trustee xxxx xxxx xxxx xxxx quality senses family default claim complaint xxxxxxxx complaint xxxx xxxx product mortgage issue foreclosure xxxx xxxx xxxx email xxxx xxxx</td>\n",
       "      <td>chase branches   reinstatement amount order foreclosure proceedings property executive trustee     rules regulations payoff order foreclosure proceedings sales date   family resident  time reinstatement amount foreclosure chapter  bankruptcy filing assistant chase foreclosure trustee     quality senses family default claim complaint  complaint   product mortgage issue foreclosure    email</td>\n",
       "      <td>0</td>\n",
       "    </tr>\n",
       "    <tr>\n",
       "      <th>48</th>\n",
       "      <td>jp morgan chase bank please answer the following questions    on xxxxxxxx xxxxxxxxxxxxxxxx xxxxxxxx  xxxxxxxx jpmorgan chase accessed information about me through xxxx xxxx xxxx  xxxx \\nwhat was the valid reason for accessing my personal information through xxxx xxxx xxxx  xxxx \\n\\n  the chase checking account that was closed recently during xxxxxxxx had a routing or xxxx number of xxxx according to checks and statements provided to me by chase \\nxxxx xxxx xxxx showed chase reporting an xxxx routing number of xxxx before and after i had disputed the xxxx number with chase \\nwhy do these two routing numbers not match \\n\\n  xxxxxxxx i received a response from xxxx xxxx xxxx xxxx to a dispute about information chase was providing on my report dispute case id xxxx the information chase had been submitting was deleted due to disputed info being incomplete inaccurate or unverifiable \\nis this true \\n\\nonce again i have asked    questions \\n\\ni will send the cfpb copies of the information i have pertaining to the  questions in this complaint via us mail which are the xxxx xxxx xxxx xxxx reports ive received \\n\\nthank you for your attention and humbly await your response</td>\n",
       "      <td>jp morgan chase bank please answer following question xxxxxxxx xxxxxxxxxxxxxxxx xxxxxxxx xxxxxxxx jpmorgan chase accessed information xxxx xxxx xxxx xxxx valid reason accessing personal information xxxx xxxx xxxx xxxx chase checking account closed recently xxxxxxxx routing xxxx number xxxx according check statement provided chase xxxx xxxx xxxx showed chase reporting xxxx routing number xxxx disputed xxxx number chase two routing number match xxxxxxxx received response xxxx xxxx xxxx xxxx dispute information chase providing report dispute case id xxxx information chase submitting deleted due disputed info incomplete inaccurate unverifiable true asked question send cfpb copy information pertaining question complaint via u mail xxxx xxxx xxxx xxxx report ive received thank attention humbly await response</td>\n",
       "      <td>questions information xxxx xxxx xxxx xxxx reason information xxxx xxxx xxxx xxxx chase account routing xxxx number checks statements xxxx chase xxxx routing number xxxx xxxx number routing numbers xxxxxxxx response xxxx xxxx xxxx xxxx dispute information chase report dispute case d information chase info questions cfpb copies information questions complaint mail xxxx xxxx xxxx attention response</td>\n",
       "      <td>questions information     reason information     chase account routing  number checks statements  chase  routing number   number routing numbers  response     dispute information chase report dispute case d information chase info questions cfpb copies information questions complaint mail    attention response</td>\n",
       "      <td>0</td>\n",
       "    </tr>\n",
       "    <tr>\n",
       "      <th>45</th>\n",
       "      <td>i made a purchase with xxxx xxxx xxxx on xxxx in the amount of  i was charged twice for this transaction i placed a disputes case with chase bank on xxxx when i noticed the charge on my account i called back on sunday xxxx about the provisional credit for the charge and again on monday xxxx i was told the charge had to post before a provisional credit could be provided i used my debt card on monday xxxx then tried to use it again but it would not work i went to chase bank on xxxx xxxx xxxx in xxxx xxxx nevada and was told that my account was closed due to fraudulent activity i was shocked because i had not reported fraud on my account i later found out that i was being accused by the disputes department of placing a fraudulent disputes case for the duplicate charge from xxxx xxxx  xxxx i later contacted xxxx xxxx  xxxx again and was told that they did see a duplicate charge and would credit my account within     days i contacted the chase disputes department again on monday xxxxxxxx  and explained thaxxxx xxxx xxxx xxxx would credit my account and that i did not like being accused of making a fraudulent disputes claim the escalation manager did not care and told me that chase decision on closing my account was final i had been a customer of chase for xxxx   years my character has been challenged by the disputes agents and i consider this to be detrimental to my character and slander \\n\\ni am not seeking to keep my account open with chase but i also do not want chase reporting that they closed my checking account involuntarily \\n\\nonce again i do not want chase to have the checking account that i had with them being reflecting on any public records as being closed as involuntary closure by chase \\n\\ni did nothing wrong by filing a disputes claim for the duplicate charge or any other disputes cases that were filed in the past</td>\n",
       "      <td>made purchase xxxx xxxx xxxx xxxx amount charged twice transaction placed dispute case chase bank xxxx noticed charge account called back sunday xxxx provisional credit charge monday xxxx told charge post provisional credit could provided used debt card monday xxxx tried use would work went chase bank xxxx xxxx xxxx xxxx xxxx nevada told account closed due fraudulent activity shocked reported fraud account later found accused dispute department placing fraudulent dispute case duplicate charge xxxx xxxx xxxx later contacted xxxx xxxx xxxx told see duplicate charge would credit account within day contacted chase dispute department monday xxxxxxxx explained thaxxxx xxxx xxxx xxxx would credit account like accused making fraudulent dispute claim escalation manager care told chase decision closing account final customer chase xxxx year character challenged dispute agent consider detrimental character slander seeking keep account open chase also want chase reporting closed checking account involuntarily want chase checking account reflecting public record closed involuntary closure chase nothing wrong filing dispute claim duplicate charge dispute case filed past</td>\n",
       "      <td>purchase xxxx xxxx xxxx amount transaction disputes case charge account credit charge charge credit debt card xxxx xxxx xxxx account activity fraud account disputes disputes case charge xxxx xxxx xxxx xxxx xxxx charge account days chase disputes department thaxxxx xxxx xxxx xxxx account disputes escalation manager decision account customer chase years character disputes agents character account chase chase checking account chase checking account records closure chase disputes claim charge disputes cases past</td>\n",
       "      <td>purchase    amount transaction disputes case charge account credit charge charge credit debt card    account activity fraud account disputes disputes case charge      charge account days chase disputes department tha    account disputes escalation manager decision account customer chase years character disputes agents character account chase chase checking account chase checking account records closure chase disputes claim charge disputes cases past</td>\n",
       "      <td>0</td>\n",
       "    </tr>\n",
       "    <tr>\n",
       "      <th>50</th>\n",
       "      <td>i am a senior citizen that has been scammed by several companies from xxxx to xxxx i have paid over  to these time share companies and they have did nothing at all they were all misleading and i have tried to get a refund from them and my credit card i have been unsucceful i have all the information on every company that i have paid</td>\n",
       "      <td>senior citizen scammed several company xxxx xxxx paid time share company nothing misleading tried get refund credit card unsucceful information every company paid</td>\n",
       "      <td>citizen companies xxxx xxxx time share companies refund credit card information company</td>\n",
       "      <td>citizen companies   time share companies refund credit card information company</td>\n",
       "      <td>1</td>\n",
       "    </tr>\n",
       "    <tr>\n",
       "      <th>43</th>\n",
       "      <td>chase sent me an email today with the innocuous title  important information regarding changes to your chase account   \\n\\nin it they force me into binding arbitration  \\n\\nthey do include a method to opt out but have no additional information about the consequences  and even more egregiously despite chase simply sending an email doing this they require me to mail them a letter with my personal information enclosed in order to opt out \\n\\nthis is clearly less secure and a massive loss of both my time and money that is clearly being used solely to dissuade people from opting out \\n\\nthis is blatant malpractice by chase</td>\n",
       "      <td>chase sent email today innocuous title important information regarding change chase account force binding arbitration include method opt additional information consequence even egregiously despite chase simply sending email require mail letter personal information enclosed order opt clearly le secure massive loss time money clearly used solely dissuade people opting blatant malpractice chase</td>\n",
       "      <td>chase email today title information changes chase arbitration method information consequences chase email letter information order loss time money people malpractice chase</td>\n",
       "      <td>chase email today title information changes chase arbitration method information consequences chase email letter information order loss time money people malpractice chase</td>\n",
       "      <td>1</td>\n",
       "    </tr>\n",
       "    <tr>\n",
       "      <th>40</th>\n",
       "      <td>xxxx xxxx a sofa love seat table and chairs and was never delivered debit card charged  bank says visa denied claim we have no furniture and no money</td>\n",
       "      <td>xxxx xxxx sofa love seat table chair never delivered debit card charged bank say visa denied claim furniture money</td>\n",
       "      <td>xxxx xxxx sofa love seat table chairs debit card bank visa claim furniture money</td>\n",
       "      <td>sofa love seat table chairs debit card bank visa claim furniture money</td>\n",
       "      <td>1</td>\n",
       "    </tr>\n",
       "    <tr>\n",
       "      <th>21</th>\n",
       "      <td>on xxxx xxxx i made a  payment to an online retailer using chase quick pay with xxxx on the chase website i realized that this was a scam website after no confirmation product or response to any inquiries regarding the order and contacted chase to get more information about the transaction to attempt getting a refund through the retailers bank \\n\\ni contacted chase via a secured message on xxxx explaining what happened and asked  is there a way to reverse this transaction or do you have a contact at xxxx that can give me more information about the recipient  that xxxx my message was reviewed and i received a response restating my original email and informing me that  the transfer has been completed however as you mentioned that the website is a scam while we can handle most inquiries by email some require the expertise of another team in order to assist you better in regards to the refund we request you to call our consumer online technical support team  i called the number listed in the email and explained my situation to then be transferred to the claims department i was directed to call xxxx and ask them about the transaction because chase did not have any information outside of what i provided when initiating the transfer i felt like this agent was trying to get me to end the call as quickly as possible and i had to interrupt her closing script to ask for a contact number at xxxx and didnt have an opportunity to get any information about what the right questions would be to ask xxxx or what words and phrases i should use to get the information i was looking for \\n\\ni called xxxx whos automated system initially directed me to call my bank because i used the banks app to initiate the transaction i called xxxx again to navigate their menus and talk to a customer service agent they told me that all of the information about the transaction would in chase s system because i used the banks app to perform the transaction she stayed on the line with me until i understood everything that i should ask and had a better understanding of the situation i ended the call and called chase again \\n\\nwhen i called chase the second time the agent tried to look up the information about the receiving bank but could not find any additional information she then asked me why i needed this information and i explained my situation again i was once again transferred to the claims department who told me that i needed to contact xxxx to get the information i was looking for after i told her that i had already contacted them she finally admitted that there was nothing that she could do due to the nature of the transaction and that these types of transactions are not secured she said that chase had no information about the recipient other than the email address that i inputted and that the recipients banking information was not kept in the system in both phone calls they asked if i initiated that transaction and used that to absolve themselves of all responsibility in regards to this matter \\n\\nduring this whole process it felt like chase was not transparent about their policies regarding these types of transactions nor were they helpful in helping me get any information about the situation these transactions are advertised as a  fast safe and easy way to send money  but seem to be a dangerous way to do business i feel deceived by chase s advertising and further victimized by the way i was treated by the members on their customer service team</td>\n",
       "      <td>xxxx xxxx made payment online retailer using chase quick pay xxxx chase website realized scam website confirmation product response inquiry regarding order contacted chase get information transaction attempt getting refund retailer bank contacted chase via secured message xxxx explaining happened asked way reverse transaction contact xxxx give information recipient xxxx message reviewed received response restating original email informing transfer completed however mentioned website scam handle inquiry email require expertise another team order assist better regard refund request call consumer online technical support team called number listed email explained situation transferred claim department directed call xxxx ask transaction chase information outside provided initiating transfer felt like agent trying get end call quickly possible interrupt closing script ask contact number xxxx didnt opportunity get information right question would ask xxxx word phrase use get information looking called xxxx who automated system initially directed call bank used bank app initiate transaction called xxxx navigate menu talk customer service agent told information transaction would chase system used bank app perform transaction stayed line understood everything ask better understanding situation ended call called chase called chase second time agent tried look information receiving bank could find additional information asked needed information explained situation transferred claim department told needed contact xxxx get information looking told already contacted finally admitted nothing could due nature transaction type transaction secured said chase information recipient email address inputted recipient banking information kept system phone call asked initiated transaction used absolve responsibility regard matter whole process felt like chase transparent policy regarding type transaction helpful helping get information situation transaction advertised fast safe easy way send money seem dangerous way business feel deceived chase advertising victimized way treated member customer service team</td>\n",
       "      <td>xxxx xxxx payment retailer chase pay xxxx chase website scam website confirmation product response inquiries order chase information transaction refund retailers bank chase message way transaction contact xxxx information recipient message response email transfer website scam inquiries email expertise team order regards refund consumer support team number email situation claims department xxxx transaction information transfer agent call closing script contact number opportunity information questions xxxx words phrases information system bank banks transaction menus customer service agent information transaction system banks transaction line understanding situation call chase chase time agent information bank information information situation claims department xxxx information nature transaction types transactions chase information recipient email address recipients banking information system phone calls transaction responsibility regards matter process chase policies types transactions information situation transactions way money way business advertising way members customer service team</td>\n",
       "      <td>payment retailer chase pay  chase website scam website confirmation product response inquiries order chase information transaction refund retailers bank chase message way transaction contact  information recipient message response email transfer website scam inquiries email expertise team order regards refund consumer support team number email situation claims department  transaction information transfer agent call closing script contact number opportunity information questions  words phrases information system bank banks transaction menus customer service agent information transaction system banks transaction line understanding situation call chase chase time agent information bank information information situation claims department  information nature transaction types transactions chase information recipient email address recipients banking information system phone calls transaction responsibility regards matter process chase policies types transactions information situation transactions way money way business advertising way members customer service team</td>\n",
       "      <td>1</td>\n",
       "    </tr>\n",
       "    <tr>\n",
       "      <th>32</th>\n",
       "      <td>my chase amazon card was declined for a catering order i had placed for my brothers funeral in the amount of  i contacted chase around noon today xxxx and was asked the last  numbers of my chase savings account and the other user on my account i responded that i did not have a savings and i am only authorized user customer rep told me they would call me back in  minutes to keep the line open i didnt receive a call back after an hour so i contacted chase from the first call i thought someone was using my card fraudulently i spoke to the rep who transferred me to a supervisor xxxx who said the card was activated and the transaction would process called the catering company and card was declined i then used my xxxx  xxxx card to pay for the order xxxx xxxx texted me asking if i was authorizing purchase and i responded yes contacted caterer and xxxx  xxxx was declined i contacted chase again spoke to rep was told the initial questions are used to trick people to see what there answer would be she told me the cvv code was incorrectly being input by the caterer and i responded that i had gone over the numbers and cvv used was correct she told me the card was cleared for the purchase and she would monitor it for  hours called caterer  card declined use a mastercard  which processed went to use chase amazon at restaurant at xxxx pm tonight in the amount of   it was declined i was told by chase i was not over limit still frustrated figuring out multiple declines after several conversations with chase stating the card would be ok to use embarrassed as the caterer kept suggesting i was over my limit which i pay my card in full every month and chase confirmed that i was under my limit with the  transaction never been declined by either chase or xxxx  xxxx before  today after multiple assurances that i was all set and card would be monitored to make sure transaction would clear  it never did</td>\n",
       "      <td>chase amazon card declined catering order placed brother funeral amount contacted chase around noon today xxxx asked last number chase saving account user account responded saving authorized user customer rep told would call back minute keep line open didnt receive call back hour contacted chase first call thought someone using card fraudulently spoke rep transferred supervisor xxxx said card activated transaction would process called catering company card declined used xxxx xxxx card pay order xxxx xxxx texted asking authorizing purchase responded yes contacted caterer xxxx xxxx declined contacted chase spoke rep told initial question used trick people see answer would told cvv code incorrectly input caterer responded gone number cvv used correct told card cleared purchase would monitor hour called caterer card declined use mastercard processed went use chase amazon restaurant xxxx pm tonight amount declined told chase limit still frustrated figuring multiple decline several conversation chase stating card would ok use embarrassed caterer kept suggesting limit pay card full every month chase confirmed limit transaction never declined either chase xxxx xxxx today multiple assurance set card would monitored make sure transaction would clear never</td>\n",
       "      <td>chase card catering order brothers funeral amount chase noon today numbers chase savings account user account savings user customer minutes line call hour chase call card supervisor card transaction catering company card xxxx xxxx card order xxxx xxxx purchase caterer xxxx xxxx chase questions people answer code input caterer numbers card purchase hours caterer card mastercard chase amazon restaurant xxxx pm tonight amount chase limit declines conversations chase card caterer limit card month chase limit transaction chase xxxx xxxx today assurances card transaction</td>\n",
       "      <td>chase card catering order brothers funeral amount chase noon today numbers chase savings account user account savings user customer minutes line call hour chase call card supervisor card transaction catering company card   card order   purchase caterer   chase questions people answer code input caterer numbers card purchase hours caterer card mastercard chase amazon restaurant  pm tonight amount chase limit declines conversations chase card caterer limit card month chase limit transaction chase   today assurances card transaction</td>\n",
       "      <td>1</td>\n",
       "    </tr>\n",
       "    <tr>\n",
       "      <th>30</th>\n",
       "      <td>to whom it may concern chase bank charged wrongly overdraft fees i have alert of low balance or unsuficent fee balance and always deposit immediatly to cover transactions if needed but chase always changed the order and charged me overdraft fee anyway when you call they said their per their guidelines they dont refund more then  overdrawft doesnt matter bank fault or not\\n\\ntaken  from people is money just because you can is not ok\\n\\nsee attached documents when chase refund they always find the way to take back what they refunded in first place</td>\n",
       "      <td>may concern chase bank charged wrongly overdraft fee alert low balance unsuficent fee balance always deposit immediatly cover transaction needed chase always changed order charged overdraft fee anyway call said per guideline dont refund overdrawft doesnt matter bank fault taken people money ok see attached document chase refund always find way take back refunded first place</td>\n",
       "      <td>concern bank overdraft fees alert balance fee balance transactions chase order overdraft fee guidelines overdrawft bank fault people money documents chase way place</td>\n",
       "      <td>concern bank overdraft fees alert balance fee balance transactions chase order overdraft fee guidelines overdrawft bank fault people money documents chase way place</td>\n",
       "      <td>2</td>\n",
       "    </tr>\n",
       "    <tr>\n",
       "      <th>27</th>\n",
       "      <td>i opened an account with chase bank on xxxx and used a code for xxxx bonus i called to follow up on xxxxxxxx about the terms and was told everything was on the account and once i made xxxx direct deposit the bonus would be paid out in  days as of xxxx i had made the required deposits and was told my account never had the coupon code applied and it was past the  days to do so so no bonus would be paid</td>\n",
       "      <td>opened account chase bank xxxx used code xxxx bonus called follow xxxxxxxx term told everything account made xxxx direct deposit bonus would paid day xxxx made required deposit told account never coupon code applied past day bonus would paid</td>\n",
       "      <td>account code xxxx bonus xxxxxxxx terms account deposit bonus days xxxx deposits account coupon code days bonus</td>\n",
       "      <td>account code  bonus  terms account deposit bonus days  deposits account coupon code days bonus</td>\n",
       "      <td>2</td>\n",
       "    </tr>\n",
       "    <tr>\n",
       "      <th>24</th>\n",
       "      <td>mishandling of this account by chase auto and xxxx</td>\n",
       "      <td>mishandling account chase auto xxxx</td>\n",
       "      <td>account auto xxxx</td>\n",
       "      <td>account auto</td>\n",
       "      <td>2</td>\n",
       "    </tr>\n",
       "    <tr>\n",
       "      <th>17</th>\n",
       "      <td>with out notice jp morgan chase restricted my account by my debit card tuesday xxxx on thursday xxxx i went into a branch after being advised by a customer service representative that my account would actually be closed i went into the branch to see how i can remove the funds that are in there currently in as well as if my direct deposit from my place of employment would be returned the bank associate and the customer service representative assured me that the funds would post but they may take an additional business day that saturday i attempted to go inside of a branch yet again to retrieve my funds that actually did post on friday xxxx upon looking at my account i realize that the funds have been reversed and no longer were present on my current statement ive been called and i was told that it may take two business day stating tuesday xxxxxxxx would be the date that my funds would be available to withdraw from a bank teller only now chase is informing me that i will be mailed a check into the three business days to recover the funds that are owed to me and left in my account currently unfortunately this has put me in an additional financial bind do two fees from late rent late car payments etc i am not being a short or giving written notice that these things will actually occur so that i have peace of mind in fact chase has handled my situation grossly i even had a bank teller inform me that my account looks suspicious after giving me a suspicious look myself although i know that chase reserves the right to close my account at any time i do believe that their protocol has been in the past to give notice in the form of a written document i am not being a shored or giving written notice that these things will actually occur so that i have peace of mind in fact chase has handled my situation grossly i even had a bank teller inform me that my account looks suspicious after giving me a suspicious look myself although i know that chase reserves the right to close my account at any time i do believe that their protocol has been in the past to give notice in the form of a written document this situation is truly affecting my livelihood and they dont seem to want to deal with me professionally thank you</td>\n",
       "      <td>notice jp morgan chase restricted account debit card tuesday xxxx thursday xxxx went branch advised customer service representative account would actually closed went branch see remove fund currently well direct deposit place employment would returned bank associate customer service representative assured fund would post may take additional business day saturday attempted go inside branch yet retrieve fund actually post friday xxxx upon looking account realize fund reversed longer present current statement ive called told may take two business day stating tuesday xxxxxxxx would date fund would available withdraw bank teller chase informing mailed check three business day recover fund owed left account currently unfortunately put additional financial bind two fee late rent late car payment etc short giving written notice thing actually occur peace mind fact chase handled situation grossly even bank teller inform account look suspicious giving suspicious look although know chase reserve right close account time believe protocol past give notice form written document shored giving written notice thing actually occur peace mind fact chase handled situation grossly even bank teller inform account look suspicious giving suspicious look although know chase reserve right close account time believe protocol past give notice form written document situation truly affecting livelihood dont seem want deal professionally thank</td>\n",
       "      <td>notice account debit card branch customer service representative account branch funds deposit place employment bank associate customer service representative funds business day branch funds account funds statement business day date funds bank teller chase check business days funds account bind fees rent car payments notice things peace mind fact chase situation bank teller account look chase right account time protocol past notice form document notice things peace mind fact chase situation bank teller account look chase right account time protocol past notice form document situation livelihood</td>\n",
       "      <td>notice account debit card branch customer service representative account branch funds deposit place employment bank associate customer service representative funds business day branch funds account funds statement business day date funds bank teller chase check business days funds account bind fees rent car payments notice things peace mind fact chase situation bank teller account look chase right account time protocol past notice form document notice things peace mind fact chase situation bank teller account look chase right account time protocol past notice form document situation livelihood</td>\n",
       "      <td>2</td>\n",
       "    </tr>\n",
       "    <tr>\n",
       "      <th>14</th>\n",
       "      <td>my grand son give me check for  i deposit it into my chase account after fund clear my chase bank closed my account never paid me my money they said they need to speek with my grand son check was clear money was taking by my chase bank refuse to pay me my money my grand son called chase  times they told him i should call not him to verify the check owner he is out the country most the time  date happen xxxx check number xxxx claim number is xxxx with chase</td>\n",
       "      <td>grand son give check deposit chase account fund clear chase bank closed account never paid money said need speek grand son check clear money taking chase bank refuse pay money grand son called chase time told call verify check owner country time date happen xxxx check number xxxx claim number xxxx chase</td>\n",
       "      <td>son chase account fund chase bank account money son check money chase bank money son times check owner country time date xxxx number xxxx claim number xxxx chase</td>\n",
       "      <td>son chase account fund chase bank account money son check money chase bank money son times check owner country time date  number  claim number  chase</td>\n",
       "      <td>2</td>\n",
       "    </tr>\n",
       "    <tr>\n",
       "      <th>99</th>\n",
       "      <td>my name is xxxx xxxx i have missed a payment in xxxx and was  days past due but now current i applied numerous times for a loan modification to get loss mitigation assistance but did not get any help chase only gave me a loan forbearance option i am xxxx xxxx xxxx and have an issue with refinancing since my dti is too high because of excessive debt so i get declined every time and my credit score is too low at xxxx</td>\n",
       "      <td>name xxxx xxxx missed payment xxxx day past due current applied numerous time loan modification get loss mitigation assistance get help chase gave loan forbearance option xxxx xxxx xxxx issue refinancing since dti high excessive debt get declined every time credit score low xxxx</td>\n",
       "      <td>name xxxx xxxx payment days times loan modification loss mitigation assistance help chase loan forbearance option xxxx xxxx issue dti debt time credit score xxxx</td>\n",
       "      <td>name   payment days times loan modification loss mitigation assistance help chase loan forbearance option   issue dti debt time credit score</td>\n",
       "      <td>3</td>\n",
       "    </tr>\n",
       "    <tr>\n",
       "      <th>20</th>\n",
       "      <td>during the summer months i experience a decline income due to my employment therefore i request a one month payment extension with my auto loan company chase for the past almost fours years my request for payment extension is granted i have never been delinquent with my auto loan payment however on xxxx my request for a one month payment extension was denied this year i explained my situation to representative and the supervisor with no avail after a lengthy discussion and waiting i was informed the reason for the decline as it is not  contractual  this reason for denial baffled me and therefore i emailed the office of xxxx xxxx executive director communications jpmorgan chase  co a representative contacted me and stated chase will followup about week later a representative of xxxx xxxx xxxx xxxx office called the representative shared her role was help resolve the matter the representative via conference call contacted the department handing my request after reviewing my information my request was still denied based on  policy changes  i requested an explanation and representative stated a letter will be mailed with explanation i have received xxxx letters the reason for denial was not  policy changes  i would like cfpb help in exploring the denial of my payment extension request especially since i have been clear reason for denial</td>\n",
       "      <td>summer month experience decline income due employment therefore request one month payment extension auto loan company chase past almost four year request payment extension granted never delinquent auto loan payment however xxxx request one month payment extension denied year explained situation representative supervisor avail lengthy discussion waiting informed reason decline contractual reason denial baffled therefore emailed office xxxx xxxx executive director communication jpmorgan chase co representative contacted stated chase followup week later representative xxxx xxxx xxxx xxxx office called representative shared role help resolve matter representative via conference call contacted department handing request reviewing information request still denied based policy change requested explanation representative stated letter mailed explanation received xxxx letter reason denial policy change would like cfpb help exploring denial payment extension request especially since clear reason denial</td>\n",
       "      <td>summer months decline income employment month payment extension auto loan company chase past years request payment extension auto loan payment xxxx request month payment extension year situation supervisor avail discussion reason decline reason denial office executive director communications representative chase week representative xxxx xxxx office representative role help matter representative conference call department request information request policy changes explanation representative letter explanation xxxx letters reason denial policy changes cfpb help denial payment extension request reason denial</td>\n",
       "      <td>summer months decline income employment month payment extension auto loan company chase past years request payment extension auto loan payment  request month payment extension year situation supervisor avail discussion reason decline reason denial office executive director communications representative chase week representative   office representative role help matter representative conference call department request information request policy changes explanation representative letter explanation  letters reason denial policy changes cfpb help denial payment extension request reason denial</td>\n",
       "      <td>3</td>\n",
       "    </tr>\n",
       "    <tr>\n",
       "      <th>57</th>\n",
       "      <td>i have been trying to do a loan modification with chase and all they do is give me the runaround im  mo behind they dont let me make payments i have aens all doc in but always asking more</td>\n",
       "      <td>trying loan modification chase give runaround im mo behind dont let make payment aens doc always asking</td>\n",
       "      <td>loan modification chase runaround mo payments aens</td>\n",
       "      <td>loan modification chase runaround mo payments aens</td>\n",
       "      <td>3</td>\n",
       "    </tr>\n",
       "    <tr>\n",
       "      <th>58</th>\n",
       "      <td>i made a purchase of  on xxxxxxxx i made payments of  on xxxxxxxx and  on xxxxxxxx the minimum payment was  the closing date was xxxxxxxx  that statement  shows that i had an outstanding purchase balance of  on xxxxxxxx i have enclosed the previous months statement to show that there were no other purchases prior to the one on xxxxxxxx \\nhowever when i got the xxxx statement it shows that i still have a purchase balance of  i have a promotional balance  in xxxx of  in xxxx the promotional balance was   a difference of  \\n\\napparently the payment  i thought would be applied to the purchase  was applied to the promotional balance first it is my understanding that once the minimum payment has been met payments in excess of the minimum would be applied to the highest interest rate balance first this is not the first time that chase has skirted us financial law to turn a larger profit i need help in rectifying this problem because my logic fell on deaf ears at chase thank you in advance for your assistance \\n\\nrespectfully xxxx xxxx xxxx</td>\n",
       "      <td>made purchase xxxxxxxx made payment xxxxxxxx xxxxxxxx minimum payment closing date xxxxxxxx statement show outstanding purchase balance xxxxxxxx enclosed previous month statement show purchase prior one xxxxxxxx however got xxxx statement show still purchase balance promotional balance xxxx xxxx promotional balance difference apparently payment thought would applied purchase applied promotional balance first understanding minimum payment met payment excess minimum would applied highest interest rate balance first first time chase skirted u financial law turn larger profit need help rectifying problem logic fell deaf ear chase thank advance assistance respectfully xxxx xxxx xxxx</td>\n",
       "      <td>purchase xxxxxxxx payments xxxxxxxx xxxxxxxx payment closing date xxxxxxxx statement purchase balance xxxxxxxx months statement purchases one xxxx statement purchase balance balance xxxx balance difference payment purchase balance understanding payment payments excess minimum interest rate balance time chase law profit help problem logic ears chase advance assistance xxxx xxxx xxxx</td>\n",
       "      <td>purchase  payments   payment closing date  statement purchase balance  months statement purchases one  statement purchase balance balance  balance difference payment purchase balance understanding payment payments excess minimum interest rate balance time chase law profit help problem logic ears chase advance assistance</td>\n",
       "      <td>3</td>\n",
       "    </tr>\n",
       "    <tr>\n",
       "      <th>127</th>\n",
       "      <td>i am xxxx military member  with the xxxx chase auto finance is refusing to pay on the gap insurancewaiver coverage that i purchased at the time i signed the financing agreement while stationed at xxxx i purchased a xxxx cadillac ats premium and financed the vehicle with chase auto finance when i purchased the vehicle the original financing agreement included an option to purchase gap insurance for an additional  the provider of the gap insurance was  xxxx xxxx  however i was also required to sign a gap waiver addendum which stated that what was purchased was not insurance but an agreement for chase auto finance to waive any deficiency in the event the vehicle was totaled chase auto finance agreed in writing for me to ship my vehicle to xxxx when i received military orders reassigning me to xxxx the letter explicitly authorized me to drive the vehicle here in xxxx while i am stationed overseas the vehicle was totaled in an accident now chase is refusing to honor the gap insurancewaiver provisions because the loss occurred outside of the united states or xxxx they are also refusing to release the lien on the vehicle so that the salvage value can be recovered and sent to the bank i simply want chase bank to honor its commitment to cover the deficiency between the insurance payout and the remaining balance on the loan</td>\n",
       "      <td>xxxx military member xxxx chase auto finance refusing pay gap insurancewaiver coverage purchased time signed financing agreement stationed xxxx purchased xxxx cadillac at premium financed vehicle chase auto finance purchased vehicle original financing agreement included option purchase gap insurance additional provider gap insurance xxxx xxxx however also required sign gap waiver addendum stated purchased insurance agreement chase auto finance waive deficiency event vehicle totaled chase auto finance agreed writing ship vehicle xxxx received military order reassigning xxxx letter explicitly authorized drive vehicle xxxx stationed overseas vehicle totaled accident chase refusing honor gap insurancewaiver provision loss occurred outside united state xxxx also refusing release lien vehicle salvage value recovered sent bank simply want chase bank honor commitment cover deficiency insurance payout remaining balance loan</td>\n",
       "      <td>military member chase auto finance gap insurancewaiver coverage time financing agreement xxxx premium vehicle auto finance vehicle financing agreement option gap insurance provider gap insurance xxxx xxxx gap waiver addendum insurance agreement auto finance deficiency event vehicle chase auto finance vehicle orders letter vehicle xxxx vehicle accident gap insurancewaiver provisions loss xxxx lien vehicle salvage value bank commitment deficiency insurance payout balance loan</td>\n",
       "      <td>military member chase auto finance gap insurancewaiver coverage time financing agreement  premium vehicle auto finance vehicle financing agreement option gap insurance provider gap insurance   gap waiver addendum insurance agreement auto finance deficiency event vehicle chase auto finance vehicle orders letter vehicle  vehicle accident gap insurancewaiver provisions loss  lien vehicle salvage value bank commitment deficiency insurance payout balance loan</td>\n",
       "      <td>3</td>\n",
       "    </tr>\n",
       "    <tr>\n",
       "      <th>23</th>\n",
       "      <td>i have a chase credit card which is incorrectly reporting data on my credit report the company is not helping resolve the issue</td>\n",
       "      <td>chase credit card incorrectly reporting data credit report company helping resolve issue</td>\n",
       "      <td>credit card data credit report company issue</td>\n",
       "      <td>credit card data credit report company issue</td>\n",
       "      <td>4</td>\n",
       "    </tr>\n",
       "    <tr>\n",
       "      <th>15</th>\n",
       "      <td>can you please remove inquiry</td>\n",
       "      <td>please remove inquiry</td>\n",
       "      <td>inquiry</td>\n",
       "      <td>inquiry</td>\n",
       "      <td>4</td>\n",
       "    </tr>\n",
       "    <tr>\n",
       "      <th>11</th>\n",
       "      <td>on xxxx while trying to book a xxxx  xxxx  ticket i came across an offer for  to be applied towards the ticket if i applied for a rewards card i put in my information for the offer and within less than a minute was notified via the screen that a decision could not be made i immediately contacted xxxx and was referred to chase bank i then immediately contacted chase bank within no more than minutes of getting the notification on the screen and i was told by the chase representative i spoke with that my application was denied but she could not state why i asked for more information about the xxxx  offer and she explained that even if i had been approved the credit offer only gets applied after the first account statement and could not be used to purchase the ticket i then explicitly told her i was glad i got denied and i was absolutely no longer interested in the account i asked that the application be withdrawn and the representative obliged this all happened no later than mins after putting in the application on xxxx notwithstanding my explicit request not to proceed with the application and contrary to what i was told by the chase representative chase did in fact go ahead to open a credit account in my name on xxxx this is now being reported in my credit report and chase has refused to correct this information on my credit report even though they went ahead to process an application which i did not consent to and out of their error</td>\n",
       "      <td>xxxx trying book xxxx xxxx ticket came across offer applied towards ticket applied reward card put information offer within le minute notified via screen decision could made immediately contacted xxxx referred chase bank immediately contacted chase bank within minute getting notification screen told chase representative spoke application denied could state asked information xxxx offer explained even approved credit offer get applied first account statement could used purchase ticket explicitly told glad got denied absolutely longer interested account asked application withdrawn representative obliged happened later min putting application xxxx notwithstanding explicit request proceed application contrary told chase representative chase fact go ahead open credit account name xxxx reported credit report chase refused correct information credit report even though went ahead process application consent error</td>\n",
       "      <td>xxxx xxxx xxxx ticket offer ticket rewards card information offer minute screen decision chase bank minutes notification screen representative application information offer credit offer account statement ticket account application representative mins application xxxx request application representative chase fact credit account name xxxx credit report chase information credit report application error</td>\n",
       "      <td>ticket offer ticket rewards card information offer minute screen decision chase bank minutes notification screen representative application information offer credit offer account statement ticket account application representative mins application  request application representative chase fact credit account name  credit report chase information credit report application error</td>\n",
       "      <td>4</td>\n",
       "    </tr>\n",
       "    <tr>\n",
       "      <th>10</th>\n",
       "      <td>chase card was reported on xxxx however fraudulent application have been submitted my identity without my consent to fraudulently obtain services do not extend credit without verifying the identity of the applicant</td>\n",
       "      <td>chase card reported xxxx however fraudulent application submitted identity without consent fraudulently obtain service extend credit without verifying identity applicant</td>\n",
       "      <td>application identity consent services credit identity applicant</td>\n",
       "      <td>application identity consent services credit identity applicant</td>\n",
       "      <td>4</td>\n",
       "    </tr>\n",
       "    <tr>\n",
       "      <th>26</th>\n",
       "      <td>i have reached out to xxxx several times in attempt to have this fraudulent inquiry removed i was told that i need to call and contact the original creditor that placed this inquiry on my report i have made several attempts to get chase bank to contact the bureau and remove this inquiry that was not authorized by me they seem to not be able to get me to the right person to take care of this issue no matter how many attempts i have made nobody seems to understand what im talkin about i want chase bank to have this fraudulent inquiry removed from my credit report before i take legal action i i have never requested any kind of credit with chase bank or hold any account with them i have an iquiry from xxxx i want this matter resolved</td>\n",
       "      <td>reached xxxx several time attempt fraudulent inquiry removed told need call contact original creditor placed inquiry report made several attempt get chase bank contact bureau remove inquiry authorized seem able get right person take care issue matter many attempt made nobody seems understand im talkin want chase bank fraudulent inquiry removed credit report take legal action never requested kind credit chase bank hold account iquiry xxxx want matter resolved</td>\n",
       "      <td>xxxx times attempt inquiry creditor inquiry report attempts bank bureau inquiry person care issue attempts talkin inquiry credit report action kind credit account iquiry xxxx matter</td>\n",
       "      <td>times attempt inquiry creditor inquiry report attempts bank bureau inquiry person care issue attempts talkin inquiry credit report action kind credit account iquiry  matter</td>\n",
       "      <td>4</td>\n",
       "    </tr>\n",
       "  </tbody>\n",
       "</table>\n",
       "</div>"
      ],
      "text/plain": [
       "                                                                                                                                                                                                                                                                                                                                                                                                                                                                                                                                                                                                                                                                                                                                                                                                                                                                                                                                                                                                                                                                                                                                                                                                                                                                                                                                                                                                                                                                                                                                                                                                                                                                                                                                                                                                                                                                                                                                                                                                                                                                                                                                                                                                                                                                                                                                                                                                                                                                                                                                                                                                                                                                                                                                                                                                                                                                                                                                                                                                                                                                                                                                                                                                                                                                                                                                                                                                                                                                                                                                                                                                                complaints  \\\n",
       "1                                                                                                                                                                                                                                                                                                                                                                                                                                                                                                                                                                                                                                                                                                                                                                                                                                                                                                                                                                                                                                                                                                                                                                                                                                                                                                                                                                                                                                                                                                                                                                                                                                                                                                                                                                                                                                                                                                                                                                                                                                                                                                                                                                                                                                                                                                                                                                                                                                                                                                                                                                                                                                                                                                                                                                                                                                                                                                                                                                                                                                                                                                                          good morning my name is xxxx xxxx and i appreciate it if you could help me put a stop to chase bank cardmember services \\nin  i wrote to chase asking for debt verification and what they sent me a statement which is not acceptable i am asking the bank to validate the debt instead i been receiving mail every month from them attempting to collect a debt \\ni have a right to know this information as a consumer \\n\\nchase account  xxxx xxxx xxxx xxxx thanks in advance for your help   \n",
       "2                                                                                                                                                                                                                                                                                                                                                                                                                                                                                                                                                                                                                                                                                                                                                                                                                                                                                                                                                                                                                                                                                                                                                                                                                                                                                                                                                                                                                                                                                                                                                                                                                                                                                                                                                                                                                                                                                                                                                                                                                                                                                                                                                                                                                                                                                                                                                                                                                                                                                                                                                                                                                                                                                                                                                                                                                                                                                                                                                                                                                                                                                                                                                                                                                                                                    i upgraded my xxxx xxxx card in xxxx and was told by the agent who did the upgrade my anniversary date would not change it turned the agent was giving me the wrong information in order to upgrade the account xxxx   changed my anniversary date from xxxxxxxx to xxxxxxxx without my consent xxxx has the recording of the agent who was misled me   \n",
       "73                                                                                                                                                                                                                                                                                                                                                                                                                                                                                                                                                                                                                                                                                                                                                                                                                                                                                                                                                                                                                                                                                                                                                                                                                                                                                                                                                                                                                                                                                                                                                                                                                                                                                                                                                                                                                                                                                                                                                                                                                                                                                                                                                                                                                                                                                                                                                                                                                                                                                                  i have wired through one of chase branches in xxxx xxxx the exact reinstatement amount of  to jpmorgan chase bank in order to removewithdraw their wrongful foreclosure proceedings on my residential property\\n\\nhowever the chase executive ms xxxx xxxx and its trustee xxxx xxxx xxxx xxxx are not honoring even their own rules and regulations she wants the total payoff of  now in order to remove their wrongful foreclosure proceedings with sales date of xxxx at xxxx xxxx on my family resident\\n\\nshe knows i can not prepare xxxx in such a short time thats why i asked for minimum reinstatement amount to avoid foreclosure without resorting to chapter xxxx bankruptcy filing\\n\\ni appreciate you assistant in bringing jpmorgan chase and its foreclosure trustee xxxx xxxx xxxx xxxx  quality  to their senses and stop harassing my family with their fraudulent default claim as explained in my previous complaint about them on xxxxxxxx\\n\\nmy previous complaint id is xxxx submitted xxxx product  mortgage issue wrongful foreclosure\\n\\nthank you xxxx xxxx tell   xxxx email  xxxx xxxx   \n",
       "48                                                                                                                                                                                                                                                                                                                                                                                                                                                                                                                                                                                                                                                                                                                                                                                                                                                                                                                                                                                                                                                                                                                                                                                                                                                                                                                                                                                                                                                                                                                                                                                                                                                                                                                                                                                                                                                                                                                                                                                                                                                                                                                                                                                                                                                                                                                                                                                           jp morgan chase bank please answer the following questions    on xxxxxxxx xxxxxxxxxxxxxxxx xxxxxxxx  xxxxxxxx jpmorgan chase accessed information about me through xxxx xxxx xxxx  xxxx \\nwhat was the valid reason for accessing my personal information through xxxx xxxx xxxx  xxxx \\n\\n  the chase checking account that was closed recently during xxxxxxxx had a routing or xxxx number of xxxx according to checks and statements provided to me by chase \\nxxxx xxxx xxxx showed chase reporting an xxxx routing number of xxxx before and after i had disputed the xxxx number with chase \\nwhy do these two routing numbers not match \\n\\n  xxxxxxxx i received a response from xxxx xxxx xxxx xxxx to a dispute about information chase was providing on my report dispute case id xxxx the information chase had been submitting was deleted due to disputed info being incomplete inaccurate or unverifiable \\nis this true \\n\\nonce again i have asked    questions \\n\\ni will send the cfpb copies of the information i have pertaining to the  questions in this complaint via us mail which are the xxxx xxxx xxxx xxxx reports ive received \\n\\nthank you for your attention and humbly await your response   \n",
       "45                                                                                                                                                                                                                                                                                                                                                                                                                                                                                                                                                                                                                                                                                                                                                                                                                                                                                                                                                                                                                                                                                                                                                                                                                                                                                                                                                                                                                                                                                                                                                                                                                                                                                         i made a purchase with xxxx xxxx xxxx on xxxx in the amount of  i was charged twice for this transaction i placed a disputes case with chase bank on xxxx when i noticed the charge on my account i called back on sunday xxxx about the provisional credit for the charge and again on monday xxxx i was told the charge had to post before a provisional credit could be provided i used my debt card on monday xxxx then tried to use it again but it would not work i went to chase bank on xxxx xxxx xxxx in xxxx xxxx nevada and was told that my account was closed due to fraudulent activity i was shocked because i had not reported fraud on my account i later found out that i was being accused by the disputes department of placing a fraudulent disputes case for the duplicate charge from xxxx xxxx  xxxx i later contacted xxxx xxxx  xxxx again and was told that they did see a duplicate charge and would credit my account within     days i contacted the chase disputes department again on monday xxxxxxxx  and explained thaxxxx xxxx xxxx xxxx would credit my account and that i did not like being accused of making a fraudulent disputes claim the escalation manager did not care and told me that chase decision on closing my account was final i had been a customer of chase for xxxx   years my character has been challenged by the disputes agents and i consider this to be detrimental to my character and slander \\n\\ni am not seeking to keep my account open with chase but i also do not want chase reporting that they closed my checking account involuntarily \\n\\nonce again i do not want chase to have the checking account that i had with them being reflecting on any public records as being closed as involuntary closure by chase \\n\\ni did nothing wrong by filing a disputes claim for the duplicate charge or any other disputes cases that were filed in the past   \n",
       "50                                                                                                                                                                                                                                                                                                                                                                                                                                                                                                                                                                                                                                                                                                                                                                                                                                                                                                                                                                                                                                                                                                                                                                                                                                                                                                                                                                                                                                                                                                                                                                                                                                                                                                                                                                                                                                                                                                                                                                                                                                                                                                                                                                                                                                                                                                                                                                                                                                                                                                                                                                                                                                                                                                                                                                                                                                                                                                                                                                                                                                                                                                                                                                                                                                                                          i am a senior citizen that has been scammed by several companies from xxxx to xxxx i have paid over  to these time share companies and they have did nothing at all they were all misleading and i have tried to get a refund from them and my credit card i have been unsucceful i have all the information on every company that i have paid   \n",
       "43                                                                                                                                                                                                                                                                                                                                                                                                                                                                                                                                                                                                                                                                                                                                                                                                                                                                                                                                                                                                                                                                                                                                                                                                                                                                                                                                                                                                                                                                                                                                                                                                                                                                                                                                                                                                                                                                                                                                                                                                                                                                                                                                                                                                                                                                                                                                                                                                                                                                                                                                                                                                                                                                                                                                                                                                                                                                                                                                                                       chase sent me an email today with the innocuous title  important information regarding changes to your chase account   \\n\\nin it they force me into binding arbitration  \\n\\nthey do include a method to opt out but have no additional information about the consequences  and even more egregiously despite chase simply sending an email doing this they require me to mail them a letter with my personal information enclosed in order to opt out \\n\\nthis is clearly less secure and a massive loss of both my time and money that is clearly being used solely to dissuade people from opting out \\n\\nthis is blatant malpractice by chase   \n",
       "40                                                                                                                                                                                                                                                                                                                                                                                                                                                                                                                                                                                                                                                                                                                                                                                                                                                                                                                                                                                                                                                                                                                                                                                                                                                                                                                                                                                                                                                                                                                                                                                                                                                                                                                                                                                                                                                                                                                                                                                                                                                                                                                                                                                                                                                                                                                                                                                                                                                                                                                                                                                                                                                                                                                                                                                                                                                                                                                                                                                                                                                                                                                                                                                                                                                                                                                                                                                                                                                                   xxxx xxxx a sofa love seat table and chairs and was never delivered debit card charged  bank says visa denied claim we have no furniture and no money   \n",
       "21   on xxxx xxxx i made a  payment to an online retailer using chase quick pay with xxxx on the chase website i realized that this was a scam website after no confirmation product or response to any inquiries regarding the order and contacted chase to get more information about the transaction to attempt getting a refund through the retailers bank \\n\\ni contacted chase via a secured message on xxxx explaining what happened and asked  is there a way to reverse this transaction or do you have a contact at xxxx that can give me more information about the recipient  that xxxx my message was reviewed and i received a response restating my original email and informing me that  the transfer has been completed however as you mentioned that the website is a scam while we can handle most inquiries by email some require the expertise of another team in order to assist you better in regards to the refund we request you to call our consumer online technical support team  i called the number listed in the email and explained my situation to then be transferred to the claims department i was directed to call xxxx and ask them about the transaction because chase did not have any information outside of what i provided when initiating the transfer i felt like this agent was trying to get me to end the call as quickly as possible and i had to interrupt her closing script to ask for a contact number at xxxx and didnt have an opportunity to get any information about what the right questions would be to ask xxxx or what words and phrases i should use to get the information i was looking for \\n\\ni called xxxx whos automated system initially directed me to call my bank because i used the banks app to initiate the transaction i called xxxx again to navigate their menus and talk to a customer service agent they told me that all of the information about the transaction would in chase s system because i used the banks app to perform the transaction she stayed on the line with me until i understood everything that i should ask and had a better understanding of the situation i ended the call and called chase again \\n\\nwhen i called chase the second time the agent tried to look up the information about the receiving bank but could not find any additional information she then asked me why i needed this information and i explained my situation again i was once again transferred to the claims department who told me that i needed to contact xxxx to get the information i was looking for after i told her that i had already contacted them she finally admitted that there was nothing that she could do due to the nature of the transaction and that these types of transactions are not secured she said that chase had no information about the recipient other than the email address that i inputted and that the recipients banking information was not kept in the system in both phone calls they asked if i initiated that transaction and used that to absolve themselves of all responsibility in regards to this matter \\n\\nduring this whole process it felt like chase was not transparent about their policies regarding these types of transactions nor were they helpful in helping me get any information about the situation these transactions are advertised as a  fast safe and easy way to send money  but seem to be a dangerous way to do business i feel deceived by chase s advertising and further victimized by the way i was treated by the members on their customer service team   \n",
       "32                                                                                                                                                                                                                                                                                                                                                                                                                                                                                                                                                                                                                                                                                                                                                                                                                                                                                                                                                                                                                                                                                                                                                                                                                                                                                                                                                                                                                                                                                                                                                                                                                                 my chase amazon card was declined for a catering order i had placed for my brothers funeral in the amount of  i contacted chase around noon today xxxx and was asked the last  numbers of my chase savings account and the other user on my account i responded that i did not have a savings and i am only authorized user customer rep told me they would call me back in  minutes to keep the line open i didnt receive a call back after an hour so i contacted chase from the first call i thought someone was using my card fraudulently i spoke to the rep who transferred me to a supervisor xxxx who said the card was activated and the transaction would process called the catering company and card was declined i then used my xxxx  xxxx card to pay for the order xxxx xxxx texted me asking if i was authorizing purchase and i responded yes contacted caterer and xxxx  xxxx was declined i contacted chase again spoke to rep was told the initial questions are used to trick people to see what there answer would be she told me the cvv code was incorrectly being input by the caterer and i responded that i had gone over the numbers and cvv used was correct she told me the card was cleared for the purchase and she would monitor it for  hours called caterer  card declined use a mastercard  which processed went to use chase amazon at restaurant at xxxx pm tonight in the amount of   it was declined i was told by chase i was not over limit still frustrated figuring out multiple declines after several conversations with chase stating the card would be ok to use embarrassed as the caterer kept suggesting i was over my limit which i pay my card in full every month and chase confirmed that i was under my limit with the  transaction never been declined by either chase or xxxx  xxxx before  today after multiple assurances that i was all set and card would be monitored to make sure transaction would clear  it never did   \n",
       "30                                                                                                                                                                                                                                                                                                                                                                                                                                                                                                                                                                                                                                                                                                                                                                                                                                                                                                                                                                                                                                                                                                                                                                                                                                                                                                                                                                                                                                                                                                                                                                                                                                                                                                                                                                                                                                                                                                                                                                                                                                                                                                                                                                                                                                                                                                                                                                                                                                                                                                                                                                                                                                                                                                                                                                                                                                                                                                                                                                                                                                                 to whom it may concern chase bank charged wrongly overdraft fees i have alert of low balance or unsuficent fee balance and always deposit immediatly to cover transactions if needed but chase always changed the order and charged me overdraft fee anyway when you call they said their per their guidelines they dont refund more then  overdrawft doesnt matter bank fault or not\\n\\ntaken  from people is money just because you can is not ok\\n\\nsee attached documents when chase refund they always find the way to take back what they refunded in first place   \n",
       "27                                                                                                                                                                                                                                                                                                                                                                                                                                                                                                                                                                                                                                                                                                                                                                                                                                                                                                                                                                                                                                                                                                                                                                                                                                                                                                                                                                                                                                                                                                                                                                                                                                                                                                                                                                                                                                                                                                                                                                                                                                                                                                                                                                                                                                                                                                                                                                                                                                                                                                                                                                                                                                                                                                                                                                                                                                                                                                                                                                                                                                                                                                                                                                                                     i opened an account with chase bank on xxxx and used a code for xxxx bonus i called to follow up on xxxxxxxx about the terms and was told everything was on the account and once i made xxxx direct deposit the bonus would be paid out in  days as of xxxx i had made the required deposits and was told my account never had the coupon code applied and it was past the  days to do so so no bonus would be paid   \n",
       "24                                                                                                                                                                                                                                                                                                                                                                                                                                                                                                                                                                                                                                                                                                                                                                                                                                                                                                                                                                                                                                                                                                                                                                                                                                                                                                                                                                                                                                                                                                                                                                                                                                                                                                                                                                                                                                                                                                                                                                                                                                                                                                                                                                                                                                                                                                                                                                                                                                                                                                                                                                                                                                                                                                                                                                                                                                                                                                                                                                                                                                                                                                                                                                                                                                                                                                                                                                                                                                                                                                                                                                      mishandling of this account by chase auto and xxxx   \n",
       "17                                                                                                                                                                                                                                                                                                                                                                                                                                                                                                                                                                                                                                                                                                                                                                                                                                                                                                                                                                                                                                                                                                                                                                                                                                                                                            with out notice jp morgan chase restricted my account by my debit card tuesday xxxx on thursday xxxx i went into a branch after being advised by a customer service representative that my account would actually be closed i went into the branch to see how i can remove the funds that are in there currently in as well as if my direct deposit from my place of employment would be returned the bank associate and the customer service representative assured me that the funds would post but they may take an additional business day that saturday i attempted to go inside of a branch yet again to retrieve my funds that actually did post on friday xxxx upon looking at my account i realize that the funds have been reversed and no longer were present on my current statement ive been called and i was told that it may take two business day stating tuesday xxxxxxxx would be the date that my funds would be available to withdraw from a bank teller only now chase is informing me that i will be mailed a check into the three business days to recover the funds that are owed to me and left in my account currently unfortunately this has put me in an additional financial bind do two fees from late rent late car payments etc i am not being a short or giving written notice that these things will actually occur so that i have peace of mind in fact chase has handled my situation grossly i even had a bank teller inform me that my account looks suspicious after giving me a suspicious look myself although i know that chase reserves the right to close my account at any time i do believe that their protocol has been in the past to give notice in the form of a written document i am not being a shored or giving written notice that these things will actually occur so that i have peace of mind in fact chase has handled my situation grossly i even had a bank teller inform me that my account looks suspicious after giving me a suspicious look myself although i know that chase reserves the right to close my account at any time i do believe that their protocol has been in the past to give notice in the form of a written document this situation is truly affecting my livelihood and they dont seem to want to deal with me professionally thank you   \n",
       "14                                                                                                                                                                                                                                                                                                                                                                                                                                                                                                                                                                                                                                                                                                                                                                                                                                                                                                                                                                                                                                                                                                                                                                                                                                                                                                                                                                                                                                                                                                                                                                                                                                                                                                                                                                                                                                                                                                                                                                                                                                                                                                                                                                                                                                                                                                                                                                                                                                                                                                                                                                                                                                                                                                                                                                                                                                                                                                                                                                                                                                                                                                                                            my grand son give me check for  i deposit it into my chase account after fund clear my chase bank closed my account never paid me my money they said they need to speek with my grand son check was clear money was taking by my chase bank refuse to pay me my money my grand son called chase  times they told him i should call not him to verify the check owner he is out the country most the time  date happen xxxx check number xxxx claim number is xxxx with chase   \n",
       "99                                                                                                                                                                                                                                                                                                                                                                                                                                                                                                                                                                                                                                                                                                                                                                                                                                                                                                                                                                                                                                                                                                                                                                                                                                                                                                                                                                                                                                                                                                                                                                                                                                                                                                                                                                                                                                                                                                                                                                                                                                                                                                                                                                                                                                                                                                                                                                                                                                                                                                                                                                                                                                                                                                                                                                                                                                                                                                                                                                                                                                                                                                                                                                                      my name is xxxx xxxx i have missed a payment in xxxx and was  days past due but now current i applied numerous times for a loan modification to get loss mitigation assistance but did not get any help chase only gave me a loan forbearance option i am xxxx xxxx xxxx and have an issue with refinancing since my dti is too high because of excessive debt so i get declined every time and my credit score is too low at xxxx   \n",
       "20                                                                                                                                                                                                                                                                                                                                                                                                                                                                                                                                                                                                                                                                                                                                                                                                                                                                                                                                                                                                                                                                                                                                                                                                                                                                                                                                                                                                                                                                                                                                                                                                                                                                                                                                                                                                                                                                                                                                                                                                                                                                                                                                                                                                              during the summer months i experience a decline income due to my employment therefore i request a one month payment extension with my auto loan company chase for the past almost fours years my request for payment extension is granted i have never been delinquent with my auto loan payment however on xxxx my request for a one month payment extension was denied this year i explained my situation to representative and the supervisor with no avail after a lengthy discussion and waiting i was informed the reason for the decline as it is not  contractual  this reason for denial baffled me and therefore i emailed the office of xxxx xxxx executive director communications jpmorgan chase  co a representative contacted me and stated chase will followup about week later a representative of xxxx xxxx xxxx xxxx office called the representative shared her role was help resolve the matter the representative via conference call contacted the department handing my request after reviewing my information my request was still denied based on  policy changes  i requested an explanation and representative stated a letter will be mailed with explanation i have received xxxx letters the reason for denial was not  policy changes  i would like cfpb help in exploring the denial of my payment extension request especially since i have been clear reason for denial   \n",
       "57                                                                                                                                                                                                                                                                                                                                                                                                                                                                                                                                                                                                                                                                                                                                                                                                                                                                                                                                                                                                                                                                                                                                                                                                                                                                                                                                                                                                                                                                                                                                                                                                                                                                                                                                                                                                                                                                                                                                                                                                                                                                                                                                                                                                                                                                                                                                                                                                                                                                                                                                                                                                                                                                                                                                                                                                                                                                                                                                                                                                                                                                                                                                                                                                                                                                                                                                                                                                                             i have been trying to do a loan modification with chase and all they do is give me the runaround im  mo behind they dont let me make payments i have aens all doc in but always asking more   \n",
       "58                                                                                                                                                                                                                                                                                                                                                                                                                                                                                                                                                                                                                                                                                                                                                                                                                                                                                                                                                                                                                                                                                                                                                                                                                                                                                                                                                                                                                                                                                                                                                                                                                                                                                                                                                                                                                                                                                                                                                                                                                                                                                                                                                                                                                                                                                                                                                                                                                                                                                                                                i made a purchase of  on xxxxxxxx i made payments of  on xxxxxxxx and  on xxxxxxxx the minimum payment was  the closing date was xxxxxxxx  that statement  shows that i had an outstanding purchase balance of  on xxxxxxxx i have enclosed the previous months statement to show that there were no other purchases prior to the one on xxxxxxxx \\nhowever when i got the xxxx statement it shows that i still have a purchase balance of  i have a promotional balance  in xxxx of  in xxxx the promotional balance was   a difference of  \\n\\napparently the payment  i thought would be applied to the purchase  was applied to the promotional balance first it is my understanding that once the minimum payment has been met payments in excess of the minimum would be applied to the highest interest rate balance first this is not the first time that chase has skirted us financial law to turn a larger profit i need help in rectifying this problem because my logic fell on deaf ears at chase thank you in advance for your assistance \\n\\nrespectfully xxxx xxxx xxxx   \n",
       "127                                                                                                                                                                                                                                                                                                                                                                                                                                                                                                                                                                                                                                                                                                                                                                                                                                                                                                                                                                                                                                                                                                                                                                                                                                                                                                                                                                                                                                                                                                                                                                                                                                                                                                                                                                                                                                                                                                                                                                                                                                                                                                                                                                                                                               i am xxxx military member  with the xxxx chase auto finance is refusing to pay on the gap insurancewaiver coverage that i purchased at the time i signed the financing agreement while stationed at xxxx i purchased a xxxx cadillac ats premium and financed the vehicle with chase auto finance when i purchased the vehicle the original financing agreement included an option to purchase gap insurance for an additional  the provider of the gap insurance was  xxxx xxxx  however i was also required to sign a gap waiver addendum which stated that what was purchased was not insurance but an agreement for chase auto finance to waive any deficiency in the event the vehicle was totaled chase auto finance agreed in writing for me to ship my vehicle to xxxx when i received military orders reassigning me to xxxx the letter explicitly authorized me to drive the vehicle here in xxxx while i am stationed overseas the vehicle was totaled in an accident now chase is refusing to honor the gap insurancewaiver provisions because the loss occurred outside of the united states or xxxx they are also refusing to release the lien on the vehicle so that the salvage value can be recovered and sent to the bank i simply want chase bank to honor its commitment to cover the deficiency between the insurance payout and the remaining balance on the loan    \n",
       "23                                                                                                                                                                                                                                                                                                                                                                                                                                                                                                                                                                                                                                                                                                                                                                                                                                                                                                                                                                                                                                                                                                                                                                                                                                                                                                                                                                                                                                                                                                                                                                                                                                                                                                                                                                                                                                                                                                                                                                                                                                                                                                                                                                                                                                                                                                                                                                                                                                                                                                                                                                                                                                                                                                                                                                                                                                                                                                                                                                                                                                                                                                                                                                                                                                                                                                                                                                                                                                                                                         i have a chase credit card which is incorrectly reporting data on my credit report the company is not helping resolve the issue   \n",
       "15                                                                                                                                                                                                                                                                                                                                                                                                                                                                                                                                                                                                                                                                                                                                                                                                                                                                                                                                                                                                                                                                                                                                                                                                                                                                                                                                                                                                                                                                                                                                                                                                                                                                                                                                                                                                                                                                                                                                                                                                                                                                                                                                                                                                                                                                                                                                                                                                                                                                                                                                                                                                                                                                                                                                                                                                                                                                                                                                                                                                                                                                                                                                                                                                                                                                                                                                                                                                                                                                                                                                                                                           can you please remove inquiry   \n",
       "11                                                                                                                                                                                                                                                                                                                                                                                                                                                                                                                                                                                                                                                                                                                                                                                                                                                                                                                                                                                                                                                                                                                                                                                                                                                                                                                                                                                                                                                                                                                                                                                                                                                                                                                                                                                                                                                                                                                                                                                                                                                                                                        on xxxx while trying to book a xxxx  xxxx  ticket i came across an offer for  to be applied towards the ticket if i applied for a rewards card i put in my information for the offer and within less than a minute was notified via the screen that a decision could not be made i immediately contacted xxxx and was referred to chase bank i then immediately contacted chase bank within no more than minutes of getting the notification on the screen and i was told by the chase representative i spoke with that my application was denied but she could not state why i asked for more information about the xxxx  offer and she explained that even if i had been approved the credit offer only gets applied after the first account statement and could not be used to purchase the ticket i then explicitly told her i was glad i got denied and i was absolutely no longer interested in the account i asked that the application be withdrawn and the representative obliged this all happened no later than mins after putting in the application on xxxx notwithstanding my explicit request not to proceed with the application and contrary to what i was told by the chase representative chase did in fact go ahead to open a credit account in my name on xxxx this is now being reported in my credit report and chase has refused to correct this information on my credit report even though they went ahead to process an application which i did not consent to and out of their error   \n",
       "10                                                                                                                                                                                                                                                                                                                                                                                                                                                                                                                                                                                                                                                                                                                                                                                                                                                                                                                                                                                                                                                                                                                                                                                                                                                                                                                                                                                                                                                                                                                                                                                                                                                                                                                                                                                                                                                                                                                                                                                                                                                                                                                                                                                                                                                                                                                                                                                                                                                                                                                                                                                                                                                                                                                                                                                                                                                                                                                                                                                                                                                                                                                                                                                                                                                                                                                                                                                                  chase card was reported on xxxx however fraudulent application have been submitted my identity without my consent to fraudulently obtain services do not extend credit without verifying the identity of the applicant   \n",
       "26                                                                                                                                                                                                                                                                                                                                                                                                                                                                                                                                                                                                                                                                                                                                                                                                                                                                                                                                                                                                                                                                                                                                                                                                                                                                                                                                                                                                                                                                                                                                                                                                                                                                                                                                                                                                                                                                                                                                                                                                                                                                                                                                                                                                                                                                                                                                                                                                                                                                                                                                                                                                                                                                                                                                                                                                                                                     i have reached out to xxxx several times in attempt to have this fraudulent inquiry removed i was told that i need to call and contact the original creditor that placed this inquiry on my report i have made several attempts to get chase bank to contact the bureau and remove this inquiry that was not authorized by me they seem to not be able to get me to the right person to take care of this issue no matter how many attempts i have made nobody seems to understand what im talkin about i want chase bank to have this fraudulent inquiry removed from my credit report before i take legal action i i have never requested any kind of credit with chase bank or hold any account with them i have an iquiry from xxxx i want this matter resolved   \n",
       "\n",
       "                                                                                                                                                                                                                                                                                                                                                                                                                                                                                                                                                                                                                                                                                                                                                                                                                                                                                                                                                                                                                                                                                                                                                                                                                                                                                                                                                                                                                                                                                                                                                                                                                                                                                                                                                                                                                                                                                                                                                                                                                                                                                                                                                                                      lemmatized_complaints  \\\n",
       "1                                                                                                                                                                                                                                                                                                                                                                                                                                                                                                                                                                                                                                                                                                                                                                                                                                                                                                                                                                                                                                                                                                                                                                                                                                                                                                                                                                                                                                                                                                                                                                                                                                                                                                                                                                                                                                                                        good morning name xxxx xxxx appreciate could help put stop chase bank cardmember service wrote chase asking debt verification sent statement acceptable asking bank validate debt instead receiving mail every month attempting collect debt right know information consumer chase account xxxx xxxx xxxx xxxx thanks advance help   \n",
       "2                                                                                                                                                                                                                                                                                                                                                                                                                                                                                                                                                                                                                                                                                                                                                                                                                                                                                                                                                                                                                                                                                                                                                                                                                                                                                                                                                                                                                                                                                                                                                                                                                                                                                                                                                                                                                                                                                                                                                                     upgraded xxxx xxxx card xxxx told agent upgrade anniversary date would change turned agent giving wrong information order upgrade account xxxx changed anniversary date xxxxxxxx xxxxxxxx without consent xxxx recording agent misled   \n",
       "73                                                                                                                                                                                                                                                                                                                                                                                                                                                                                                                                                                                                                                                                                                                                                                                                                                                                                                                                                                                                                                                                                                                                                                                                                                                                                                                                                                          wired one chase branch xxxx xxxx exact reinstatement amount jpmorgan chase bank order removewithdraw wrongful foreclosure proceeding residential property however chase executive m xxxx xxxx trustee xxxx xxxx xxxx xxxx honoring even rule regulation want total payoff order remove wrongful foreclosure proceeding sale date xxxx xxxx xxxx family resident know prepare xxxx short time thats asked minimum reinstatement amount avoid foreclosure without resorting chapter xxxx bankruptcy filing appreciate assistant bringing jpmorgan chase foreclosure trustee xxxx xxxx xxxx xxxx quality sens stop harassing family fraudulent default claim explained previous complaint xxxxxxxx previous complaint id xxxx submitted xxxx product mortgage issue wrongful foreclosure thank xxxx xxxx tell xxxx email xxxx xxxx   \n",
       "48                                                                                                                                                                                                                                                                                                                                                                                                                                                                                                                                                                                                                                                                                                                                                                                                                                                                                                                                                                                                                                                                                                                                                                                                                                                                                                                                                            jp morgan chase bank please answer following question xxxxxxxx xxxxxxxxxxxxxxxx xxxxxxxx xxxxxxxx jpmorgan chase accessed information xxxx xxxx xxxx xxxx valid reason accessing personal information xxxx xxxx xxxx xxxx chase checking account closed recently xxxxxxxx routing xxxx number xxxx according check statement provided chase xxxx xxxx xxxx showed chase reporting xxxx routing number xxxx disputed xxxx number chase two routing number match xxxxxxxx received response xxxx xxxx xxxx xxxx dispute information chase providing report dispute case id xxxx information chase submitting deleted due disputed info incomplete inaccurate unverifiable true asked question send cfpb copy information pertaining question complaint via u mail xxxx xxxx xxxx xxxx report ive received thank attention humbly await response   \n",
       "45                                                                                                                                                                                                                                                                                                                                                                                                                                                                                                                                                                                                                                                                                                                                                                                                                                                                                                                                                                                   made purchase xxxx xxxx xxxx xxxx amount charged twice transaction placed dispute case chase bank xxxx noticed charge account called back sunday xxxx provisional credit charge monday xxxx told charge post provisional credit could provided used debt card monday xxxx tried use would work went chase bank xxxx xxxx xxxx xxxx xxxx nevada told account closed due fraudulent activity shocked reported fraud account later found accused dispute department placing fraudulent dispute case duplicate charge xxxx xxxx xxxx later contacted xxxx xxxx xxxx told see duplicate charge would credit account within day contacted chase dispute department monday xxxxxxxx explained thaxxxx xxxx xxxx xxxx would credit account like accused making fraudulent dispute claim escalation manager care told chase decision closing account final customer chase xxxx year character challenged dispute agent consider detrimental character slander seeking keep account open chase also want chase reporting closed checking account involuntarily want chase checking account reflecting public record closed involuntary closure chase nothing wrong filing dispute claim duplicate charge dispute case filed past   \n",
       "50                                                                                                                                                                                                                                                                                                                                                                                                                                                                                                                                                                                                                                                                                                                                                                                                                                                                                                                                                                                                                                                                                                                                                                                                                                                                                                                                                                                                                                                                                                                                                                                                                                                                                                                                                                                                                                                                                                                                                                                                                                       senior citizen scammed several company xxxx xxxx paid time share company nothing misleading tried get refund credit card unsucceful information every company paid   \n",
       "43                                                                                                                                                                                                                                                                                                                                                                                                                                                                                                                                                                                                                                                                                                                                                                                                                                                                                                                                                                                                                                                                                                                                                                                                                                                                                                                                                                                                                                                                                                                                                                                                                                                                                                                                                                                               chase sent email today innocuous title important information regarding change chase account force binding arbitration include method opt additional information consequence even egregiously despite chase simply sending email require mail letter personal information enclosed order opt clearly le secure massive loss time money clearly used solely dissuade people opting blatant malpractice chase   \n",
       "40                                                                                                                                                                                                                                                                                                                                                                                                                                                                                                                                                                                                                                                                                                                                                                                                                                                                                                                                                                                                                                                                                                                                                                                                                                                                                                                                                                                                                                                                                                                                                                                                                                                                                                                                                                                                                                                                                                                                                                                                                                                                                       xxxx xxxx sofa love seat table chair never delivered debit card charged bank say visa denied claim furniture money   \n",
       "21   xxxx xxxx made payment online retailer using chase quick pay xxxx chase website realized scam website confirmation product response inquiry regarding order contacted chase get information transaction attempt getting refund retailer bank contacted chase via secured message xxxx explaining happened asked way reverse transaction contact xxxx give information recipient xxxx message reviewed received response restating original email informing transfer completed however mentioned website scam handle inquiry email require expertise another team order assist better regard refund request call consumer online technical support team called number listed email explained situation transferred claim department directed call xxxx ask transaction chase information outside provided initiating transfer felt like agent trying get end call quickly possible interrupt closing script ask contact number xxxx didnt opportunity get information right question would ask xxxx word phrase use get information looking called xxxx who automated system initially directed call bank used bank app initiate transaction called xxxx navigate menu talk customer service agent told information transaction would chase system used bank app perform transaction stayed line understood everything ask better understanding situation ended call called chase called chase second time agent tried look information receiving bank could find additional information asked needed information explained situation transferred claim department told needed contact xxxx get information looking told already contacted finally admitted nothing could due nature transaction type transaction secured said chase information recipient email address inputted recipient banking information kept system phone call asked initiated transaction used absolve responsibility regard matter whole process felt like chase transparent policy regarding type transaction helpful helping get information situation transaction advertised fast safe easy way send money seem dangerous way business feel deceived chase advertising victimized way treated member customer service team   \n",
       "32                                                                                                                                                                                                                                                                                                                                                                                                                                                                                                                                                                                                                                                                                                                                                                                                                                                                                        chase amazon card declined catering order placed brother funeral amount contacted chase around noon today xxxx asked last number chase saving account user account responded saving authorized user customer rep told would call back minute keep line open didnt receive call back hour contacted chase first call thought someone using card fraudulently spoke rep transferred supervisor xxxx said card activated transaction would process called catering company card declined used xxxx xxxx card pay order xxxx xxxx texted asking authorizing purchase responded yes contacted caterer xxxx xxxx declined contacted chase spoke rep told initial question used trick people see answer would told cvv code incorrectly input caterer responded gone number cvv used correct told card cleared purchase would monitor hour called caterer card declined use mastercard processed went use chase amazon restaurant xxxx pm tonight amount declined told chase limit still frustrated figuring multiple decline several conversation chase stating card would ok use embarrassed caterer kept suggesting limit pay card full every month chase confirmed limit transaction never declined either chase xxxx xxxx today multiple assurance set card would monitored make sure transaction would clear never   \n",
       "30                                                                                                                                                                                                                                                                                                                                                                                                                                                                                                                                                                                                                                                                                                                                                                                                                                                                                                                                                                                                                                                                                                                                                                                                                                                                                                                                                                                                                                                                                                                                                                                                                                                                                                                                                                                                                 may concern chase bank charged wrongly overdraft fee alert low balance unsuficent fee balance always deposit immediatly cover transaction needed chase always changed order charged overdraft fee anyway call said per guideline dont refund overdrawft doesnt matter bank fault taken people money ok see attached document chase refund always find way take back refunded first place   \n",
       "27                                                                                                                                                                                                                                                                                                                                                                                                                                                                                                                                                                                                                                                                                                                                                                                                                                                                                                                                                                                                                                                                                                                                                                                                                                                                                                                                                                                                                                                                                                                                                                                                                                                                                                                                                                                                                                                                                                                                                        opened account chase bank xxxx used code xxxx bonus called follow xxxxxxxx term told everything account made xxxx direct deposit bonus would paid day xxxx made required deposit told account never coupon code applied past day bonus would paid   \n",
       "24                                                                                                                                                                                                                                                                                                                                                                                                                                                                                                                                                                                                                                                                                                                                                                                                                                                                                                                                                                                                                                                                                                                                                                                                                                                                                                                                                                                                                                                                                                                                                                                                                                                                                                                                                                                                                                                                                                                                                                                                                                                                                                                                                                      mishandling account chase auto xxxx   \n",
       "17                                                                                                                                                                                                                                                                                                                                                                                                                                                                                                                                                                                                                                                                                                             notice jp morgan chase restricted account debit card tuesday xxxx thursday xxxx went branch advised customer service representative account would actually closed went branch see remove fund currently well direct deposit place employment would returned bank associate customer service representative assured fund would post may take additional business day saturday attempted go inside branch yet retrieve fund actually post friday xxxx upon looking account realize fund reversed longer present current statement ive called told may take two business day stating tuesday xxxxxxxx would date fund would available withdraw bank teller chase informing mailed check three business day recover fund owed left account currently unfortunately put additional financial bind two fee late rent late car payment etc short giving written notice thing actually occur peace mind fact chase handled situation grossly even bank teller inform account look suspicious giving suspicious look although know chase reserve right close account time believe protocol past give notice form written document shored giving written notice thing actually occur peace mind fact chase handled situation grossly even bank teller inform account look suspicious giving suspicious look although know chase reserve right close account time believe protocol past give notice form written document situation truly affecting livelihood dont seem want deal professionally thank   \n",
       "14                                                                                                                                                                                                                                                                                                                                                                                                                                                                                                                                                                                                                                                                                                                                                                                                                                                                                                                                                                                                                                                                                                                                                                                                                                                                                                                                                                                                                                                                                                                                                                                                                                                                                                                                                                                                                                                                                         grand son give check deposit chase account fund clear chase bank closed account never paid money said need speek grand son check clear money taking chase bank refuse pay money grand son called chase time told call verify check owner country time date happen xxxx check number xxxx claim number xxxx chase   \n",
       "99                                                                                                                                                                                                                                                                                                                                                                                                                                                                                                                                                                                                                                                                                                                                                                                                                                                                                                                                                                                                                                                                                                                                                                                                                                                                                                                                                                                                                                                                                                                                                                                                                                                                                                                                                                                                                                                                                                                  name xxxx xxxx missed payment xxxx day past due current applied numerous time loan modification get loss mitigation assistance get help chase gave loan forbearance option xxxx xxxx xxxx issue refinancing since dti high excessive debt get declined every time credit score low xxxx   \n",
       "20                                                                                                                                                                                                                                                                                                                                                                                                                                                                                                                                                                                                                                                                                                                                                                                                                                                                                                                                                                                                                                                                                                                                                          summer month experience decline income due employment therefore request one month payment extension auto loan company chase past almost four year request payment extension granted never delinquent auto loan payment however xxxx request one month payment extension denied year explained situation representative supervisor avail lengthy discussion waiting informed reason decline contractual reason denial baffled therefore emailed office xxxx xxxx executive director communication jpmorgan chase co representative contacted stated chase followup week later representative xxxx xxxx xxxx xxxx office called representative shared role help resolve matter representative via conference call contacted department handing request reviewing information request still denied based policy change requested explanation representative stated letter mailed explanation received xxxx letter reason denial policy change would like cfpb help exploring denial payment extension request especially since clear reason denial   \n",
       "57                                                                                                                                                                                                                                                                                                                                                                                                                                                                                                                                                                                                                                                                                                                                                                                                                                                                                                                                                                                                                                                                                                                                                                                                                                                                                                                                                                                                                                                                                                                                                                                                                                                                                                                                                                                                                                                                                                                                                                                                                                                                                                  trying loan modification chase give runaround im mo behind dont let make payment aens doc always asking   \n",
       "58                                                                                                                                                                                                                                                                                                                                                                                                                                                                                                                                                                                                                                                                                                                                                                                                                                                                                                                                                                                                                                                                                                                                                                                                                                                                                                                                                                                                                                                                                           made purchase xxxxxxxx made payment xxxxxxxx xxxxxxxx minimum payment closing date xxxxxxxx statement show outstanding purchase balance xxxxxxxx enclosed previous month statement show purchase prior one xxxxxxxx however got xxxx statement show still purchase balance promotional balance xxxx xxxx promotional balance difference apparently payment thought would applied purchase applied promotional balance first understanding minimum payment met payment excess minimum would applied highest interest rate balance first first time chase skirted u financial law turn larger profit need help rectifying problem logic fell deaf ear chase thank advance assistance respectfully xxxx xxxx xxxx   \n",
       "127                                                                                                                                                                                                                                                                                                                                                                                                                                                                                                                                                                                                                                                                                                                                                                                                                                                                                                                                                                                                                                                                                                                                                                                                                                        xxxx military member xxxx chase auto finance refusing pay gap insurancewaiver coverage purchased time signed financing agreement stationed xxxx purchased xxxx cadillac at premium financed vehicle chase auto finance purchased vehicle original financing agreement included option purchase gap insurance additional provider gap insurance xxxx xxxx however also required sign gap waiver addendum stated purchased insurance agreement chase auto finance waive deficiency event vehicle totaled chase auto finance agreed writing ship vehicle xxxx received military order reassigning xxxx letter explicitly authorized drive vehicle xxxx stationed overseas vehicle totaled accident chase refusing honor gap insurancewaiver provision loss occurred outside united state xxxx also refusing release lien vehicle salvage value recovered sent bank simply want chase bank honor commitment cover deficiency insurance payout remaining balance loan   \n",
       "23                                                                                                                                                                                                                                                                                                                                                                                                                                                                                                                                                                                                                                                                                                                                                                                                                                                                                                                                                                                                                                                                                                                                                                                                                                                                                                                                                                                                                                                                                                                                                                                                                                                                                                                                                                                                                                                                                                                                                                                                                                                                                                                 chase credit card incorrectly reporting data credit report company helping resolve issue   \n",
       "15                                                                                                                                                                                                                                                                                                                                                                                                                                                                                                                                                                                                                                                                                                                                                                                                                                                                                                                                                                                                                                                                                                                                                                                                                                                                                                                                                                                                                                                                                                                                                                                                                                                                                                                                                                                                                                                                                                                                                                                                                                                                                                                                                                                    please remove inquiry   \n",
       "11                                                                                                                                                                                                                                                                                                                                                                                                                                                                                                                                                                                                                                                                                                                                                                                                                                                                                                                                                                                                                                                                                                                                                                                                                                                    xxxx trying book xxxx xxxx ticket came across offer applied towards ticket applied reward card put information offer within le minute notified via screen decision could made immediately contacted xxxx referred chase bank immediately contacted chase bank within minute getting notification screen told chase representative spoke application denied could state asked information xxxx offer explained even approved credit offer get applied first account statement could used purchase ticket explicitly told glad got denied absolutely longer interested account asked application withdrawn representative obliged happened later min putting application xxxx notwithstanding explicit request proceed application contrary told chase representative chase fact go ahead open credit account name xxxx reported credit report chase refused correct information credit report even though went ahead process application consent error   \n",
       "10                                                                                                                                                                                                                                                                                                                                                                                                                                                                                                                                                                                                                                                                                                                                                                                                                                                                                                                                                                                                                                                                                                                                                                                                                                                                                                                                                                                                                                                                                                                                                                                                                                                                                                                                                                                                                                                                                                                                                                                                                                chase card reported xxxx however fraudulent application submitted identity without consent fraudulently obtain service extend credit without verifying identity applicant   \n",
       "26                                                                                                                                                                                                                                                                                                                                                                                                                                                                                                                                                                                                                                                                                                                                                                                                                                                                                                                                                                                                                                                                                                                                                                                                                                                                                                                                                                                                                                                                                                                                                                                                                                                                                                                           reached xxxx several time attempt fraudulent inquiry removed told need call contact original creditor placed inquiry report made several attempt get chase bank contact bureau remove inquiry authorized seem able get right person take care issue matter many attempt made nobody seems understand im talkin want chase bank fraudulent inquiry removed credit report take legal action never requested kind credit chase bank hold account iquiry xxxx want matter resolved   \n",
       "\n",
       "                                                                                                                                                                                                                                                                                                                                                                                                                                                                                                                                                                                                                                                                                                                                                                                                                                                                                                                                                                                                                                                                                                                                complaint_POS_removed  \\\n",
       "1                                                                                                                                                                                                                                                                                                                                                                                                                                                                                                                                                                                                                                                                                                                                                                                                                                                                                                                                                                                                    morning name stop debt verification statement bank debt mail month debt right information consumer chase xxxx xxxx xxxx xxxx thanks advance help   \n",
       "2                                                                                                                                                                                                                                                                                                                                                                                                                                                                                                                                                                                                                                                                                                                                                                                                                                                                                                                                                                                                                                      xxxx card agent anniversary date agent information order account anniversary date consent xxxx recording agent   \n",
       "73                                                                                                                                                                                                                                                                                                                                                                                                                                                                                                                                                                                                                                              chase branches xxxx xxxx reinstatement amount order foreclosure proceedings property executive trustee xxxx xxxx xxxx xxxx rules regulations payoff order foreclosure proceedings sales date xxxx xxxx family resident xxxx time reinstatement amount foreclosure chapter xxxx bankruptcy filing assistant chase foreclosure trustee xxxx xxxx xxxx xxxx quality senses family default claim complaint xxxxxxxx complaint xxxx xxxx product mortgage issue foreclosure xxxx xxxx xxxx email xxxx xxxx   \n",
       "48                                                                                                                                                                                                                                                                                                                                                                                                                                                                                                                                                                                                                                                                                                                                     questions information xxxx xxxx xxxx xxxx reason information xxxx xxxx xxxx xxxx chase account routing xxxx number checks statements xxxx chase xxxx routing number xxxx xxxx number routing numbers xxxxxxxx response xxxx xxxx xxxx xxxx dispute information chase report dispute case d information chase info questions cfpb copies information questions complaint mail xxxx xxxx xxxx attention response   \n",
       "45                                                                                                                                                                                                                                                                                                                                                                                                                                                                                                                                                                                                                  purchase xxxx xxxx xxxx amount transaction disputes case charge account credit charge charge credit debt card xxxx xxxx xxxx account activity fraud account disputes disputes case charge xxxx xxxx xxxx xxxx xxxx charge account days chase disputes department thaxxxx xxxx xxxx xxxx account disputes escalation manager decision account customer chase years character disputes agents character account chase chase checking account chase checking account records closure chase disputes claim charge disputes cases past   \n",
       "50                                                                                                                                                                                                                                                                                                                                                                                                                                                                                                                                                                                                                                                                                                                                                                                                                                                                                                                                                                                                                                                            citizen companies xxxx xxxx time share companies refund credit card information company   \n",
       "43                                                                                                                                                                                                                                                                                                                                                                                                                                                                                                                                                                                                                                                                                                                                                                                                                                                                                                                                                                        chase email today title information changes chase arbitration method information consequences chase email letter information order loss time money people malpractice chase   \n",
       "40                                                                                                                                                                                                                                                                                                                                                                                                                                                                                                                                                                                                                                                                                                                                                                                                                                                                                                                                                                                                                                                                   xxxx xxxx sofa love seat table chairs debit card bank visa claim furniture money   \n",
       "21   xxxx xxxx payment retailer chase pay xxxx chase website scam website confirmation product response inquiries order chase information transaction refund retailers bank chase message way transaction contact xxxx information recipient message response email transfer website scam inquiries email expertise team order regards refund consumer support team number email situation claims department xxxx transaction information transfer agent call closing script contact number opportunity information questions xxxx words phrases information system bank banks transaction menus customer service agent information transaction system banks transaction line understanding situation call chase chase time agent information bank information information situation claims department xxxx information nature transaction types transactions chase information recipient email address recipients banking information system phone calls transaction responsibility regards matter process chase policies types transactions information situation transactions way money way business advertising way members customer service team   \n",
       "32                                                                                                                                                                                                                                                                                                                                                                                                                                                                                                                                                        chase card catering order brothers funeral amount chase noon today numbers chase savings account user account savings user customer minutes line call hour chase call card supervisor card transaction catering company card xxxx xxxx card order xxxx xxxx purchase caterer xxxx xxxx chase questions people answer code input caterer numbers card purchase hours caterer card mastercard chase amazon restaurant xxxx pm tonight amount chase limit declines conversations chase card caterer limit card month chase limit transaction chase xxxx xxxx today assurances card transaction   \n",
       "30                                                                                                                                                                                                                                                                                                                                                                                                                                                                                                                                                                                                                                                                                                                                                                                                                                                                                                                                                                               concern bank overdraft fees alert balance fee balance transactions chase order overdraft fee guidelines overdrawft bank fault people money documents chase way place   \n",
       "27                                                                                                                                                                                                                                                                                                                                                                                                                                                                                                                                                                                                                                                                                                                                                                                                                                                                                                                                                                                                                                     account code xxxx bonus xxxxxxxx terms account deposit bonus days xxxx deposits account coupon code days bonus   \n",
       "24                                                                                                                                                                                                                                                                                                                                                                                                                                                                                                                                                                                                                                                                                                                                                                                                                                                                                                                                                                                                                                                                                                                                  account auto xxxx   \n",
       "17                                                                                                                                                                                                                                                                                                                                                                                                                                                                                                                           notice account debit card branch customer service representative account branch funds deposit place employment bank associate customer service representative funds business day branch funds account funds statement business day date funds bank teller chase check business days funds account bind fees rent car payments notice things peace mind fact chase situation bank teller account look chase right account time protocol past notice form document notice things peace mind fact chase situation bank teller account look chase right account time protocol past notice form document situation livelihood   \n",
       "14                                                                                                                                                                                                                                                                                                                                                                                                                                                                                                                                                                                                                                                                                                                                                                                                                                                                                                                                                                                  son chase account fund chase bank account money son check money chase bank money son times check owner country time date xxxx number xxxx claim number xxxx chase   \n",
       "99                                                                                                                                                                                                                                                                                                                                                                                                                                                                                                                                                                                                                                                                                                                                                                                                                                                                                                                                                                                  name xxxx xxxx payment days times loan modification loss mitigation assistance help chase loan forbearance option xxxx xxxx issue dti debt time credit score xxxx   \n",
       "20                                                                                                                                                                                                                                                                                                                                                                                                                                                                                                               summer months decline income employment month payment extension auto loan company chase past years request payment extension auto loan payment xxxx request month payment extension year situation supervisor avail discussion reason decline reason denial office executive director communications representative chase week representative xxxx xxxx office representative role help matter representative conference call department request information request policy changes explanation representative letter explanation xxxx letters reason denial policy changes cfpb help denial payment extension request reason denial   \n",
       "57                                                                                                                                                                                                                                                                                                                                                                                                                                                                                                                                                                                                                                                                                                                                                                                                                                                                                                                                                                                                                                                                                                 loan modification chase runaround mo payments aens   \n",
       "58                                                                                                                                                                                                                                                                                                                                                                                                                                                                                                                                                                                                                                                                                                                                                   purchase xxxxxxxx payments xxxxxxxx xxxxxxxx payment closing date xxxxxxxx statement purchase balance xxxxxxxx months statement purchases one xxxx statement purchase balance balance xxxx balance difference payment purchase balance understanding payment payments excess minimum interest rate balance time chase law profit help problem logic ears chase advance assistance xxxx xxxx xxxx   \n",
       "127                                                                                                                                                                                                                                                                                                                                                                                                                                                                                                                                                                                                                                                    military member chase auto finance gap insurancewaiver coverage time financing agreement xxxx premium vehicle auto finance vehicle financing agreement option gap insurance provider gap insurance xxxx xxxx gap waiver addendum insurance agreement auto finance deficiency event vehicle chase auto finance vehicle orders letter vehicle xxxx vehicle accident gap insurancewaiver provisions loss xxxx lien vehicle salvage value bank commitment deficiency insurance payout balance loan   \n",
       "23                                                                                                                                                                                                                                                                                                                                                                                                                                                                                                                                                                                                                                                                                                                                                                                                                                                                                                                                                                                                                                                                                                       credit card data credit report company issue   \n",
       "15                                                                                                                                                                                                                                                                                                                                                                                                                                                                                                                                                                                                                                                                                                                                                                                                                                                                                                                                                                                                                                                                                                                                            inquiry   \n",
       "11                                                                                                                                                                                                                                                                                                                                                                                                                                                                                                                                                                                                                                                                                                                                 xxxx xxxx xxxx ticket offer ticket rewards card information offer minute screen decision chase bank minutes notification screen representative application information offer credit offer account statement ticket account application representative mins application xxxx request application representative chase fact credit account name xxxx credit report chase information credit report application error   \n",
       "10                                                                                                                                                                                                                                                                                                                                                                                                                                                                                                                                                                                                                                                                                                                                                                                                                                                                                                                                                                                                                                                                                    application identity consent services credit identity applicant   \n",
       "26                                                                                                                                                                                                                                                                                                                                                                                                                                                                                                                                                                                                                                                                                                                                                                                                                                                                                                                                                              xxxx times attempt inquiry creditor inquiry report attempts bank bureau inquiry person care issue attempts talkin inquiry credit report action kind credit account iquiry xxxx matter   \n",
       "\n",
       "                                                                                                                                                                                                                                                                                                                                                                                                                                                                                                                                                                                                                                                                                                                                                                                                                                                                                                                                                                                                                                                                                                          Complaint_clean  \\\n",
       "1                                                                                                                                                                                                                                                                                                                                                                                                                                                                                                                                                                                                                                                                                                                                                                                                                                                                                                                                                                                        morning name stop debt verification statement bank debt mail month debt right information consumer chase     thanks advance help   \n",
       "2                                                                                                                                                                                                                                                                                                                                                                                                                                                                                                                                                                                                                                                                                                                                                                                                                                                                                                                                                                                                                   card agent anniversary date agent information order account anniversary date consent  recording agent   \n",
       "73                                                                                                                                                                                                                                                                                                                                                                                                                                                                                                                                                                                                                                                                                                              chase branches   reinstatement amount order foreclosure proceedings property executive trustee     rules regulations payoff order foreclosure proceedings sales date   family resident  time reinstatement amount foreclosure chapter  bankruptcy filing assistant chase foreclosure trustee     quality senses family default claim complaint  complaint   product mortgage issue foreclosure    email     \n",
       "48                                                                                                                                                                                                                                                                                                                                                                                                                                                                                                                                                                                                                                                                                                                                                                                                 questions information     reason information     chase account routing  number checks statements  chase  routing number   number routing numbers  response     dispute information chase report dispute case d information chase info questions cfpb copies information questions complaint mail    attention response   \n",
       "45                                                                                                                                                                                                                                                                                                                                                                                                                                                                                                                                                                                                                                                  purchase    amount transaction disputes case charge account credit charge charge credit debt card    account activity fraud account disputes disputes case charge      charge account days chase disputes department tha    account disputes escalation manager decision account customer chase years character disputes agents character account chase chase checking account chase checking account records closure chase disputes claim charge disputes cases past   \n",
       "50                                                                                                                                                                                                                                                                                                                                                                                                                                                                                                                                                                                                                                                                                                                                                                                                                                                                                                                                                                                                                                        citizen companies   time share companies refund credit card information company   \n",
       "43                                                                                                                                                                                                                                                                                                                                                                                                                                                                                                                                                                                                                                                                                                                                                                                                                                                                                                                                            chase email today title information changes chase arbitration method information consequences chase email letter information order loss time money people malpractice chase   \n",
       "40                                                                                                                                                                                                                                                                                                                                                                                                                                                                                                                                                                                                                                                                                                                                                                                                                                                                                                                                                                                                                                                 sofa love seat table chairs debit card bank visa claim furniture money   \n",
       "21     payment retailer chase pay  chase website scam website confirmation product response inquiries order chase information transaction refund retailers bank chase message way transaction contact  information recipient message response email transfer website scam inquiries email expertise team order regards refund consumer support team number email situation claims department  transaction information transfer agent call closing script contact number opportunity information questions  words phrases information system bank banks transaction menus customer service agent information transaction system banks transaction line understanding situation call chase chase time agent information bank information information situation claims department  information nature transaction types transactions chase information recipient email address recipients banking information system phone calls transaction responsibility regards matter process chase policies types transactions information situation transactions way money way business advertising way members customer service team   \n",
       "32                                                                                                                                                                                                                                                                                                                                                                                                                                                                                                                                                                chase card catering order brothers funeral amount chase noon today numbers chase savings account user account savings user customer minutes line call hour chase call card supervisor card transaction catering company card   card order   purchase caterer   chase questions people answer code input caterer numbers card purchase hours caterer card mastercard chase amazon restaurant  pm tonight amount chase limit declines conversations chase card caterer limit card month chase limit transaction chase   today assurances card transaction   \n",
       "30                                                                                                                                                                                                                                                                                                                                                                                                                                                                                                                                                                                                                                                                                                                                                                                                                                                                                                                                                   concern bank overdraft fees alert balance fee balance transactions chase order overdraft fee guidelines overdrawft bank fault people money documents chase way place   \n",
       "27                                                                                                                                                                                                                                                                                                                                                                                                                                                                                                                                                                                                                                                                                                                                                                                                                                                                                                                                                                                                                         account code  bonus  terms account deposit bonus days  deposits account coupon code days bonus   \n",
       "24                                                                                                                                                                                                                                                                                                                                                                                                                                                                                                                                                                                                                                                                                                                                                                                                                                                                                                                                                                                                                                                                                                          account auto    \n",
       "17                                                                                                                                                                                                                                                                                                                                                                                                                                                                                               notice account debit card branch customer service representative account branch funds deposit place employment bank associate customer service representative funds business day branch funds account funds statement business day date funds bank teller chase check business days funds account bind fees rent car payments notice things peace mind fact chase situation bank teller account look chase right account time protocol past notice form document notice things peace mind fact chase situation bank teller account look chase right account time protocol past notice form document situation livelihood   \n",
       "14                                                                                                                                                                                                                                                                                                                                                                                                                                                                                                                                                                                                                                                                                                                                                                                                                                                                                                                                                                  son chase account fund chase bank account money son check money chase bank money son times check owner country time date  number  claim number  chase   \n",
       "99                                                                                                                                                                                                                                                                                                                                                                                                                                                                                                                                                                                                                                                                                                                                                                                                                                                                                                                                                                          name   payment days times loan modification loss mitigation assistance help chase loan forbearance option   issue dti debt time credit score    \n",
       "20                                                                                                                                                                                                                                                                                                                                                                                                                                                                                                   summer months decline income employment month payment extension auto loan company chase past years request payment extension auto loan payment  request month payment extension year situation supervisor avail discussion reason decline reason denial office executive director communications representative chase week representative   office representative role help matter representative conference call department request information request policy changes explanation representative letter explanation  letters reason denial policy changes cfpb help denial payment extension request reason denial   \n",
       "57                                                                                                                                                                                                                                                                                                                                                                                                                                                                                                                                                                                                                                                                                                                                                                                                                                                                                                                                                                                                                                                                     loan modification chase runaround mo payments aens   \n",
       "58                                                                                                                                                                                                                                                                                                                                                                                                                                                                                                                                                                                                                                                                                                                                                                                   purchase  payments   payment closing date  statement purchase balance  months statement purchases one  statement purchase balance balance  balance difference payment purchase balance understanding payment payments excess minimum interest rate balance time chase law profit help problem logic ears chase advance assistance      \n",
       "127                                                                                                                                                                                                                                                                                                                                                                                                                                                                                                                                                                                                                                            military member chase auto finance gap insurancewaiver coverage time financing agreement  premium vehicle auto finance vehicle financing agreement option gap insurance provider gap insurance   gap waiver addendum insurance agreement auto finance deficiency event vehicle chase auto finance vehicle orders letter vehicle  vehicle accident gap insurancewaiver provisions loss  lien vehicle salvage value bank commitment deficiency insurance payout balance loan   \n",
       "23                                                                                                                                                                                                                                                                                                                                                                                                                                                                                                                                                                                                                                                                                                                                                                                                                                                                                                                                                                                                                                                                           credit card data credit report company issue   \n",
       "15                                                                                                                                                                                                                                                                                                                                                                                                                                                                                                                                                                                                                                                                                                                                                                                                                                                                                                                                                                                                                                                                                                                inquiry   \n",
       "11                                                                                                                                                                                                                                                                                                                                                                                                                                                                                                                                                                                                                                                                                                                            ticket offer ticket rewards card information offer minute screen decision chase bank minutes notification screen representative application information offer credit offer account statement ticket account application representative mins application  request application representative chase fact credit account name  credit report chase information credit report application error   \n",
       "10                                                                                                                                                                                                                                                                                                                                                                                                                                                                                                                                                                                                                                                                                                                                                                                                                                                                                                                                                                                                                                                        application identity consent services credit identity applicant   \n",
       "26                                                                                                                                                                                                                                                                                                                                                                                                                                                                                                                                                                                                                                                                                                                                                                                                                                                                                                                                           times attempt inquiry creditor inquiry report attempts bank bureau inquiry person care issue attempts talkin inquiry credit report action kind credit account iquiry  matter   \n",
       "\n",
       "     Topic  \n",
       "1        0  \n",
       "2        0  \n",
       "73       0  \n",
       "48       0  \n",
       "45       0  \n",
       "50       1  \n",
       "43       1  \n",
       "40       1  \n",
       "21       1  \n",
       "32       1  \n",
       "30       2  \n",
       "27       2  \n",
       "24       2  \n",
       "17       2  \n",
       "14       2  \n",
       "99       3  \n",
       "20       3  \n",
       "57       3  \n",
       "58       3  \n",
       "127      3  \n",
       "23       4  \n",
       "15       4  \n",
       "11       4  \n",
       "10       4  \n",
       "26       4  "
      ]
     },
     "execution_count": 61,
     "metadata": {},
     "output_type": "execute_result"
    }
   ],
   "source": [
    "## let's take a look at the complaints\n",
    "df_clean_2.sort_values('Topic')"
   ]
  },
  {
   "cell_type": "code",
   "execution_count": 64,
   "metadata": {},
   "outputs": [
    {
     "name": "stderr",
     "output_type": "stream",
     "text": [
      "/Users/abhinavjoshi/opt/anaconda3/lib/python3.8/site-packages/pandas/core/series.py:4563: SettingWithCopyWarning:\n",
      "\n",
      "\n",
      "A value is trying to be set on a copy of a slice from a DataFrame\n",
      "\n",
      "See the caveats in the documentation: https://pandas.pydata.org/pandas-docs/stable/user_guide/indexing.html#returning-a-view-versus-a-copy\n",
      "\n"
     ]
    }
   ],
   "source": [
    "#Create the dictionary again of Topic names and Topics\n",
    "\n",
    "Topic_names_1 = { 2:'Bank Account services',\n",
    "                 1:'Credit card or prepaid card',\n",
    "                4:'Theft/Dispute Reporting',\n",
    "                3:'Mortgage/Loan',\n",
    "                0:'Others'}\n",
    "#Replace Topics with Topic Names\n",
    "df_clean_2['Topic'].replace(to_replace=Topic_names_1,inplace=True)"
   ]
  },
  {
   "cell_type": "markdown",
   "metadata": {},
   "source": [
    "## Supervised model to predict any new complaints to the relevant Topics.\n",
    "\n",
    "You have now build the model to create the topics for each complaints.Now in the below section you will use them to classify any new complaints.\n",
    "\n",
    "Since you will be using supervised learning technique we have to convert the topic names to numbers(numpy arrays only understand numbers)"
   ]
  },
  {
   "cell_type": "code",
   "execution_count": 81,
   "metadata": {},
   "outputs": [
    {
     "data": {
      "text/html": [
       "<div>\n",
       "<style scoped>\n",
       "    .dataframe tbody tr th:only-of-type {\n",
       "        vertical-align: middle;\n",
       "    }\n",
       "\n",
       "    .dataframe tbody tr th {\n",
       "        vertical-align: top;\n",
       "    }\n",
       "\n",
       "    .dataframe thead th {\n",
       "        text-align: right;\n",
       "    }\n",
       "</style>\n",
       "<table border=\"1\" class=\"dataframe\">\n",
       "  <thead>\n",
       "    <tr style=\"text-align: right;\">\n",
       "      <th></th>\n",
       "      <th>Complaint_clean</th>\n",
       "      <th>Topic</th>\n",
       "    </tr>\n",
       "  </thead>\n",
       "  <tbody>\n",
       "    <tr>\n",
       "      <th>1</th>\n",
       "      <td>morning name stop debt verification statement bank debt mail month debt right information consumer chase     thanks advance help</td>\n",
       "      <td>0</td>\n",
       "    </tr>\n",
       "    <tr>\n",
       "      <th>2</th>\n",
       "      <td>card agent anniversary date agent information order account anniversary date consent  recording agent</td>\n",
       "      <td>0</td>\n",
       "    </tr>\n",
       "    <tr>\n",
       "      <th>10</th>\n",
       "      <td>application identity consent services credit identity applicant</td>\n",
       "      <td>4</td>\n",
       "    </tr>\n",
       "    <tr>\n",
       "      <th>11</th>\n",
       "      <td>ticket offer ticket rewards card information offer minute screen decision chase bank minutes notification screen representative application information offer credit offer account statement ticket account application representative mins application  request application representative chase fact credit account name  credit report chase information credit report application error</td>\n",
       "      <td>4</td>\n",
       "    </tr>\n",
       "    <tr>\n",
       "      <th>14</th>\n",
       "      <td>son chase account fund chase bank account money son check money chase bank money son times check owner country time date  number  claim number  chase</td>\n",
       "      <td>2</td>\n",
       "    </tr>\n",
       "  </tbody>\n",
       "</table>\n",
       "</div>"
      ],
      "text/plain": [
       "                                                                                                                                                                                                                                                                                                                                                                                   Complaint_clean  \\\n",
       "1                                                                                                                                                                                                                                                                 morning name stop debt verification statement bank debt mail month debt right information consumer chase     thanks advance help   \n",
       "2                                                                                                                                                                                                                                                                                            card agent anniversary date agent information order account anniversary date consent  recording agent   \n",
       "10                                                                                                                                                                                                                                                                                                                                 application identity consent services credit identity applicant   \n",
       "11     ticket offer ticket rewards card information offer minute screen decision chase bank minutes notification screen representative application information offer credit offer account statement ticket account application representative mins application  request application representative chase fact credit account name  credit report chase information credit report application error   \n",
       "14                                                                                                                                                                                                                                           son chase account fund chase bank account money son check money chase bank money son times check owner country time date  number  claim number  chase   \n",
       "\n",
       "    Topic  \n",
       "1       0  \n",
       "2       0  \n",
       "10      4  \n",
       "11      4  \n",
       "14      2  "
      ]
     },
     "execution_count": 81,
     "metadata": {},
     "output_type": "execute_result"
    }
   ],
   "source": [
    "#Keep the columns\"complaint_what_happened\" & \"Topic\" only in the new dataframe --> training_data\n",
    "b = df_clean[['Complaint_clean','Topic']]\n",
    "b.head()"
   ]
  },
  {
   "cell_type": "code",
   "execution_count": 82,
   "metadata": {},
   "outputs": [],
   "source": [
    "#Keep the columns\"complaint_what_happened\" & \"Topic\" only in the new dataframe --> training_data\n",
    "training_data= b"
   ]
  },
  {
   "cell_type": "code",
   "execution_count": 83,
   "metadata": {},
   "outputs": [
    {
     "data": {
      "text/html": [
       "<div>\n",
       "<style scoped>\n",
       "    .dataframe tbody tr th:only-of-type {\n",
       "        vertical-align: middle;\n",
       "    }\n",
       "\n",
       "    .dataframe tbody tr th {\n",
       "        vertical-align: top;\n",
       "    }\n",
       "\n",
       "    .dataframe thead th {\n",
       "        text-align: right;\n",
       "    }\n",
       "</style>\n",
       "<table border=\"1\" class=\"dataframe\">\n",
       "  <thead>\n",
       "    <tr style=\"text-align: right;\">\n",
       "      <th></th>\n",
       "      <th>Complaint_clean</th>\n",
       "      <th>Topic</th>\n",
       "    </tr>\n",
       "  </thead>\n",
       "  <tbody>\n",
       "    <tr>\n",
       "      <th>1</th>\n",
       "      <td>morning name stop debt verification statement bank debt mail month debt right information consumer chase     thanks advance help</td>\n",
       "      <td>0</td>\n",
       "    </tr>\n",
       "    <tr>\n",
       "      <th>2</th>\n",
       "      <td>card agent anniversary date agent information order account anniversary date consent  recording agent</td>\n",
       "      <td>0</td>\n",
       "    </tr>\n",
       "    <tr>\n",
       "      <th>10</th>\n",
       "      <td>application identity consent services credit identity applicant</td>\n",
       "      <td>4</td>\n",
       "    </tr>\n",
       "    <tr>\n",
       "      <th>11</th>\n",
       "      <td>ticket offer ticket rewards card information offer minute screen decision chase bank minutes notification screen representative application information offer credit offer account statement ticket account application representative mins application  request application representative chase fact credit account name  credit report chase information credit report application error</td>\n",
       "      <td>4</td>\n",
       "    </tr>\n",
       "    <tr>\n",
       "      <th>14</th>\n",
       "      <td>son chase account fund chase bank account money son check money chase bank money son times check owner country time date  number  claim number  chase</td>\n",
       "      <td>2</td>\n",
       "    </tr>\n",
       "  </tbody>\n",
       "</table>\n",
       "</div>"
      ],
      "text/plain": [
       "                                                                                                                                                                                                                                                                                                                                                                                   Complaint_clean  \\\n",
       "1                                                                                                                                                                                                                                                                 morning name stop debt verification statement bank debt mail month debt right information consumer chase     thanks advance help   \n",
       "2                                                                                                                                                                                                                                                                                            card agent anniversary date agent information order account anniversary date consent  recording agent   \n",
       "10                                                                                                                                                                                                                                                                                                                                 application identity consent services credit identity applicant   \n",
       "11     ticket offer ticket rewards card information offer minute screen decision chase bank minutes notification screen representative application information offer credit offer account statement ticket account application representative mins application  request application representative chase fact credit account name  credit report chase information credit report application error   \n",
       "14                                                                                                                                                                                                                                           son chase account fund chase bank account money son check money chase bank money son times check owner country time date  number  claim number  chase   \n",
       "\n",
       "    Topic  \n",
       "1       0  \n",
       "2       0  \n",
       "10      4  \n",
       "11      4  \n",
       "14      2  "
      ]
     },
     "execution_count": 83,
     "metadata": {},
     "output_type": "execute_result"
    }
   ],
   "source": [
    "training_data.head()"
   ]
  },
  {
   "cell_type": "code",
   "execution_count": 84,
   "metadata": {
    "scrolled": true
   },
   "outputs": [
    {
     "data": {
      "text/plain": [
       "(21072, 2)"
      ]
     },
     "execution_count": 84,
     "metadata": {},
     "output_type": "execute_result"
    }
   ],
   "source": [
    "## checking shape\n",
    "training_data.shape"
   ]
  },
  {
   "cell_type": "markdown",
   "metadata": {},
   "source": [
    "#### Apply the supervised models on the training data created. In this process, you have to do the following:\n",
    "- Create the vector counts using Count Vectoriser\n",
    "- Transform the word vecotr to tf-idf\n",
    "- Create the train & test data using the train_test_split on the tf-idf & topics"
   ]
  },
  {
   "cell_type": "code",
   "execution_count": 205,
   "metadata": {},
   "outputs": [],
   "source": [
    "## Create the vector counts using Count Vectoriser\n",
    "## instantiating CountVectorizer() object\n",
    "count_vect = CountVectorizer()"
   ]
  },
  {
   "cell_type": "code",
   "execution_count": 87,
   "metadata": {},
   "outputs": [],
   "source": [
    "## fitting into CountVectorizer()\n",
    "X_train_counts = count_vect.fit_transform(training_data['Complaint_clean'])"
   ]
  },
  {
   "cell_type": "code",
   "execution_count": 89,
   "metadata": {},
   "outputs": [
    {
     "data": {
      "text/plain": [
       "<21072x17135 sparse matrix of type '<class 'numpy.int64'>'\n",
       "\twith 613407 stored elements in Compressed Sparse Row format>"
      ]
     },
     "execution_count": 89,
     "metadata": {},
     "output_type": "execute_result"
    }
   ],
   "source": [
    "## checking X_train_counts\n",
    "X_train_counts"
   ]
  },
  {
   "cell_type": "code",
   "execution_count": 93,
   "metadata": {},
   "outputs": [],
   "source": [
    "## imorting libraries\n",
    "from sklearn.feature_extraction.text import TfidfVectorizer\n",
    "from sklearn.feature_extraction.text import TfidfTransformer"
   ]
  },
  {
   "cell_type": "code",
   "execution_count": 94,
   "metadata": {
    "scrolled": true
   },
   "outputs": [],
   "source": [
    "## instantiating TfidfTransformer() object\n",
    "tfidf_transformer = TfidfTransformer()"
   ]
  },
  {
   "cell_type": "code",
   "execution_count": 95,
   "metadata": {},
   "outputs": [],
   "source": [
    "## fitting into TfidfTransformer()\n",
    "X_train_tfidf = tfidf_transformer.fit_transform(X_train_counts)"
   ]
  },
  {
   "cell_type": "code",
   "execution_count": 96,
   "metadata": {},
   "outputs": [
    {
     "data": {
      "text/plain": [
       "<21072x17135 sparse matrix of type '<class 'numpy.float64'>'\n",
       "\twith 613407 stored elements in Compressed Sparse Row format>"
      ]
     },
     "execution_count": 96,
     "metadata": {},
     "output_type": "execute_result"
    }
   ],
   "source": [
    "X_train_tfidf"
   ]
  },
  {
   "cell_type": "markdown",
   "metadata": {},
   "source": [
    "#### Creating  the train & test data using the train_test_split on the tf-idf & topics"
   ]
  },
  {
   "cell_type": "code",
   "execution_count": 97,
   "metadata": {},
   "outputs": [],
   "source": [
    "## importing libraries\n",
    "from sklearn.model_selection import train_test_split"
   ]
  },
  {
   "cell_type": "code",
   "execution_count": 98,
   "metadata": {},
   "outputs": [],
   "source": [
    "## train-test split\n",
    "X_train, X_test, y_train, y_test = train_test_split(X_train_tfidf, training_data.Topic, test_size=0.25, random_state=42)"
   ]
  },
  {
   "cell_type": "markdown",
   "metadata": {},
   "source": [
    "You have to try atleast 3 models on the train & test data from these options:\n",
    "* Logistic regression\n",
    "* Decision Tree\n",
    "* Random Forest\n",
    "* Naive Bayes (optional)\n",
    "\n",
    "**Using the required evaluation metrics judge the tried models and select the ones performing the best**"
   ]
  },
  {
   "cell_type": "markdown",
   "metadata": {},
   "source": [
    "## Decision Tree Classifier\n",
    "- Vanilla Decision Tree Classifier"
   ]
  },
  {
   "cell_type": "code",
   "execution_count": 105,
   "metadata": {},
   "outputs": [],
   "source": [
    "## importing libraries\n",
    "from sklearn.tree import DecisionTreeClassifier\n",
    "## instantiating object of DecisionTreeClassifier class\n",
    "dt = DecisionTreeClassifier()\n",
    "## fitting into the tree\n",
    "dt.fit(X_train,y_train)\n",
    "## making predictions\n",
    "y_train_pred = dt.predict(X_train)\n",
    "y_test_pred  = dt.predict(X_test)"
   ]
  },
  {
   "cell_type": "code",
   "execution_count": 204,
   "metadata": {},
   "outputs": [
    {
     "name": "stdout",
     "output_type": "stream",
     "text": [
      "Train Confusion Matrix\n",
      "[[3259    2    1    0    3]\n",
      " [   0 3432    0    0    0]\n",
      " [   0    0 3949    0    0]\n",
      " [   4    0    0 2940    0]\n",
      " [   2    0    0    0 2212]]\n",
      "****************************************************************************************************\n",
      "Test Confusion Matrix\n",
      "[[378 201 228 176  92]\n",
      " [201 841  48  30  47]\n",
      " [235  59 975  29  25]\n",
      " [148  24  36 694  31]\n",
      " [ 82  66  19  27 576]]\n"
     ]
    }
   ],
   "source": [
    "## importing libraries\n",
    "from sklearn.metrics import confusion_matrix,accuracy_score,classification_report\n",
    "## confusion matrix\n",
    "print('Train Confusion Matrix')\n",
    "print(confusion_matrix(y_train,y_train_pred))\n",
    "print('*'*100)\n",
    "print('Test Confusion Matrix')\n",
    "print(confusion_matrix(y_test,y_test_pred))"
   ]
  },
  {
   "cell_type": "code",
   "execution_count": 117,
   "metadata": {},
   "outputs": [
    {
     "name": "stdout",
     "output_type": "stream",
     "text": [
      "              precision    recall  f1-score   support\n",
      "\n",
      "           0       0.36      0.35      0.36      1075\n",
      "           1       0.71      0.72      0.71      1167\n",
      "           2       0.75      0.74      0.74      1323\n",
      "           3       0.73      0.74      0.73       933\n",
      "           4       0.75      0.75      0.75       770\n",
      "\n",
      "    accuracy                           0.66      5268\n",
      "   macro avg       0.66      0.66      0.66      5268\n",
      "weighted avg       0.66      0.66      0.66      5268\n",
      "\n"
     ]
    }
   ],
   "source": [
    "## classification report\n",
    "print(classification_report(y_test,y_test_pred))"
   ]
  },
  {
   "cell_type": "code",
   "execution_count": 109,
   "metadata": {},
   "outputs": [
    {
     "name": "stdout",
     "output_type": "stream",
     "text": [
      "The accuracy of Train Set = 0.9992406985573272\n",
      "The accuracy of Test Set = 0.6575550493545937\n"
     ]
    }
   ],
   "source": [
    "## accuracy\n",
    "print('The accuracy of Train Set =',accuracy_score(y_train,y_train_pred))\n",
    "print('The accuracy of Test Set =',accuracy_score(y_test,y_test_pred))"
   ]
  },
  {
   "cell_type": "code",
   "execution_count": 120,
   "metadata": {},
   "outputs": [
    {
     "name": "stdout",
     "output_type": "stream",
     "text": [
      "0.9992406985573272\n",
      "0.6555665763896672\n"
     ]
    }
   ],
   "source": [
    "## precision,recall on test\n",
    "from sklearn.metrics import recall_score,precision_score\n",
    "print(recall_score(y_train,y_train_pred,average='weighted'))\n",
    "print(precision_score(y_test,y_test_pred,average='weighted'))"
   ]
  },
  {
   "cell_type": "markdown",
   "metadata": {},
   "source": [
    "- Accuracy and precision-recall scores point to over-fitting"
   ]
  },
  {
   "cell_type": "markdown",
   "metadata": {},
   "source": [
    "#### Let's try hyperparameter tuning"
   ]
  },
  {
   "cell_type": "code",
   "execution_count": 171,
   "metadata": {},
   "outputs": [],
   "source": [
    "## creating the dictionary of the parameters\n",
    "params = {\n",
    "    'max_depth':[2,3,5,10,20],\n",
    "    'min_samples_leaf':[5,10,20,50,100],\n",
    "    'criterion':['gini','entropy']\n",
    "}"
   ]
  },
  {
   "cell_type": "code",
   "execution_count": 174,
   "metadata": {},
   "outputs": [],
   "source": [
    "## importing GridSearchCV \n",
    "from sklearn.model_selection import GridSearchCV "
   ]
  },
  {
   "cell_type": "code",
   "execution_count": 175,
   "metadata": {},
   "outputs": [],
   "source": [
    "## making GridSeachCV\n",
    "grid_search = GridSearchCV(estimator=dt ,param_grid=params,\n",
    "                          cv=4,scoring='accuracy',n_jobs=-1,verbose=1)"
   ]
  },
  {
   "cell_type": "code",
   "execution_count": 176,
   "metadata": {},
   "outputs": [
    {
     "name": "stdout",
     "output_type": "stream",
     "text": [
      "CPU times: user 3 µs, sys: 1e+03 ns, total: 4 µs\n",
      "Wall time: 5.01 µs\n",
      "Fitting 4 folds for each of 50 candidates, totalling 200 fits\n"
     ]
    },
    {
     "name": "stderr",
     "output_type": "stream",
     "text": [
      "[Parallel(n_jobs=-1)]: Using backend LokyBackend with 12 concurrent workers.\n",
      "[Parallel(n_jobs=-1)]: Done  26 tasks      | elapsed:    4.3s\n",
      "[Parallel(n_jobs=-1)]: Done 176 tasks      | elapsed:   15.6s\n",
      "[Parallel(n_jobs=-1)]: Done 200 out of 200 | elapsed:   19.2s finished\n"
     ]
    },
    {
     "data": {
      "text/plain": [
       "GridSearchCV(cv=4, estimator=DecisionTreeClassifier(), n_jobs=-1,\n",
       "             param_grid={'criterion': ['gini', 'entropy'],\n",
       "                         'max_depth': [2, 3, 5, 10, 20],\n",
       "                         'min_samples_leaf': [5, 10, 20, 50, 100]},\n",
       "             scoring='accuracy', verbose=1)"
      ]
     },
     "execution_count": 176,
     "metadata": {},
     "output_type": "execute_result"
    }
   ],
   "source": [
    "## fitting into grid search\n",
    "%time\n",
    "grid_search.fit(X_train,y_train)"
   ]
  },
  {
   "cell_type": "code",
   "execution_count": 177,
   "metadata": {},
   "outputs": [
    {
     "data": {
      "text/plain": [
       "DecisionTreeClassifier(max_depth=20, min_samples_leaf=20)"
      ]
     },
     "execution_count": 177,
     "metadata": {},
     "output_type": "execute_result"
    }
   ],
   "source": [
    "## getting the best model based on best estimator \n",
    "grid_search.best_estimator_"
   ]
  },
  {
   "cell_type": "code",
   "execution_count": 178,
   "metadata": {},
   "outputs": [],
   "source": [
    "## evaluating the model dt_best as per the best estimator \n",
    "dt_best = grid_search.best_estimator_"
   ]
  },
  {
   "cell_type": "code",
   "execution_count": 180,
   "metadata": {},
   "outputs": [
    {
     "name": "stdout",
     "output_type": "stream",
     "text": [
      "The accuracy of Train Set = 0.7533535813718046\n",
      "The accuracy of Test Set = 0.6858390280941534\n"
     ]
    }
   ],
   "source": [
    "## accuracy\n",
    "print('The accuracy of Train Set =',accuracy_score(y_train,dt_best.predict(X_train)))\n",
    "print('The accuracy of Test Set =',accuracy_score(y_test,dt_best.predict(X_test)))"
   ]
  },
  {
   "cell_type": "markdown",
   "metadata": {},
   "source": [
    "- Overfitting handled\n",
    "- Further hyperparameter tuning could yield better results"
   ]
  },
  {
   "cell_type": "code",
   "execution_count": 209,
   "metadata": {},
   "outputs": [
    {
     "name": "stdout",
     "output_type": "stream",
     "text": [
      "              precision    recall  f1-score   support\n",
      "\n",
      "           0       0.40      0.35      0.37      1075\n",
      "           1       0.71      0.76      0.73      1167\n",
      "           2       0.77      0.80      0.78      1323\n",
      "           3       0.73      0.77      0.75       933\n",
      "           4       0.78      0.75      0.77       770\n",
      "\n",
      "    accuracy                           0.69      5268\n",
      "   macro avg       0.68      0.69      0.68      5268\n",
      "weighted avg       0.68      0.69      0.68      5268\n",
      "\n"
     ]
    }
   ],
   "source": [
    "## classification report\n",
    "print(classification_report(y_test,dt_best.predict(X_test)))"
   ]
  },
  {
   "cell_type": "markdown",
   "metadata": {},
   "source": [
    "## RANDOM FOREST\n",
    "- Vanilla Random Forest Classifier"
   ]
  },
  {
   "cell_type": "code",
   "execution_count": 121,
   "metadata": {},
   "outputs": [],
   "source": [
    "## importing libraries\n",
    "from sklearn.ensemble import RandomForestClassifier"
   ]
  },
  {
   "cell_type": "code",
   "execution_count": 161,
   "metadata": {},
   "outputs": [],
   "source": [
    "## instantiating random forest object\n",
    "rf = RandomForestClassifier(random_state=100, oob_score=True)"
   ]
  },
  {
   "cell_type": "code",
   "execution_count": 162,
   "metadata": {},
   "outputs": [
    {
     "name": "stdout",
     "output_type": "stream",
     "text": [
      "CPU times: user 33 s, sys: 769 ms, total: 33.8 s\n",
      "Wall time: 34.3 s\n"
     ]
    },
    {
     "data": {
      "text/plain": [
       "RandomForestClassifier(oob_score=True, random_state=100)"
      ]
     },
     "execution_count": 162,
     "metadata": {},
     "output_type": "execute_result"
    }
   ],
   "source": [
    "## fitting the model\n",
    "%%time\n",
    "rf.fit(X_train, y_train)"
   ]
  },
  {
   "cell_type": "code",
   "execution_count": 164,
   "metadata": {},
   "outputs": [
    {
     "name": "stdout",
     "output_type": "stream",
     "text": [
      "0.9992406985573272\n",
      "0.7153985063926119\n"
     ]
    }
   ],
   "source": [
    "## precision and recall scores\n",
    "print(recall_score(y_train,rf.predict(X_train),average='weighted'))\n",
    "print(precision_score(y_test,rf.predict(X_test),average='weighted'))"
   ]
  },
  {
   "cell_type": "code",
   "execution_count": 165,
   "metadata": {},
   "outputs": [
    {
     "name": "stdout",
     "output_type": "stream",
     "text": [
      "              precision    recall  f1-score   support\n",
      "\n",
      "           0       0.58      0.21      0.31      1075\n",
      "           1       0.71      0.87      0.78      1167\n",
      "           2       0.74      0.89      0.81      1323\n",
      "           3       0.75      0.87      0.81       933\n",
      "           4       0.83      0.82      0.83       770\n",
      "\n",
      "    accuracy                           0.74      5268\n",
      "   macro avg       0.72      0.73      0.71      5268\n",
      "weighted avg       0.72      0.74      0.70      5268\n",
      "\n"
     ]
    }
   ],
   "source": [
    "## classifiction report\n",
    "print(classification_report(y_test,rf.predict(X_test)))"
   ]
  },
  {
   "cell_type": "code",
   "execution_count": 166,
   "metadata": {},
   "outputs": [
    {
     "name": "stdout",
     "output_type": "stream",
     "text": [
      "The accuracy of Train Set = 0.9992406985573272\n",
      "The accuracy of Test Set = 0.7350037965072134\n"
     ]
    }
   ],
   "source": [
    "## accuracy \n",
    "print('The accuracy of Train Set =',accuracy_score(y_train,rf.predict(X_train)))\n",
    "print('The accuracy of Test Set =',accuracy_score(y_test,rf.predict(X_test)))"
   ]
  },
  {
   "cell_type": "markdown",
   "metadata": {},
   "source": [
    "- Accuracy and precision-recall scores point to over-fitting"
   ]
  },
  {
   "cell_type": "code",
   "execution_count": 199,
   "metadata": {},
   "outputs": [
    {
     "name": "stdout",
     "output_type": "stream",
     "text": [
      "Train Confusion Matrix\n",
      "[[3259    2    1    0    3]\n",
      " [   0 3432    0    0    0]\n",
      " [   0    0 3949    0    0]\n",
      " [   4    0    0 2940    0]\n",
      " [   2    0    0    0 2212]]\n",
      "****************************************************************************************************\n",
      "Test Confusion Matrix\n",
      "[[ 227  257  302  214   75]\n",
      " [  60 1017   53    9   28]\n",
      " [  35   66 1182   24   16]\n",
      " [  33   40   38  812   10]\n",
      " [  38   58   22   18  634]]\n"
     ]
    }
   ],
   "source": [
    "## confusion matrix\n",
    "print('Train Confusion Matrix')\n",
    "print(confusion_matrix(y_train,rf.predict(X_train)))\n",
    "print('*'*100)\n",
    "print('Test Confusion Matrix')\n",
    "print(confusion_matrix(y_test,rf.predict(X_test)))"
   ]
  },
  {
   "cell_type": "markdown",
   "metadata": {},
   "source": [
    "#### Let's try hyperprameter tuning"
   ]
  },
  {
   "cell_type": "code",
   "execution_count": 181,
   "metadata": {},
   "outputs": [],
   "source": [
    "## instantiating the model class\n",
    "classifier_rf = RandomForestClassifier(random_state=42,n_jobs=-1)"
   ]
  },
  {
   "cell_type": "code",
   "execution_count": 194,
   "metadata": {},
   "outputs": [],
   "source": [
    "## Creating parameter grid\n",
    "params = ({'max_depth': [30,40,50,70,90,100],\n",
    "    'min_samples_leaf': [ 20, 50, 100],\n",
    "    'max_features': [5,7,9,11],\n",
    "    'n_estimators': [10, 30, 50, 100, 200]})"
   ]
  },
  {
   "cell_type": "code",
   "execution_count": 195,
   "metadata": {},
   "outputs": [],
   "source": [
    "## Creating Grid Search\n",
    "grid_search = GridSearchCV(estimator=classifier_rf,\n",
    "          cv=4,\n",
    "          param_grid=params,\n",
    "          scoring='accuracy',verbose=1,n_jobs=-1)"
   ]
  },
  {
   "cell_type": "code",
   "execution_count": 196,
   "metadata": {},
   "outputs": [
    {
     "name": "stdout",
     "output_type": "stream",
     "text": [
      "CPU times: user 3 µs, sys: 0 ns, total: 3 µs\n",
      "Wall time: 24.8 µs\n",
      "Fitting 4 folds for each of 360 candidates, totalling 1440 fits\n"
     ]
    },
    {
     "name": "stderr",
     "output_type": "stream",
     "text": [
      "[Parallel(n_jobs=-1)]: Using backend LokyBackend with 12 concurrent workers.\n",
      "[Parallel(n_jobs=-1)]: Done  26 tasks      | elapsed:    5.3s\n",
      "[Parallel(n_jobs=-1)]: Done 176 tasks      | elapsed:   15.6s\n",
      "[Parallel(n_jobs=-1)]: Done 426 tasks      | elapsed:   33.3s\n",
      "[Parallel(n_jobs=-1)]: Done 776 tasks      | elapsed:  1.0min\n",
      "[Parallel(n_jobs=-1)]: Done 1226 tasks      | elapsed:  1.6min\n",
      "[Parallel(n_jobs=-1)]: Done 1440 out of 1440 | elapsed:  1.9min finished\n"
     ]
    },
    {
     "data": {
      "text/plain": [
       "GridSearchCV(cv=4, estimator=RandomForestClassifier(n_jobs=-1, random_state=42),\n",
       "             n_jobs=-1,\n",
       "             param_grid={'max_depth': [30, 40, 50, 70, 90, 100],\n",
       "                         'max_features': [5, 7, 9, 11],\n",
       "                         'min_samples_leaf': [20, 50, 100],\n",
       "                         'n_estimators': [10, 30, 50, 100, 200]},\n",
       "             scoring='accuracy', verbose=1)"
      ]
     },
     "execution_count": 196,
     "metadata": {},
     "output_type": "execute_result"
    }
   ],
   "source": [
    "## fitting X and y  into grid_search as we dont need gto do train-test split on random forest\n",
    "%time\n",
    "grid_search.fit(X_train,y_train)"
   ]
  },
  {
   "cell_type": "code",
   "execution_count": 197,
   "metadata": {},
   "outputs": [],
   "source": [
    "## Now let's see what is the best estimator as returned by grid search\n",
    "rf_best= grid_search.best_estimator_"
   ]
  },
  {
   "cell_type": "code",
   "execution_count": 198,
   "metadata": {},
   "outputs": [
    {
     "name": "stdout",
     "output_type": "stream",
     "text": [
      "The accuracy of Train Set = 0.25031637560111364\n",
      "The accuracy of Test Set = 0.2522779043280182\n"
     ]
    }
   ],
   "source": [
    "## accuracy\n",
    "print('The accuracy of Train Set =',accuracy_score(y_train,rf_best.predict(X_train)))\n",
    "print('The accuracy of Test Set =',accuracy_score(y_test,rf_best.predict(X_test)))"
   ]
  },
  {
   "cell_type": "markdown",
   "metadata": {},
   "source": [
    "- Accuracy has dropped after hyperparameter tuning "
   ]
  },
  {
   "cell_type": "code",
   "execution_count": 200,
   "metadata": {},
   "outputs": [
    {
     "name": "stdout",
     "output_type": "stream",
     "text": [
      "              precision    recall  f1-score   support\n",
      "\n",
      "           0       0.00      0.00      0.00      1075\n",
      "           1       0.60      0.01      0.01      1167\n",
      "           2       0.25      1.00      0.40      1323\n",
      "           3       0.00      0.00      0.00       933\n",
      "           4       0.00      0.00      0.00       770\n",
      "\n",
      "    accuracy                           0.25      5268\n",
      "   macro avg       0.17      0.20      0.08      5268\n",
      "weighted avg       0.20      0.25      0.10      5268\n",
      "\n"
     ]
    },
    {
     "name": "stderr",
     "output_type": "stream",
     "text": [
      "/Users/abhinavjoshi/opt/anaconda3/lib/python3.8/site-packages/sklearn/metrics/_classification.py:1221: UndefinedMetricWarning:\n",
      "\n",
      "Precision and F-score are ill-defined and being set to 0.0 in labels with no predicted samples. Use `zero_division` parameter to control this behavior.\n",
      "\n"
     ]
    }
   ],
   "source": [
    "## classifiction report\n",
    "print(classification_report(y_test,rf_best.predict(X_test)))"
   ]
  },
  {
   "cell_type": "markdown",
   "metadata": {},
   "source": [
    "- f1 scores have also dropped"
   ]
  },
  {
   "cell_type": "code",
   "execution_count": 201,
   "metadata": {},
   "outputs": [
    {
     "name": "stdout",
     "output_type": "stream",
     "text": [
      "Train Confusion Matrix\n",
      "[[   0    2 3263    0    0]\n",
      " [   0    7 3425    0    0]\n",
      " [   0    0 3949    0    0]\n",
      " [   0    2 2942    0    0]\n",
      " [   0   23 2191    0    0]]\n",
      "****************************************************************************************************\n",
      "Test Confusion Matrix\n",
      "[[   0    0 1075    0    0]\n",
      " [   0    6 1161    0    0]\n",
      " [   0    0 1323    0    0]\n",
      " [   0    0  933    0    0]\n",
      " [   0    4  766    0    0]]\n"
     ]
    }
   ],
   "source": [
    "## confusion matrix\n",
    "print('Train Confusion Matrix')\n",
    "print(confusion_matrix(y_train,rf_best.predict(X_train)))\n",
    "print('*'*100)\n",
    "print('Test Confusion Matrix')\n",
    "print(confusion_matrix(y_test,rf_best.predict(X_test)))"
   ]
  },
  {
   "cell_type": "markdown",
   "metadata": {},
   "source": [
    "## Naive Bayes"
   ]
  },
  {
   "cell_type": "code",
   "execution_count": 149,
   "metadata": {},
   "outputs": [],
   "source": [
    "## imporitng libraries\n",
    "from sklearn.naive_bayes import MultinomialNB"
   ]
  },
  {
   "cell_type": "code",
   "execution_count": 150,
   "metadata": {},
   "outputs": [],
   "source": [
    "## instantiate class object\n",
    "mnb = MultinomialNB()"
   ]
  },
  {
   "cell_type": "code",
   "execution_count": 151,
   "metadata": {},
   "outputs": [
    {
     "data": {
      "text/plain": [
       "MultinomialNB()"
      ]
     },
     "execution_count": 151,
     "metadata": {},
     "output_type": "execute_result"
    }
   ],
   "source": [
    "## fitting into the model\n",
    "mnb.fit(X_train,y_train)"
   ]
  },
  {
   "cell_type": "code",
   "execution_count": 153,
   "metadata": {},
   "outputs": [
    {
     "name": "stdout",
     "output_type": "stream",
     "text": [
      "The accuracy of Train Set = 0.7295621361680588\n",
      "The accuracy of Test Set = 0.6805239179954442\n"
     ]
    }
   ],
   "source": [
    "## checking accuracies of the training and the test sets\n",
    "print('The accuracy of Train Set =',accuracy_score(y_train,mnb.predict(X_train)))\n",
    "print('The accuracy of Test Set =',accuracy_score(y_test,mnb.predict(X_test)))"
   ]
  },
  {
   "cell_type": "code",
   "execution_count": 155,
   "metadata": {},
   "outputs": [
    {
     "name": "stdout",
     "output_type": "stream",
     "text": [
      "              precision    recall  f1-score   support\n",
      "\n",
      "           0       0.54      0.22      0.31      1075\n",
      "           1       0.66      0.81      0.73      1167\n",
      "           2       0.64      0.90      0.75      1323\n",
      "           3       0.74      0.81      0.77       933\n",
      "           4       0.85      0.60      0.71       770\n",
      "\n",
      "    accuracy                           0.68      5268\n",
      "   macro avg       0.69      0.67      0.65      5268\n",
      "weighted avg       0.67      0.68      0.65      5268\n",
      "\n"
     ]
    }
   ],
   "source": [
    "## classification report\n",
    "print(classification_report(y_test,mnb.predict(X_test)))"
   ]
  },
  {
   "cell_type": "code",
   "execution_count": 202,
   "metadata": {},
   "outputs": [
    {
     "name": "stdout",
     "output_type": "stream",
     "text": [
      "Train Confusion Matrix\n",
      "[[ 960  739  957  480  129]\n",
      " [  85 2974  333   16   24]\n",
      " [  74  134 3641   54   46]\n",
      " [  85   98  201 2544   16]\n",
      " [ 133  356  169  145 1411]]\n",
      "****************************************************************************************************\n",
      "Test Confusion Matrix\n",
      "[[ 235  239  360  193   48]\n",
      " [  51  942  149   11   14]\n",
      " [  34   63 1188   25   13]\n",
      " [  47   52   73  757    4]\n",
      " [  65  133   73   36  463]]\n"
     ]
    }
   ],
   "source": [
    "## confusion matrix\n",
    "print('Train Confusion Matrix')\n",
    "print(confusion_matrix(y_train,mnb.predict(X_train)))\n",
    "print('*'*100)\n",
    "print('Test Confusion Matrix')\n",
    "print(confusion_matrix(y_test,mnb.predict(X_test)))"
   ]
  },
  {
   "cell_type": "code",
   "execution_count": 203,
   "metadata": {},
   "outputs": [
    {
     "name": "stdout",
     "output_type": "stream",
     "text": [
      "              precision    recall  f1-score   support\n",
      "\n",
      "           0       0.54      0.22      0.31      1075\n",
      "           1       0.66      0.81      0.73      1167\n",
      "           2       0.64      0.90      0.75      1323\n",
      "           3       0.74      0.81      0.77       933\n",
      "           4       0.85      0.60      0.71       770\n",
      "\n",
      "    accuracy                           0.68      5268\n",
      "   macro avg       0.69      0.67      0.65      5268\n",
      "weighted avg       0.67      0.68      0.65      5268\n",
      "\n"
     ]
    }
   ],
   "source": [
    "## classifiction report\n",
    "print(classification_report(y_test,mnb.predict(X_test)))"
   ]
  },
  {
   "cell_type": "markdown",
   "metadata": {},
   "source": [
    "### Comparing the models\n",
    "- Except for the rf_best model, the f1 scores for all the other models are almost the same\n",
    "- We will be using accuracy as the major sscore for comparing the models"
   ]
  },
  {
   "cell_type": "markdown",
   "metadata": {},
   "source": [
    "print('The accuracy of the models is as follows:')"
   ]
  },
  {
   "cell_type": "code",
   "execution_count": 208,
   "metadata": {},
   "outputs": [
    {
     "name": "stdout",
     "output_type": "stream",
     "text": [
      "The test accuracies of the models is as follows:\n",
      "****************************************************************************************************\n",
      "dt_best: 0.6858390280941534\n",
      "rf_best: 0.2522779043280182\n",
      "mnb: 0.6805239179954442\n"
     ]
    }
   ],
   "source": [
    "print('The test accuracies of the models is as follows:')\n",
    "print('*'*100)\n",
    "print('dt_best:', accuracy_score(y_test,dt_best.predict(X_test)))\n",
    "print('rf_best:' ,accuracy_score(y_test,rf_best.predict(X_test)))\n",
    "print('mnb:', accuracy_score(y_test,mnb.predict(X_test)))"
   ]
  },
  {
   "cell_type": "markdown",
   "metadata": {},
   "source": [
    "- With further tinkering, these models could be fine tuned to give better performance"
   ]
  },
  {
   "cell_type": "markdown",
   "metadata": {},
   "source": [
    "- dt_best has a slightly better performance than mnb\n",
    "- But mnb is a much simpler model \n",
    "- Also, the differenence between the test and train accuracies is much smaller\n",
    "- So, we will go with the mnb model\n"
   ]
  }
 ],
 "metadata": {
  "kernelspec": {
   "display_name": "Python 3",
   "language": "python",
   "name": "python3"
  },
  "language_info": {
   "codemirror_mode": {
    "name": "ipython",
    "version": 3
   },
   "file_extension": ".py",
   "mimetype": "text/x-python",
   "name": "python",
   "nbconvert_exporter": "python",
   "pygments_lexer": "ipython3",
   "version": "3.8.5"
  }
 },
 "nbformat": 4,
 "nbformat_minor": 4
}
